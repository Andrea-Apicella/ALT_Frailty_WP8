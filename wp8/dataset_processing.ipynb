{
 "cells": [
  {
   "cell_type": "markdown",
   "metadata": {},
   "source": [
    "# Dataset pre-processing"
   ]
  },
  {
   "cell_type": "code",
   "execution_count": 1,
   "metadata": {
    "pycharm": {
     "is_executing": true
    }
   },
   "outputs": [],
   "source": [
    "import cv2\n",
    "import matplotlib.pyplot as plt\n",
    "import numpy as np\n",
    "import pandas as pd\n",
    "from collections import OrderedDict\n",
    "from tqdm import tqdm, trange\n",
    "import pre_processing.utils as utils\n",
    "from pre_processing.template_match import TemplateMatch\n",
    "from pre_processing.generate_labels import LabelsGenerator\n",
    "from pre_processing.prepare_dataset import PrepareDataset"
   ]
  },
  {
   "cell_type": "markdown",
   "metadata": {},
   "source": [
    "## Timestamps Extraction from video frames\n",
    "Extracting timestamps and datalogger times from each frame of each video"
   ]
  },
  {
   "cell_type": "code",
   "execution_count": null,
   "metadata": {},
   "outputs": [],
   "source": [
    "curr_video = './data/videos/Actor_1_Bed_PH CAM 8.mp4'\n",
    "timestamp_roi = (47, 85, 811, 150)\n",
    "tm = TemplateMatch(video_path=curr_video, element_type='timestamp', timestamp_roi=timestamp_roi)"
   ]
  },
  {
   "cell_type": "code",
   "execution_count": null,
   "metadata": {},
   "outputs": [],
   "source": [
    "cap = cv2.VideoCapture(curr_video)\n",
    "_, first_frame = cap.read()\n",
    "cap.release()\n",
    "\n",
    "tm.template_match(first_frame, test=True)"
   ]
  },
  {
   "cell_type": "code",
   "execution_count": null,
   "metadata": {},
   "outputs": [],
   "source": [
    "timestamps = tm.extract_timestamps()"
   ]
  },
  {
   "cell_type": "code",
   "execution_count": null,
   "metadata": {},
   "outputs": [],
   "source": [
    "timestamps[:10]"
   ]
  },
  {
   "cell_type": "code",
   "execution_count": null,
   "metadata": {},
   "outputs": [],
   "source": [
    "timestamps_serie = pd.Series(timestamps)\n",
    "timestamps_serie.to_excel('excel_sheets/Actor_1_Bed_PH_timestamps.xlsx',sheet_name='Actor_1_Bed_PH')"
   ]
  },
  {
   "cell_type": "markdown",
   "metadata": {},
   "source": [
    "## Labels file generation"
   ]
  },
  {
   "cell_type": "code",
   "execution_count": null,
   "metadata": {},
   "outputs": [],
   "source": [
    "gl = LabelsGenerator(json_dir=\"./data/labels_json\")\n",
    "gl.generate_labels()"
   ]
  },
  {
   "cell_type": "markdown",
   "metadata": {},
   "source": [
    "## Frames Extraction and Dataset excel creation"
   ]
  },
  {
   "cell_type": "code",
   "execution_count": 2,
   "metadata": {},
   "outputs": [
    {
     "name": "stderr",
     "output_type": "stream",
     "text": [
      "Processing folder: Actor_1_Bed_Full_PH:   0%|          | 0/1 [00:00<?, ?it/s]"
     ]
    },
    {
     "name": "stdout",
     "output_type": "stream",
     "text": [
      "['/Volumes/SSD 1TB 1/Alt Frailty WP8/video_dataset_initial_tests/Actor_1_Bed_Full_PH/Video ISO Files/Actor_1_Bed_Full_PH CAM 1.mp4', '/Volumes/SSD 1TB 1/Alt Frailty WP8/video_dataset_initial_tests/Actor_1_Bed_Full_PH/Video ISO Files/Actor_1_Bed_Full_PH CAM 2.mp4', '/Volumes/SSD 1TB 1/Alt Frailty WP8/video_dataset_initial_tests/Actor_1_Bed_Full_PH/Video ISO Files/Actor_1_Bed_Full_PH CAM 3.mp4', '/Volumes/SSD 1TB 1/Alt Frailty WP8/video_dataset_initial_tests/Actor_1_Bed_Full_PH/Video ISO Files/Actor_1_Bed_Full_PH CAM 4.mp4', '/Volumes/SSD 1TB 1/Alt Frailty WP8/video_dataset_initial_tests/Actor_1_Bed_Full_PH/Video ISO Files/Actor_1_Bed_Full_PH CAM 5.mp4', '/Volumes/SSD 1TB 1/Alt Frailty WP8/video_dataset_initial_tests/Actor_1_Bed_Full_PH/Video ISO Files/Actor_1_Bed_Full_PH CAM 6.mp4', '/Volumes/SSD 1TB 1/Alt Frailty WP8/video_dataset_initial_tests/Actor_1_Bed_Full_PH/Video ISO Files/Actor_1_Bed_Full_PH CAM 7.mp4', '/Volumes/SSD 1TB 1/Alt Frailty WP8/video_dataset_initial_tests/Actor_1_Bed_Full_PH/Video ISO Files/Actor_1_Bed_Full_PH CAM 8.mp4']\n"
     ]
    },
    {
     "name": "stderr",
     "output_type": "stream",
     "text": [
      "\n",
      "\u001b[A\n",
      "\u001b[A\n",
      "\u001b[A\n",
      "\u001b[A\n",
      "\u001b[A\n",
      "\u001b[A\n",
      "\u001b[A\n",
      "\u001b[A\n",
      "\u001b[A\n",
      "\u001b[A\n",
      "\u001b[A\n",
      "\u001b[A\n",
      "\u001b[A\n",
      "\u001b[A\n",
      "\u001b[A\n",
      "\u001b[A\n",
      "\u001b[A\n",
      "\u001b[A\n",
      "\u001b[A\n",
      "\u001b[A\n",
      "\u001b[A\n",
      "\u001b[A\n",
      "\u001b[A\n",
      "\u001b[A\n",
      "\u001b[A\n",
      "\u001b[A\n",
      "\u001b[A\n",
      "\u001b[A\n",
      "\u001b[A\n",
      "\u001b[A\n",
      "\u001b[A\n",
      "\u001b[A\n",
      "\u001b[A\n",
      "\u001b[A\n",
      "\u001b[A\n",
      "\u001b[A\n",
      "\u001b[A\n",
      "\u001b[A\n",
      "\u001b[A\n",
      "\u001b[A\n",
      "\u001b[A\n",
      "\u001b[A\n",
      "\u001b[A\n",
      "\u001b[A\n",
      "\u001b[A\n",
      "\u001b[A\n",
      "\u001b[A\n",
      "\u001b[A\n",
      " 22%|██▎       | 1107/4920 [00:05<00:19, 198.98it/s]\n",
      "Extracting frames from: Actor_1_Bed_Full_PH_CAM_1.mp4:   0%|          | 0/8 [00:05<?, ?it/s]\n",
      "Processing folder: Actor_1_Bed_Full_PH:   0%|          | 0/1 [00:05<?, ?it/s]\n"
     ]
    },
    {
     "ename": "KeyboardInterrupt",
     "evalue": "",
     "output_type": "error",
     "traceback": [
      "\u001b[0;31m---------------------------------------------------------------------------\u001b[0m",
      "\u001b[0;31mKeyboardInterrupt\u001b[0m                         Traceback (most recent call last)",
      "\u001b[1;32m/Users/andrea/Documents/Github/WP8_refactoring/wp8/dataset_processing.ipynb Cell 12'\u001b[0m in \u001b[0;36m<cell line: 5>\u001b[0;34m()\u001b[0m\n\u001b[1;32m      <a href='vscode-notebook-cell:/Users/andrea/Documents/Github/WP8_refactoring/wp8/dataset_processing.ipynb#ch0000011?line=1'>2</a>\u001b[0m frames_folder \u001b[39m=\u001b[39m \u001b[39m'\u001b[39m\u001b[39m/Volumes/SSD 1TB 1/Alt Frailty WP8/wp8_dataset_frames\u001b[39m\u001b[39m'\u001b[39m\n\u001b[1;32m      <a href='vscode-notebook-cell:/Users/andrea/Documents/Github/WP8_refactoring/wp8/dataset_processing.ipynb#ch0000011?line=3'>4</a>\u001b[0m ds \u001b[39m=\u001b[39m PrepareDataset(videos_folder\u001b[39m=\u001b[39mvideos_folder, frames_folder \u001b[39m=\u001b[39m frames_folder)\n\u001b[0;32m----> <a href='vscode-notebook-cell:/Users/andrea/Documents/Github/WP8_refactoring/wp8/dataset_processing.ipynb#ch0000011?line=4'>5</a>\u001b[0m ds\u001b[39m.\u001b[39;49mextract_frames()\n",
      "File \u001b[0;32m~/Documents/Github/WP8_refactoring/wp8/pre_processing/prepare_dataset.py:32\u001b[0m, in \u001b[0;36mPrepareDataset.extract_frames\u001b[0;34m(self)\u001b[0m\n\u001b[1;32m     <a href='file:///Users/andrea/Documents/Github/WP8_refactoring/wp8/pre_processing/prepare_dataset.py?line=29'>30</a>\u001b[0m n_frames \u001b[39m=\u001b[39m \u001b[39mint\u001b[39m(cap\u001b[39m.\u001b[39mget(cv2\u001b[39m.\u001b[39mCAP_PROP_FRAME_COUNT))\n\u001b[1;32m     <a href='file:///Users/andrea/Documents/Github/WP8_refactoring/wp8/pre_processing/prepare_dataset.py?line=30'>31</a>\u001b[0m \u001b[39mfor\u001b[39;00m f \u001b[39min\u001b[39;00m trange(n_frames):\n\u001b[0;32m---> <a href='file:///Users/andrea/Documents/Github/WP8_refactoring/wp8/pre_processing/prepare_dataset.py?line=31'>32</a>\u001b[0m     ret, frame \u001b[39m=\u001b[39m cap\u001b[39m.\u001b[39;49mread()\n\u001b[1;32m     <a href='file:///Users/andrea/Documents/Github/WP8_refactoring/wp8/pre_processing/prepare_dataset.py?line=32'>33</a>\u001b[0m     \u001b[39mif\u001b[39;00m \u001b[39mnot\u001b[39;00m ret:\n\u001b[1;32m     <a href='file:///Users/andrea/Documents/Github/WP8_refactoring/wp8/pre_processing/prepare_dataset.py?line=33'>34</a>\u001b[0m         \u001b[39mbreak\u001b[39;00m\n",
      "\u001b[0;31mKeyboardInterrupt\u001b[0m: "
     ]
    }
   ],
   "source": [
    "videos_folder='/Volumes/SSD 1TB 1/Alt Frailty WP8/video_dataset_initial_tests'\n",
    "frames_folder = '/Volumes/SSD 1TB 1/Alt Frailty WP8/wp8_dataset_frames'\n",
    "\n",
    "ds = PrepareDataset(videos_folder=videos_folder, frames_folder = frames_folder)\n",
    "ds.extract_frames()"
   ]
  },
  {
   "cell_type": "code",
   "execution_count": 3,
   "metadata": {},
   "outputs": [],
   "source": [
    "df = pd.read_excel(\"excel_sheets/labels/labels.xlsx\",\n",
    "                   sheet_name=\"actor_1_bed_full_ph\", index_col=0)\n",
    "\n",
    "# df1\n",
    "\n",
    "# augmented = pd.concat([df] * 7, ignore_index=True)\n",
    "# augmented"
   ]
  },
  {
   "cell_type": "code",
   "execution_count": 7,
   "metadata": {},
   "outputs": [
    {
     "data": {
      "text/plain": [
       "(39360, 3)"
      ]
     },
     "execution_count": 7,
     "metadata": {},
     "output_type": "execute_result"
    }
   ],
   "source": [
    "df.shape\n",
    "df1 = pd.concat([df]*8)\n",
    "df1.shape"
   ]
  },
  {
   "cell_type": "code",
   "execution_count": 8,
   "metadata": {},
   "outputs": [],
   "source": [
    "names = [\"test\"] * 4920"
   ]
  },
  {
   "cell_type": "code",
   "execution_count": 9,
   "metadata": {},
   "outputs": [
    {
     "data": {
      "text/html": [
       "<div>\n",
       "<style scoped>\n",
       "    .dataframe tbody tr th:only-of-type {\n",
       "        vertical-align: middle;\n",
       "    }\n",
       "\n",
       "    .dataframe tbody tr th {\n",
       "        vertical-align: top;\n",
       "    }\n",
       "\n",
       "    .dataframe thead th {\n",
       "        text-align: right;\n",
       "    }\n",
       "</style>\n",
       "<table border=\"1\" class=\"dataframe\">\n",
       "  <thead>\n",
       "    <tr style=\"text-align: right;\">\n",
       "      <th></th>\n",
       "      <th>micro_labels</th>\n",
       "      <th>macro_labels</th>\n",
       "      <th>ar_labels</th>\n",
       "      <th>frame_name</th>\n",
       "    </tr>\n",
       "  </thead>\n",
       "  <tbody>\n",
       "    <tr>\n",
       "      <th>0</th>\n",
       "      <td>lie_still</td>\n",
       "      <td>lying_down</td>\n",
       "      <td>actor_repositioning</td>\n",
       "      <td>test</td>\n",
       "    </tr>\n",
       "    <tr>\n",
       "      <th>1</th>\n",
       "      <td>lie_still</td>\n",
       "      <td>lying_down</td>\n",
       "      <td>actor_repositioning</td>\n",
       "      <td>test</td>\n",
       "    </tr>\n",
       "    <tr>\n",
       "      <th>2</th>\n",
       "      <td>lie_still</td>\n",
       "      <td>lying_down</td>\n",
       "      <td>actor_repositioning</td>\n",
       "      <td>test</td>\n",
       "    </tr>\n",
       "    <tr>\n",
       "      <th>3</th>\n",
       "      <td>lie_still</td>\n",
       "      <td>lying_down</td>\n",
       "      <td>actor_repositioning</td>\n",
       "      <td>test</td>\n",
       "    </tr>\n",
       "    <tr>\n",
       "      <th>4</th>\n",
       "      <td>lie_still</td>\n",
       "      <td>lying_down</td>\n",
       "      <td>actor_repositioning</td>\n",
       "      <td>test</td>\n",
       "    </tr>\n",
       "    <tr>\n",
       "      <th>...</th>\n",
       "      <td>...</td>\n",
       "      <td>...</td>\n",
       "      <td>...</td>\n",
       "      <td>...</td>\n",
       "    </tr>\n",
       "    <tr>\n",
       "      <th>4915</th>\n",
       "      <td>stand_up_from_floor</td>\n",
       "      <td>adl</td>\n",
       "      <td>actor_repositioning</td>\n",
       "      <td>test</td>\n",
       "    </tr>\n",
       "    <tr>\n",
       "      <th>4916</th>\n",
       "      <td>stand_up_from_floor</td>\n",
       "      <td>adl</td>\n",
       "      <td>actor_repositioning</td>\n",
       "      <td>test</td>\n",
       "    </tr>\n",
       "    <tr>\n",
       "      <th>4917</th>\n",
       "      <td>stand_up_from_floor</td>\n",
       "      <td>adl</td>\n",
       "      <td>actor_repositioning</td>\n",
       "      <td>test</td>\n",
       "    </tr>\n",
       "    <tr>\n",
       "      <th>4918</th>\n",
       "      <td>stand_up_from_floor</td>\n",
       "      <td>adl</td>\n",
       "      <td>actor_repositioning</td>\n",
       "      <td>test</td>\n",
       "    </tr>\n",
       "    <tr>\n",
       "      <th>4919</th>\n",
       "      <td>stand_up_from_floor</td>\n",
       "      <td>adl</td>\n",
       "      <td>actor_repositioning</td>\n",
       "      <td>test</td>\n",
       "    </tr>\n",
       "  </tbody>\n",
       "</table>\n",
       "<p>39360 rows × 4 columns</p>\n",
       "</div>"
      ],
      "text/plain": [
       "             micro_labels macro_labels            ar_labels frame_name\n",
       "0               lie_still   lying_down  actor_repositioning       test\n",
       "1               lie_still   lying_down  actor_repositioning       test\n",
       "2               lie_still   lying_down  actor_repositioning       test\n",
       "3               lie_still   lying_down  actor_repositioning       test\n",
       "4               lie_still   lying_down  actor_repositioning       test\n",
       "...                   ...          ...                  ...        ...\n",
       "4915  stand_up_from_floor          adl  actor_repositioning       test\n",
       "4916  stand_up_from_floor          adl  actor_repositioning       test\n",
       "4917  stand_up_from_floor          adl  actor_repositioning       test\n",
       "4918  stand_up_from_floor          adl  actor_repositioning       test\n",
       "4919  stand_up_from_floor          adl  actor_repositioning       test\n",
       "\n",
       "[39360 rows x 4 columns]"
      ]
     },
     "execution_count": 9,
     "metadata": {},
     "output_type": "execute_result"
    }
   ],
   "source": [
    "df1[\"frame_name\"] = pd.Series(names)\n"
   ]
  },
  {
   "cell_type": "code",
   "execution_count": null,
   "metadata": {},
   "outputs": [],
   "source": []
  }
 ],
 "metadata": {
  "interpreter": {
   "hash": "045da2998f02dde6c755b0fa2e74d8766d7d056d6163358ab445ad432d6df67f"
  },
  "kernelspec": {
   "display_name": "Python 3 (ipykernel)",
   "language": "python",
   "name": "python3"
  },
  "language_info": {
   "codemirror_mode": {
    "name": "ipython",
    "version": 3
   },
   "file_extension": ".py",
   "mimetype": "text/x-python",
   "name": "python",
   "nbconvert_exporter": "python",
   "pygments_lexer": "ipython3",
   "version": "3.10.4"
  }
 },
 "nbformat": 4,
 "nbformat_minor": 2
}
