{
 "cells": [
  {
   "cell_type": "markdown",
   "metadata": {},
   "source": [
    "# Dataset pre-processing"
   ]
  },
  {
   "cell_type": "markdown",
   "metadata": {},
   "source": [
    "## Imports"
   ]
  },
  {
   "cell_type": "code",
   "execution_count": 1,
   "metadata": {},
   "outputs": [],
   "source": [
    "import cv2\n",
    "import matplotlib.pyplot as plt\n",
    "import numpy as np\n",
    "import pandas as pd\n",
    "from collections import OrderedDict\n",
    "from tqdm import tqdm, trange\n",
    "import wp8.pre_processing.utils as utils\n",
    "from wp8.pre_processing.template_match import TemplateMatch\n",
    "from wp8.pre_processing.generate_labels import LabelsGenerator"
   ]
  },
  {
   "cell_type": "markdown",
   "metadata": {},
   "source": [
    "## Timestamps Extraction from video frames\n",
    "Extracting timestamps and datalogger times from each frame of each video"
   ]
  },
  {
   "cell_type": "code",
   "execution_count": null,
   "metadata": {},
   "outputs": [],
   "source": [
    "curr_video = './data/videos/Actor_1_Bed_PH CAM 8.mp4'\n",
    "timestamp_roi = (47, 85, 811, 150)\n",
    "tm = TemplateMatch(video_path=curr_video, element_type='timestamp', timestamp_roi=timestamp_roi)"
   ]
  },
  {
   "cell_type": "code",
   "execution_count": null,
   "metadata": {},
   "outputs": [],
   "source": [
    "cap = cv2.VideoCapture(curr_video)\n",
    "_, first_frame = cap.read()\n",
    "cap.release()\n",
    "\n",
    "tm.template_match(first_frame, test=True)"
   ]
  },
  {
   "cell_type": "code",
   "execution_count": null,
   "metadata": {},
   "outputs": [],
   "source": [
    "timestamps = tm.extract_timestamps()"
   ]
  },
  {
   "cell_type": "code",
   "execution_count": null,
   "metadata": {},
   "outputs": [],
   "source": [
    "timestamps[:10]"
   ]
  },
  {
   "cell_type": "code",
   "execution_count": null,
   "metadata": {},
   "outputs": [],
   "source": [
    "timestamps_serie = pd.Series(timestamps)\n",
    "timestamps_serie.to_excel('excel_sheets/Actor_1_Bed_PH_timestamps.xlsx',sheet_name='Actor_1_Bed_PH')"
   ]
  },
  {
   "cell_type": "markdown",
   "metadata": {},
   "source": [
    "## Labels file generation"
   ]
  },
  {
   "cell_type": "code",
   "execution_count": 3,
   "metadata": {},
   "outputs": [
    {
     "name": "stdout",
     "output_type": "stream",
     "text": [
      "[INFO] Found 39 JSON files\n"
     ]
    },
    {
     "name": "stderr",
     "output_type": "stream",
     "text": [
      "  0%|          | 0/39 [00:00<?, ?it/s]\n"
     ]
    },
    {
     "ename": "FileNotFoundError",
     "evalue": "[Errno 2] No such file or directory: '/Users/andrea/Documents/Github/WP8_refactoring/wp8/excel_sheets/labels/labels.xlsx'",
     "output_type": "error",
     "traceback": [
      "\u001b[0;31m---------------------------------------------------------------------------\u001b[0m",
      "\u001b[0;31mFileNotFoundError\u001b[0m                         Traceback (most recent call last)",
      "\u001b[1;32m/Users/andrea/Documents/Github/WP8_refactoring/wp8/dataset_processing.ipynb Cell 11'\u001b[0m in \u001b[0;36m<cell line: 2>\u001b[0;34m()\u001b[0m\n\u001b[1;32m      <a href='vscode-notebook-cell:/Users/andrea/Documents/Github/WP8_refactoring/wp8/dataset_processing.ipynb#ch0000010?line=0'>1</a>\u001b[0m gl \u001b[39m=\u001b[39m LabelsGenerator(json_dir\u001b[39m=\u001b[39m\u001b[39m\"\u001b[39m\u001b[39m./data/labels_json\u001b[39m\u001b[39m\"\u001b[39m)\n\u001b[0;32m----> <a href='vscode-notebook-cell:/Users/andrea/Documents/Github/WP8_refactoring/wp8/dataset_processing.ipynb#ch0000010?line=1'>2</a>\u001b[0m gl\u001b[39m.\u001b[39;49mgenerate_labels()\n",
      "File \u001b[0;32m~/Documents/Github/WP8_refactoring/wp8/pre_processing/generate_labels.py:142\u001b[0m, in \u001b[0;36mLabelsGenerator.generate_labels\u001b[0;34m(self)\u001b[0m\n\u001b[1;32m    <a href='file:///Users/andrea/Documents/Github/WP8_refactoring/wp8/pre_processing/generate_labels.py?line=139'>140</a>\u001b[0m \u001b[39m\"\"\"Generate labels excel file from multiple JSON files in the specified folder\"\"\"\u001b[39;00m\n\u001b[1;32m    <a href='file:///Users/andrea/Documents/Github/WP8_refactoring/wp8/pre_processing/generate_labels.py?line=140'>141</a>\u001b[0m \u001b[39mfor\u001b[39;00m _, file \u001b[39min\u001b[39;00m \u001b[39menumerate\u001b[39m(tqdm(\u001b[39mself\u001b[39m\u001b[39m.\u001b[39mjson_files_paths)):\n\u001b[0;32m--> <a href='file:///Users/andrea/Documents/Github/WP8_refactoring/wp8/pre_processing/generate_labels.py?line=141'>142</a>\u001b[0m     \u001b[39mself\u001b[39;49m\u001b[39m.\u001b[39;49mgen_labels_single_file(file)\n",
      "File \u001b[0;32m~/Documents/Github/WP8_refactoring/wp8/pre_processing/generate_labels.py:131\u001b[0m, in \u001b[0;36mLabelsGenerator.gen_labels_single_file\u001b[0;34m(self, file)\u001b[0m\n\u001b[1;32m    <a href='file:///Users/andrea/Documents/Github/WP8_refactoring/wp8/pre_processing/generate_labels.py?line=126'>127</a>\u001b[0m labels \u001b[39m=\u001b[39m pd\u001b[39m.\u001b[39mDataFrame(data\u001b[39m=\u001b[39md)\n\u001b[1;32m    <a href='file:///Users/andrea/Documents/Github/WP8_refactoring/wp8/pre_processing/generate_labels.py?line=128'>129</a>\u001b[0m sheet_name \u001b[39m=\u001b[39m \u001b[39mself\u001b[39m\u001b[39m.\u001b[39mlabels_dict[\u001b[39m\"\u001b[39m\u001b[39mvideoName\u001b[39m\u001b[39m\"\u001b[39m]\u001b[39m.\u001b[39mreplace(\u001b[39m\"\u001b[39m\u001b[39m.mp4\u001b[39m\u001b[39m\"\u001b[39m, \u001b[39m\"\u001b[39m\u001b[39m\"\u001b[39m)\u001b[39m.\u001b[39mlower()\n\u001b[0;32m--> <a href='file:///Users/andrea/Documents/Github/WP8_refactoring/wp8/pre_processing/generate_labels.py?line=130'>131</a>\u001b[0m \u001b[39mwith\u001b[39;00m pd\u001b[39m.\u001b[39;49mExcelWriter(\n\u001b[1;32m    <a href='file:///Users/andrea/Documents/Github/WP8_refactoring/wp8/pre_processing/generate_labels.py?line=131'>132</a>\u001b[0m     \u001b[39m\"\u001b[39;49m\u001b[39m/Users/andrea/Documents/Github/WP8_refactoring/wp8/excel_sheets/labels/labels.xlsx\u001b[39;49m\u001b[39m\"\u001b[39;49m,\n\u001b[1;32m    <a href='file:///Users/andrea/Documents/Github/WP8_refactoring/wp8/pre_processing/generate_labels.py?line=132'>133</a>\u001b[0m     engine\u001b[39m=\u001b[39;49m\u001b[39m\"\u001b[39;49m\u001b[39mopenpyxl\u001b[39;49m\u001b[39m\"\u001b[39;49m,\n\u001b[1;32m    <a href='file:///Users/andrea/Documents/Github/WP8_refactoring/wp8/pre_processing/generate_labels.py?line=133'>134</a>\u001b[0m     mode\u001b[39m=\u001b[39;49m\u001b[39m\"\u001b[39;49m\u001b[39ma\u001b[39;49m\u001b[39m\"\u001b[39;49m,\n\u001b[1;32m    <a href='file:///Users/andrea/Documents/Github/WP8_refactoring/wp8/pre_processing/generate_labels.py?line=134'>135</a>\u001b[0m     if_sheet_exists\u001b[39m=\u001b[39;49m\u001b[39m\"\u001b[39;49m\u001b[39mreplace\u001b[39;49m\u001b[39m\"\u001b[39;49m,\n\u001b[1;32m    <a href='file:///Users/andrea/Documents/Github/WP8_refactoring/wp8/pre_processing/generate_labels.py?line=135'>136</a>\u001b[0m ) \u001b[39mas\u001b[39;00m writer:\n\u001b[1;32m    <a href='file:///Users/andrea/Documents/Github/WP8_refactoring/wp8/pre_processing/generate_labels.py?line=136'>137</a>\u001b[0m     labels\u001b[39m.\u001b[39mto_excel(writer, sheet_name, index\u001b[39m=\u001b[39m\u001b[39mTrue\u001b[39;00m)\n",
      "File \u001b[0;32m~/miniforge3/envs/ml/lib/python3.10/site-packages/pandas/io/excel/_openpyxl.py:53\u001b[0m, in \u001b[0;36mOpenpyxlWriter.__init__\u001b[0;34m(self, path, engine, date_format, datetime_format, mode, storage_options, if_sheet_exists, engine_kwargs, **kwargs)\u001b[0m\n\u001b[1;32m     <a href='file:///Users/andrea/miniforge3/envs/ml/lib/python3.10/site-packages/pandas/io/excel/_openpyxl.py?line=48'>49</a>\u001b[0m \u001b[39mfrom\u001b[39;00m \u001b[39mopenpyxl\u001b[39;00m\u001b[39m.\u001b[39;00m\u001b[39mworkbook\u001b[39;00m \u001b[39mimport\u001b[39;00m Workbook\n\u001b[1;32m     <a href='file:///Users/andrea/miniforge3/envs/ml/lib/python3.10/site-packages/pandas/io/excel/_openpyxl.py?line=50'>51</a>\u001b[0m engine_kwargs \u001b[39m=\u001b[39m combine_kwargs(engine_kwargs, kwargs)\n\u001b[0;32m---> <a href='file:///Users/andrea/miniforge3/envs/ml/lib/python3.10/site-packages/pandas/io/excel/_openpyxl.py?line=52'>53</a>\u001b[0m \u001b[39msuper\u001b[39;49m()\u001b[39m.\u001b[39;49m\u001b[39m__init__\u001b[39;49m(\n\u001b[1;32m     <a href='file:///Users/andrea/miniforge3/envs/ml/lib/python3.10/site-packages/pandas/io/excel/_openpyxl.py?line=53'>54</a>\u001b[0m     path,\n\u001b[1;32m     <a href='file:///Users/andrea/miniforge3/envs/ml/lib/python3.10/site-packages/pandas/io/excel/_openpyxl.py?line=54'>55</a>\u001b[0m     mode\u001b[39m=\u001b[39;49mmode,\n\u001b[1;32m     <a href='file:///Users/andrea/miniforge3/envs/ml/lib/python3.10/site-packages/pandas/io/excel/_openpyxl.py?line=55'>56</a>\u001b[0m     storage_options\u001b[39m=\u001b[39;49mstorage_options,\n\u001b[1;32m     <a href='file:///Users/andrea/miniforge3/envs/ml/lib/python3.10/site-packages/pandas/io/excel/_openpyxl.py?line=56'>57</a>\u001b[0m     if_sheet_exists\u001b[39m=\u001b[39;49mif_sheet_exists,\n\u001b[1;32m     <a href='file:///Users/andrea/miniforge3/envs/ml/lib/python3.10/site-packages/pandas/io/excel/_openpyxl.py?line=57'>58</a>\u001b[0m     engine_kwargs\u001b[39m=\u001b[39;49mengine_kwargs,\n\u001b[1;32m     <a href='file:///Users/andrea/miniforge3/envs/ml/lib/python3.10/site-packages/pandas/io/excel/_openpyxl.py?line=58'>59</a>\u001b[0m )\n\u001b[1;32m     <a href='file:///Users/andrea/miniforge3/envs/ml/lib/python3.10/site-packages/pandas/io/excel/_openpyxl.py?line=60'>61</a>\u001b[0m \u001b[39m# ExcelWriter replaced \"a\" by \"r+\" to allow us to first read the excel file from\u001b[39;00m\n\u001b[1;32m     <a href='file:///Users/andrea/miniforge3/envs/ml/lib/python3.10/site-packages/pandas/io/excel/_openpyxl.py?line=61'>62</a>\u001b[0m \u001b[39m# the file and later write to it\u001b[39;00m\n\u001b[1;32m     <a href='file:///Users/andrea/miniforge3/envs/ml/lib/python3.10/site-packages/pandas/io/excel/_openpyxl.py?line=62'>63</a>\u001b[0m \u001b[39mif\u001b[39;00m \u001b[39m\"\u001b[39m\u001b[39mr+\u001b[39m\u001b[39m\"\u001b[39m \u001b[39min\u001b[39;00m \u001b[39mself\u001b[39m\u001b[39m.\u001b[39mmode:  \u001b[39m# Load from existing workbook\u001b[39;00m\n",
      "File \u001b[0;32m~/miniforge3/envs/ml/lib/python3.10/site-packages/pandas/io/excel/_base.py:1106\u001b[0m, in \u001b[0;36mExcelWriter.__init__\u001b[0;34m(self, path, engine, date_format, datetime_format, mode, storage_options, if_sheet_exists, engine_kwargs, **kwargs)\u001b[0m\n\u001b[1;32m   <a href='file:///Users/andrea/miniforge3/envs/ml/lib/python3.10/site-packages/pandas/io/excel/_base.py?line=1101'>1102</a>\u001b[0m \u001b[39mself\u001b[39m\u001b[39m.\u001b[39mhandles \u001b[39m=\u001b[39m IOHandles(\n\u001b[1;32m   <a href='file:///Users/andrea/miniforge3/envs/ml/lib/python3.10/site-packages/pandas/io/excel/_base.py?line=1102'>1103</a>\u001b[0m     cast(IO[\u001b[39mbytes\u001b[39m], path), compression\u001b[39m=\u001b[39m{\u001b[39m\"\u001b[39m\u001b[39mcompression\u001b[39m\u001b[39m\"\u001b[39m: \u001b[39mNone\u001b[39;00m}\n\u001b[1;32m   <a href='file:///Users/andrea/miniforge3/envs/ml/lib/python3.10/site-packages/pandas/io/excel/_base.py?line=1103'>1104</a>\u001b[0m )\n\u001b[1;32m   <a href='file:///Users/andrea/miniforge3/envs/ml/lib/python3.10/site-packages/pandas/io/excel/_base.py?line=1104'>1105</a>\u001b[0m \u001b[39mif\u001b[39;00m \u001b[39mnot\u001b[39;00m \u001b[39misinstance\u001b[39m(path, ExcelWriter):\n\u001b[0;32m-> <a href='file:///Users/andrea/miniforge3/envs/ml/lib/python3.10/site-packages/pandas/io/excel/_base.py?line=1105'>1106</a>\u001b[0m     \u001b[39mself\u001b[39m\u001b[39m.\u001b[39mhandles \u001b[39m=\u001b[39m get_handle(\n\u001b[1;32m   <a href='file:///Users/andrea/miniforge3/envs/ml/lib/python3.10/site-packages/pandas/io/excel/_base.py?line=1106'>1107</a>\u001b[0m         path, mode, storage_options\u001b[39m=\u001b[39;49mstorage_options, is_text\u001b[39m=\u001b[39;49m\u001b[39mFalse\u001b[39;49;00m\n\u001b[1;32m   <a href='file:///Users/andrea/miniforge3/envs/ml/lib/python3.10/site-packages/pandas/io/excel/_base.py?line=1107'>1108</a>\u001b[0m     )\n\u001b[1;32m   <a href='file:///Users/andrea/miniforge3/envs/ml/lib/python3.10/site-packages/pandas/io/excel/_base.py?line=1108'>1109</a>\u001b[0m \u001b[39mself\u001b[39m\u001b[39m.\u001b[39msheets: \u001b[39mdict\u001b[39m[\u001b[39mstr\u001b[39m, Any] \u001b[39m=\u001b[39m {}\n\u001b[1;32m   <a href='file:///Users/andrea/miniforge3/envs/ml/lib/python3.10/site-packages/pandas/io/excel/_base.py?line=1109'>1110</a>\u001b[0m \u001b[39mself\u001b[39m\u001b[39m.\u001b[39mcur_sheet \u001b[39m=\u001b[39m \u001b[39mNone\u001b[39;00m\n",
      "File \u001b[0;32m~/miniforge3/envs/ml/lib/python3.10/site-packages/pandas/io/common.py:798\u001b[0m, in \u001b[0;36mget_handle\u001b[0;34m(path_or_buf, mode, encoding, compression, memory_map, is_text, errors, storage_options)\u001b[0m\n\u001b[1;32m    <a href='file:///Users/andrea/miniforge3/envs/ml/lib/python3.10/site-packages/pandas/io/common.py?line=788'>789</a>\u001b[0m         handle \u001b[39m=\u001b[39m \u001b[39mopen\u001b[39m(\n\u001b[1;32m    <a href='file:///Users/andrea/miniforge3/envs/ml/lib/python3.10/site-packages/pandas/io/common.py?line=789'>790</a>\u001b[0m             handle,\n\u001b[1;32m    <a href='file:///Users/andrea/miniforge3/envs/ml/lib/python3.10/site-packages/pandas/io/common.py?line=790'>791</a>\u001b[0m             ioargs\u001b[39m.\u001b[39mmode,\n\u001b[0;32m   (...)\u001b[0m\n\u001b[1;32m    <a href='file:///Users/andrea/miniforge3/envs/ml/lib/python3.10/site-packages/pandas/io/common.py?line=793'>794</a>\u001b[0m             newline\u001b[39m=\u001b[39m\u001b[39m\"\u001b[39m\u001b[39m\"\u001b[39m,\n\u001b[1;32m    <a href='file:///Users/andrea/miniforge3/envs/ml/lib/python3.10/site-packages/pandas/io/common.py?line=794'>795</a>\u001b[0m         )\n\u001b[1;32m    <a href='file:///Users/andrea/miniforge3/envs/ml/lib/python3.10/site-packages/pandas/io/common.py?line=795'>796</a>\u001b[0m     \u001b[39melse\u001b[39;00m:\n\u001b[1;32m    <a href='file:///Users/andrea/miniforge3/envs/ml/lib/python3.10/site-packages/pandas/io/common.py?line=796'>797</a>\u001b[0m         \u001b[39m# Binary mode\u001b[39;00m\n\u001b[0;32m--> <a href='file:///Users/andrea/miniforge3/envs/ml/lib/python3.10/site-packages/pandas/io/common.py?line=797'>798</a>\u001b[0m         handle \u001b[39m=\u001b[39m \u001b[39mopen\u001b[39;49m(handle, ioargs\u001b[39m.\u001b[39;49mmode)\n\u001b[1;32m    <a href='file:///Users/andrea/miniforge3/envs/ml/lib/python3.10/site-packages/pandas/io/common.py?line=798'>799</a>\u001b[0m     handles\u001b[39m.\u001b[39mappend(handle)\n\u001b[1;32m    <a href='file:///Users/andrea/miniforge3/envs/ml/lib/python3.10/site-packages/pandas/io/common.py?line=800'>801</a>\u001b[0m \u001b[39m# Convert BytesIO or file objects passed with an encoding\u001b[39;00m\n",
      "\u001b[0;31mFileNotFoundError\u001b[0m: [Errno 2] No such file or directory: '/Users/andrea/Documents/Github/WP8_refactoring/wp8/excel_sheets/labels/labels.xlsx'"
     ]
    }
   ],
   "source": [
    "gl = LabelsGenerator(json_dir=\"./data/labels_json\")\n",
    "gl.generate_labels()"
   ]
  },
  {
   "cell_type": "code",
   "execution_count": null,
   "metadata": {},
   "outputs": [],
   "source": []
  }
 ],
 "metadata": {
  "interpreter": {
   "hash": "045da2998f02dde6c755b0fa2e74d8766d7d056d6163358ab445ad432d6df67f"
  },
  "kernelspec": {
   "display_name": "Python 3.10.2 ('ml')",
   "language": "python",
   "name": "python3"
  },
  "language_info": {
   "codemirror_mode": {
    "name": "ipython",
    "version": 3
   },
   "file_extension": ".py",
   "mimetype": "text/x-python",
   "name": "python",
   "nbconvert_exporter": "python",
   "pygments_lexer": "ipython3",
   "version": "3.10.4"
  },
  "orig_nbformat": 4
 },
 "nbformat": 4,
 "nbformat_minor": 2
}
