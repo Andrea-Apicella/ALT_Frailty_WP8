{
 "cells": [
  {
   "cell_type": "markdown",
   "metadata": {},
   "source": [
    "# Dataset pre-processing"
   ]
  },
  {
   "cell_type": "code",
   "execution_count": 1,
   "metadata": {
    "pycharm": {
     "is_executing": true
    }
   },
   "outputs": [],
   "source": [
    "import cv2\n",
    "import matplotlib.pyplot as plt\n",
    "import numpy as np\n",
    "import pandas as pd\n",
    "import tensorflow as tf\n",
    "from collections import OrderedDict\n",
    "from tqdm import tqdm, trange\n",
    "import wp8.pre_processing.utils as utils\n",
    "# from pre_processing.template_match import TemplateMatch\n",
    "from wp8.pre_processing.generate_labels import LabelsGenerator\n",
    "from wp8.pre_processing.process_dataset import ProcessDataset"
   ]
  },
  {
   "cell_type": "markdown",
   "metadata": {},
   "source": [
    "## Timestamps Extraction from video frames\n",
    "Extracting timestamps and datalogger times from each frame of each video"
   ]
  },
  {
   "cell_type": "code",
   "execution_count": null,
   "metadata": {},
   "outputs": [],
   "source": [
    "curr_video = './data/videos/Actor_1_Bed_PH CAM 8.mp4'\n",
    "timestamp_roi = (47, 85, 811, 150)\n",
    "tm = TemplateMatch(video_path=curr_video, element_type='timestamp', timestamp_roi=timestamp_roi)\n"
   ]
  },
  {
   "cell_type": "code",
   "execution_count": null,
   "metadata": {},
   "outputs": [],
   "source": [
    "cap = cv2.VideoCapture(curr_video)\n",
    "_, first_frame = cap.read()\n",
    "cap.release()\n",
    "\n",
    "tm.template_match(first_frame, test=True)"
   ]
  },
  {
   "cell_type": "code",
   "execution_count": null,
   "metadata": {},
   "outputs": [],
   "source": [
    "timestamps = tm.extract_timestamps()"
   ]
  },
  {
   "cell_type": "code",
   "execution_count": null,
   "metadata": {},
   "outputs": [],
   "source": [
    "timestamps[:10]"
   ]
  },
  {
   "cell_type": "code",
   "execution_count": null,
   "metadata": {},
   "outputs": [],
   "source": [
    "timestamps_serie = pd.Series(timestamps)\n",
    "timestamps_serie.to_excel('outputs/Actor_1_Bed_PH_timestamps.xlsx',sheet_name='Actor_1_Bed_PH')"
   ]
  },
  {
   "cell_type": "markdown",
   "metadata": {},
   "source": [
    "## Labels file generation"
   ]
  },
  {
   "cell_type": "code",
   "execution_count": 2,
   "metadata": {},
   "outputs": [
    {
     "name": "stdout",
     "output_type": "stream",
     "text": [
      "[INFO] Found 50 JSON files\n"
     ]
    },
    {
     "name": "stderr",
     "output_type": "stream",
     "text": [
      "100%|██████████| 50/50 [06:26<00:00,  7.74s/it]\n"
     ]
    }
   ],
   "source": [
    "gl = LabelsGenerator(json_dir=\"../data/labels_json/\")\n",
    "gl.generate_labels()"
   ]
  },
  {
   "cell_type": "markdown",
   "metadata": {},
   "source": [
    "## Features Extraction and Dataset excel creation"
   ]
  },
  {
   "cell_type": "code",
   "execution_count": null,
   "metadata": {},
   "outputs": [],
   "source": [
    "videos_folder = '/Volumes/HDD ESTERNO Andrea/DATASET WP8'\n",
    "\n",
    "feature_extractor = tf.keras.applications.InceptionV3(\n",
    "    weights=\"imagenet\",\n",
    "    include_top=False,\n",
    "    pooling=\"avg\",\n",
    "    input_shape=(224, 224, 3),\n",
    ")\n",
    "\n",
    "ds = ProcessDataset(videos_folder=videos_folder, feature_extractor=feature_extractor, preprocess_input=tf.keras.applications.inception_v3.preprocess_input)\n",
    "ds.extract_frames()\n"
   ]
  },
  {
   "cell_type": "code",
   "execution_count": null,
   "metadata": {},
   "outputs": [],
   "source": [
    "df = pd.read_excel(\"outputs/labels/labels.xlsx\",\n",
    "                   sheet_name=\"actor_1_bed_full_ph\", index_col=0)\n",
    "\n",
    "# df1\n",
    "\n",
    "# augmented = pd.concat([df] * 7, ignore_index=True)\n",
    "# augmented"
   ]
  },
  {
   "cell_type": "code",
   "execution_count": null,
   "metadata": {},
   "outputs": [],
   "source": [
    "df.shape\n",
    "df1 = pd.concat([df]*8)\n",
    "df1.shape"
   ]
  },
  {
   "cell_type": "code",
   "execution_count": null,
   "metadata": {},
   "outputs": [],
   "source": [
    "names = [\"test\"] * 4920"
   ]
  },
  {
   "cell_type": "code",
   "execution_count": null,
   "metadata": {},
   "outputs": [],
   "source": [
    "df1[\"frame_name\"] = pd.Series(names)\n"
   ]
  },
  {
   "cell_type": "code",
   "execution_count": 9,
   "metadata": {},
   "outputs": [
    {
     "name": "stdout",
     "output_type": "stream",
     "text": [
      "dataset shape: (8640, 5)\n",
      "features shape: (8640, 2048)\n"
     ]
    },
    {
     "data": {
      "text/html": [
       "<div>\n",
       "<style scoped>\n",
       "    .dataframe tbody tr th:only-of-type {\n",
       "        vertical-align: middle;\n",
       "    }\n",
       "\n",
       "    .dataframe tbody tr th {\n",
       "        vertical-align: top;\n",
       "    }\n",
       "\n",
       "    .dataframe thead th {\n",
       "        text-align: right;\n",
       "    }\n",
       "</style>\n",
       "<table border=\"1\" class=\"dataframe\">\n",
       "  <thead>\n",
       "    <tr style=\"text-align: right;\">\n",
       "      <th></th>\n",
       "      <th>Unnamed: 0</th>\n",
       "      <th>micro_labels</th>\n",
       "      <th>macro_labels</th>\n",
       "      <th>ar_labels</th>\n",
       "      <th>frame_name</th>\n",
       "      <th>features</th>\n",
       "    </tr>\n",
       "  </thead>\n",
       "  <tbody>\n",
       "    <tr>\n",
       "      <th>0</th>\n",
       "      <td>0</td>\n",
       "      <td>lie_still</td>\n",
       "      <td>lying_down</td>\n",
       "      <td>actor_repositioning</td>\n",
       "      <td>actor_1_bed_cam_1_0000</td>\n",
       "      <td>[0.0, 1.3650033, 0.19758935, 0.46625867, 0.284...</td>\n",
       "    </tr>\n",
       "    <tr>\n",
       "      <th>1</th>\n",
       "      <td>1</td>\n",
       "      <td>lie_still</td>\n",
       "      <td>lying_down</td>\n",
       "      <td>actor_repositioning</td>\n",
       "      <td>actor_1_bed_cam_1_0001</td>\n",
       "      <td>[0.0, 1.3973647, 0.21190469, 0.39370242, 0.277...</td>\n",
       "    </tr>\n",
       "    <tr>\n",
       "      <th>2</th>\n",
       "      <td>2</td>\n",
       "      <td>lie_still</td>\n",
       "      <td>lying_down</td>\n",
       "      <td>actor_repositioning</td>\n",
       "      <td>actor_1_bed_cam_1_0002</td>\n",
       "      <td>[0.0, 1.5013084, 0.21771781, 0.40439475, 0.304...</td>\n",
       "    </tr>\n",
       "    <tr>\n",
       "      <th>3</th>\n",
       "      <td>3</td>\n",
       "      <td>lie_still</td>\n",
       "      <td>lying_down</td>\n",
       "      <td>actor_repositioning</td>\n",
       "      <td>actor_1_bed_cam_1_0003</td>\n",
       "      <td>[0.0, 1.4786197, 0.20376159, 0.2727906, 0.2843...</td>\n",
       "    </tr>\n",
       "    <tr>\n",
       "      <th>4</th>\n",
       "      <td>4</td>\n",
       "      <td>lie_still</td>\n",
       "      <td>lying_down</td>\n",
       "      <td>actor_repositioning</td>\n",
       "      <td>actor_1_bed_cam_1_0004</td>\n",
       "      <td>[0.0, 1.3080854, 0.15197416, 0.32774755, 0.305...</td>\n",
       "    </tr>\n",
       "  </tbody>\n",
       "</table>\n",
       "</div>"
      ],
      "text/plain": [
       "   Unnamed: 0 micro_labels macro_labels            ar_labels  \\\n",
       "0           0    lie_still   lying_down  actor_repositioning   \n",
       "1           1    lie_still   lying_down  actor_repositioning   \n",
       "2           2    lie_still   lying_down  actor_repositioning   \n",
       "3           3    lie_still   lying_down  actor_repositioning   \n",
       "4           4    lie_still   lying_down  actor_repositioning   \n",
       "\n",
       "               frame_name                                           features  \n",
       "0  actor_1_bed_cam_1_0000  [0.0, 1.3650033, 0.19758935, 0.46625867, 0.284...  \n",
       "1  actor_1_bed_cam_1_0001  [0.0, 1.3973647, 0.21190469, 0.39370242, 0.277...  \n",
       "2  actor_1_bed_cam_1_0002  [0.0, 1.5013084, 0.21771781, 0.40439475, 0.304...  \n",
       "3  actor_1_bed_cam_1_0003  [0.0, 1.4786197, 0.20376159, 0.2727906, 0.2843...  \n",
       "4  actor_1_bed_cam_1_0004  [0.0, 1.3080854, 0.15197416, 0.32774755, 0.305...  "
      ]
     },
     "execution_count": 9,
     "metadata": {},
     "output_type": "execute_result"
    }
   ],
   "source": [
    "features = np.load(\"/Users/andrea/Documents/Github/WP8_refactoring/wp8/outputs/dataset/features/Actor_1_Bed.npy\")\n",
    "dataset = pd.read_csv(\"/Users/andrea/Documents/Github/WP8_refactoring/wp8/outputs/dataset/dataset/full_dataset.csv\")\n",
    "\n",
    "print(f\"dataset shape: {dataset.shape}\\nfeatures shape: {features.shape}\")\n",
    "      \n",
    "dataset[\"features\"] = pd.Series(list(features))\n",
    "dataset.head()\n"
   ]
  },
  {
   "cell_type": "code",
   "execution_count": null,
   "metadata": {},
   "outputs": [],
   "source": []
  }
 ],
 "metadata": {
  "interpreter": {
   "hash": "045da2998f02dde6c755b0fa2e74d8766d7d056d6163358ab445ad432d6df67f"
  },
  "kernelspec": {
   "display_name": "Python 3 (ipykernel)",
   "language": "python",
   "name": "python3"
  },
  "language_info": {
   "codemirror_mode": {
    "name": "ipython",
    "version": 3
   },
   "file_extension": ".py",
   "mimetype": "text/x-python",
   "name": "python",
   "nbconvert_exporter": "python",
   "pygments_lexer": "ipython3",
   "version": "3.9.12"
  }
 },
 "nbformat": 4,
 "nbformat_minor": 2
}
