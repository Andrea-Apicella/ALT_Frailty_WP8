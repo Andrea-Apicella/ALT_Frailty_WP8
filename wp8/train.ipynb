{
 "cells": [
  {
   "cell_type": "code",
   "execution_count": 50,
   "metadata": {},
   "outputs": [],
   "source": [
    "# Evaluating CNN+RNN models on the dataset\n",
    "\n",
    "# Imports\n",
    "import csv\n",
    "import gc\n",
    "import os\n",
    "from collections import Counter\n",
    "from datetime import datetime\n",
    "from statistics import mode\n",
    "\n",
    "import numpy as np\n",
    "import pandas as pd\n",
    "import tensorflow as tf\n",
    "from sklearn.preprocessing import OneHotEncoder\n",
    "\n",
    "from tensorflow.keras.callbacks import ModelCheckpoint\n",
    "from tensorflow.keras.layers import LSTM, Dense, Dropout\n",
    "from tensorflow.keras.models import Sequential\n",
    "from wandb.keras import WandbCallback\n",
    "\n",
    "import wandb\n",
    "from wp8.options.train_options import TrainOptions\n",
    "from wp8.pre_processing.generators import TimeSeriesGenerator as TSG\n",
    "from wp8.pre_processing.utils import safe_mkdir\n",
    "from wp8.utils.cnn_rnn_utils import get_timeseries_labels_encoded, load_and_split"
   ]
  },
  {
   "cell_type": "code",
   "execution_count": 14,
   "metadata": {},
   "outputs": [
    {
     "data": {
      "text/plain": [
       "'nested works too'"
      ]
     },
     "execution_count": 14,
     "metadata": {},
     "output_type": "execute_result"
    }
   ],
   "source": [
    "class dotdict(dict):\n",
    "    \"\"\"dot.notation access to dictionary attributes\"\"\"\n",
    "    __getattr__ = dict.get\n",
    "    __setattr__ = dict.__setitem__\n",
    "    __delattr__ = dict.__delitem__\n",
    "\n",
    "mydict = {'val':'it works'}\n",
    "nested_dict = {'val':'nested works too'}\n",
    "mydict = dotdict(mydict)\n",
    "mydict.val\n",
    "# 'it works'\n",
    "\n",
    "mydict.nested = dotdict(nested_dict)\n",
    "mydict.nested.val\n",
    "# 'nested works too'"
   ]
  },
  {
   "cell_type": "code",
   "execution_count": 22,
   "metadata": {},
   "outputs": [],
   "source": [
    "# opt = TrainOptions().parse()\n",
    "opt = dotdict({\n",
    "  \"lstm1_units\": 256,\n",
    "  \"lstm2_units\": 128,\n",
    "  \"dropout\": 0.3,\n",
    "  \"epochs\": 50,\n",
    "  \"train_actors\": [1, 2, 3],\n",
    "  \"val_actors\": [4],\n",
    "  \"train_cams\": [1, 2],\n",
    "  \"val_cams\": [1],\n",
    "  \"seq_len\": 20,\n",
    "  \"split_ratio\": None,\n",
    "  \"drop_offair\": False,\n",
    "  \"undersample\": False,\n",
    "  \"batch_size\": 60,\n",
    "  \"stride\": 10,\n",
    "  \"learning_rate\": 1e-5,\n",
    "})\n",
    "\n",
    "# if set(opt.train_actors) & set(opt.val_actors):\n",
    "#     raise Exception(\"Can't use the same actors both in train and validation splits\")\n"
   ]
  },
  {
   "cell_type": "code",
   "execution_count": 19,
   "metadata": {},
   "outputs": [
    {
     "data": {
      "text/html": [
       "Finishing last run (ID:3d6zyrnc) before initializing another..."
      ],
      "text/plain": [
       "<IPython.core.display.HTML object>"
      ]
     },
     "metadata": {},
     "output_type": "display_data"
    },
    {
     "data": {
      "text/html": [
       "Waiting for W&B process to finish... <strong style=\"color:green\">(success).</strong>"
      ],
      "text/plain": [
       "<IPython.core.display.HTML object>"
      ]
     },
     "metadata": {},
     "output_type": "display_data"
    },
    {
     "data": {
      "application/vnd.jupyter.widget-view+json": {
       "model_id": "d47160e2a357474fb91845a3913c0a7a",
       "version_major": 2,
       "version_minor": 0
      },
      "text/plain": [
       "VBox(children=(Label(value='0.000 MB of 0.000 MB uploaded (0.000 MB deduped)\\r'), FloatProgress(value=1.0, max…"
      ]
     },
     "metadata": {},
     "output_type": "display_data"
    },
    {
     "data": {
      "text/html": [
       "You can sync this run to the cloud by running:<br/><code>wandb sync /Users/andrea/Documents/Github/WP8_refactoring/wp8/wandb/offline-run-20220520_173928-3d6zyrnc<code>"
      ],
      "text/plain": [
       "<IPython.core.display.HTML object>"
      ]
     },
     "metadata": {},
     "output_type": "display_data"
    },
    {
     "data": {
      "text/html": [
       "Find logs at: <code>./wandb/offline-run-20220520_173928-3d6zyrnc/logs</code>"
      ],
      "text/plain": [
       "<IPython.core.display.HTML object>"
      ]
     },
     "metadata": {},
     "output_type": "display_data"
    },
    {
     "data": {
      "text/html": [
       "Successfully finished last run (ID:3d6zyrnc). Initializing new run:<br/>"
      ],
      "text/plain": [
       "<IPython.core.display.HTML object>"
      ]
     },
     "metadata": {},
     "output_type": "display_data"
    },
    {
     "data": {
      "text/html": [
       "Tracking run with wandb version 0.12.16"
      ],
      "text/plain": [
       "<IPython.core.display.HTML object>"
      ]
     },
     "metadata": {},
     "output_type": "display_data"
    },
    {
     "data": {
      "text/html": [
       "W&B syncing is set to <code>`offline`<code> in this directory.  <br/>Run <code>`wandb online`<code> or set <code>WANDB_MODE=online<code> to enable cloud syncing."
      ],
      "text/plain": [
       "<IPython.core.display.HTML object>"
      ]
     },
     "metadata": {},
     "output_type": "display_data"
    }
   ],
   "source": [
    "# WANDB project initialization\n",
    "run = wandb.init(\n",
    "    project=\"Fall detection CNN + RNN\",\n",
    "    config={\n",
    "        \"model\": \"LSTM\",\n",
    "        \"epochs\": opt.epochs,\n",
    "        \"seq_len\": opt.seq_len,\n",
    "        \"num_features\": 2048,\n",
    "        \"batch_size\": opt.batch_size,\n",
    "        \"stride\": opt.stride,\n",
    "        \"loss_function\": \"sparse_categorical_crossentropy\",\n",
    "        \"architecture\": \"LSTM\",\n",
    "        \"train_actors\": opt.train_actors,\n",
    "        \"val_actors\": opt.val_actors,\n",
    "        \"train_cams\": opt.train_cams,\n",
    "        \"val_cams\": opt.val_cams,\n",
    "        \"dropout\": opt.dropout,\n",
    "        \"lstm1_units\": opt.lstm1_units,\n",
    "        \"lstm2_units\": opt.lstm2_units,\n",
    "        \"learning_rate\": opt.learning_rate,\n",
    "        \"split_ratio\": opt.split_ratio,\n",
    "        \"drop_offair\": opt.drop_offair,\n",
    "        \"undersample\": opt.undersample,\n",
    "    },\n",
    ")\n",
    "\n",
    "cfg = wandb.config"
   ]
  },
  {
   "cell_type": "code",
   "execution_count": 24,
   "metadata": {},
   "outputs": [
    {
     "name": "stdout",
     "output_type": "stream",
     "text": [
      "[STATUS] Load Train Set\n"
     ]
    },
    {
     "name": "stderr",
     "output_type": "stream",
     "text": [
      "Loading features: outputs/dataset/features/Actor_3_Walk_Stick_Full_PH.npz: 100%|██████████| 44/44 [00:43<00:00,  1.01it/s]\n",
      "Loading csv datasets: 100%|██████████| 44/44 [00:01<00:00, 29.47it/s]\n"
     ]
    },
    {
     "name": "stdout",
     "output_type": "stream",
     "text": [
      "[STATUS] Load Val Set\n"
     ]
    },
    {
     "name": "stderr",
     "output_type": "stream",
     "text": [
      "Loading features: outputs/dataset/features/Actor_4_Chair_Full_PH.npz: 100%|██████████| 6/6 [00:07<00:00,  1.25s/it]   \n",
      "Loading csv datasets: 100%|██████████| 6/6 [00:00<00:00, 19.67it/s]\n"
     ]
    },
    {
     "name": "stdout",
     "output_type": "stream",
     "text": [
      "\n",
      "X_train shape: (299400, 2048), len y_train: 299400, X_val shape: (24060, 2048), len y_val: 24060\n",
      "\n"
     ]
    }
   ],
   "source": [
    "X_train, y_train, X_val, y_val, cams_train, cams_val = load_and_split(opt.train_actors, opt.val_actors, opt.train_cams, opt.val_cams, opt.split_ratio, opt.drop_offair, opt.undersample)\n",
    "print(f\"\\nX_train shape: {X_train.shape}, len y_train: {len(y_train)}, X_val shape: {X_val.shape}, len y_val: {len(y_val)}\\n\")"
   ]
  },
  {
   "cell_type": "code",
   "execution_count": 25,
   "metadata": {},
   "outputs": [
    {
     "name": "stdout",
     "output_type": "stream",
     "text": [
      "\n",
      "Class weights for train series: {'crouched_still': 19.192307692307693, 'fall_crouch': 3.9167974882260594, 'fall_frontal': 4.361888111888112, 'fall_lateral': 2.741758241758242, 'lie_down_from_sitting': 0.6953734671125975, 'lie_down_on_the_floor': 2.020242914979757, 'lie_still': 0.1894600956792467, 'sit_down_from_standing': 1.6545092838196287, 'sit_still': 6.397435897435898, 'sit_up_from_lying': 0.783359497645212, 'stand_still': 2.9079254079254078, 'stand_up_from_floor': 0.5515030946065429, 'stand_up_from_sit': 1.4430306535569692}\n"
     ]
    }
   ],
   "source": [
    "y_train_series, y_val_series, enc, class_weights = get_timeseries_labels_encoded(y_train, y_val, cfg)"
   ]
  },
  {
   "cell_type": "code",
   "execution_count": 56,
   "metadata": {},
   "outputs": [
    {
     "name": "stdout",
     "output_type": "stream",
     "text": [
      "(2495, 13)\n"
     ]
    },
    {
     "data": {
      "text/plain": [
       "13"
      ]
     },
     "execution_count": 56,
     "metadata": {},
     "output_type": "execute_result"
    }
   ],
   "source": [
    "print(y_train_series.shape)\n",
    "np.unique(y_train_series, axis=0).shape[0]"
   ]
  },
  {
   "cell_type": "code",
   "execution_count": 57,
   "metadata": {},
   "outputs": [],
   "source": [
    "train_gen = TSG(\n",
    "    X=X_train,\n",
    "    y=y_train,\n",
    "    num_features=cfg.num_features,\n",
    "    cams=cams_train,\n",
    "    batch_size=cfg.batch_size,\n",
    "    stride=cfg.stride,\n",
    "    seq_len=cfg.seq_len,\n",
    "    labels_encoder=enc,\n",
    ")\n",
    "val_gen = TSG(\n",
    "    X=X_val,\n",
    "    y=y_val,\n",
    "    cams=cams_val,\n",
    "    num_features=cfg.num_features,\n",
    "    batch_size=cfg.batch_size,\n",
    "    stride=cfg.stride,\n",
    "    seq_len=cfg.seq_len,\n",
    "    labels_encoder=enc,\n",
    ")"
   ]
  },
  {
   "cell_type": "code",
   "execution_count": 58,
   "metadata": {},
   "outputs": [
    {
     "name": "stdout",
     "output_type": "stream",
     "text": [
      "Model: \"sequential_8\"\n",
      "_________________________________________________________________\n",
      " Layer (type)                Output Shape              Param #   \n",
      "=================================================================\n",
      " lstm_16 (LSTM)              (None, 20, 256)           2360320   \n",
      "                                                                 \n",
      " dropout_16 (Dropout)        (None, 20, 256)           0         \n",
      "                                                                 \n",
      " lstm_17 (LSTM)              (None, 128)               197120    \n",
      "                                                                 \n",
      " dropout_17 (Dropout)        (None, 128)               0         \n",
      "                                                                 \n",
      " dense_7 (Dense)             (None, 13)                1677      \n",
      "                                                                 \n",
      "=================================================================\n",
      "Total params: 2,559,117\n",
      "Trainable params: 2,559,117\n",
      "Non-trainable params: 0\n",
      "_________________________________________________________________\n"
     ]
    }
   ],
   "source": [
    "\n",
    "model = Sequential()\n",
    "model.add(LSTM(units=cfg.lstm1_units, input_shape=(cfg.seq_len, cfg.num_features), return_sequences=True))\n",
    "model.add(Dropout(cfg.dropout))\n",
    "model.add(LSTM(units=cfg.lstm2_units, input_shape=(cfg.seq_len, cfg.num_features)))\n",
    "model.add(Dropout(cfg.dropout))\n",
    "model.add(Dense(np.unique(y_train_series, axis=0).shape[0], activation=\"softmax\"))\n",
    "model.compile(\n",
    "    optimizer=tf.keras.optimizers.Adam(learning_rate=cfg.learning_rate),\n",
    "    loss=cfg.loss_function,\n",
    "    metrics=[\"accuracy\", \"categorical_crossentropy\"],\n",
    ")\n",
    "model.summary()"
   ]
  },
  {
   "cell_type": "code",
   "execution_count": 59,
   "metadata": {},
   "outputs": [],
   "source": [
    "# Callbacks\n",
    "dir_path = f\"model_checkpoints/{cfg.model}\"\n",
    "safe_mkdir(dir_path)\n",
    "now = datetime.now()\n",
    "dt_string = now.strftime(\"%d/%m/%Y_%H:%M:%S\")\n",
    "model_checkpoint = ModelCheckpoint(\n",
    "    filepath=f\"{dir_path}/{cfg.model}_{dt_string}\",\n",
    "    monitor=\"val_accuracy\",\n",
    "    save_best_only=True,\n",
    "    save_weights_only=True,\n",
    "    initial_value_threshold=0.8,\n",
    "    verbose=1,\n",
    ")\n",
    "\n",
    "callbacks = [WandbCallback(), model_checkpoint]"
   ]
  },
  {
   "cell_type": "code",
   "execution_count": 61,
   "metadata": {},
   "outputs": [
    {
     "name": "stderr",
     "output_type": "stream",
     "text": [
      "/Users/andrea/Documents/Github/WP8_refactoring/wp8/pre_processing/generators.py:62: VisibleDeprecationWarning: Creating an ndarray from ragged nested sequences (which is a list-or-tuple of lists-or-tuples-or ndarrays with different lengths or shapes) is deprecated. If you meant to do this, you must specify 'dtype=object' when creating the ndarray.\n",
      "  return np.asarray(time_series), self.labels_encoder.fit_transform(y_s)\n"
     ]
    },
    {
     "ename": "ValueError",
     "evalue": "Expected 2D array, got 1D array instead:\narray=['l' '' '' '' ''].\nReshape your data either using array.reshape(-1, 1) if your data has a single feature or array.reshape(1, -1) if it contains a single sample.",
     "output_type": "error",
     "traceback": [
      "\u001b[0;31m---------------------------------------------------------------------------\u001b[0m",
      "\u001b[0;31mValueError\u001b[0m                                Traceback (most recent call last)",
      "\u001b[1;32m/Users/andrea/Documents/Github/WP8_refactoring/wp8/train.ipynb Cell 11'\u001b[0m in \u001b[0;36m<cell line: 2>\u001b[0;34m()\u001b[0m\n\u001b[1;32m      <a href='vscode-notebook-cell:/Users/andrea/Documents/Github/WP8_refactoring/wp8/train.ipynb#ch0000010?line=0'>1</a>\u001b[0m \u001b[39m# Train Model\u001b[39;00m\n\u001b[0;32m----> <a href='vscode-notebook-cell:/Users/andrea/Documents/Github/WP8_refactoring/wp8/train.ipynb#ch0000010?line=1'>2</a>\u001b[0m history \u001b[39m=\u001b[39m model\u001b[39m.\u001b[39;49mfit(train_gen, validation_data\u001b[39m=\u001b[39;49mval_gen, epochs\u001b[39m=\u001b[39;49mcfg\u001b[39m.\u001b[39;49mepochs, callbacks\u001b[39m=\u001b[39;49mcallbacks, class_weight\u001b[39m=\u001b[39;49mclass_weights)\n\u001b[1;32m      <a href='vscode-notebook-cell:/Users/andrea/Documents/Github/WP8_refactoring/wp8/train.ipynb#ch0000010?line=2'>3</a>\u001b[0m val_gen\u001b[39m.\u001b[39mevaluate \u001b[39m=\u001b[39m \u001b[39mTrue\u001b[39;00m\n",
      "File \u001b[0;32m~/miniforge3/envs/ml/lib/python3.9/site-packages/wandb/integration/keras/keras.py:163\u001b[0m, in \u001b[0;36mpatch_tf_keras.<locals>.new_v2\u001b[0;34m(*args, **kwargs)\u001b[0m\n\u001b[1;32m    <a href='file:///Users/andrea/miniforge3/envs/ml/lib/python3.9/site-packages/wandb/integration/keras/keras.py?line=160'>161</a>\u001b[0m     \u001b[39mfor\u001b[39;00m cbk \u001b[39min\u001b[39;00m cbks:\n\u001b[1;32m    <a href='file:///Users/andrea/miniforge3/envs/ml/lib/python3.9/site-packages/wandb/integration/keras/keras.py?line=161'>162</a>\u001b[0m         set_wandb_attrs(cbk, val_data)\n\u001b[0;32m--> <a href='file:///Users/andrea/miniforge3/envs/ml/lib/python3.9/site-packages/wandb/integration/keras/keras.py?line=162'>163</a>\u001b[0m \u001b[39mreturn\u001b[39;00m old_v2(\u001b[39m*\u001b[39;49margs, \u001b[39m*\u001b[39;49m\u001b[39m*\u001b[39;49mkwargs)\n",
      "File \u001b[0;32m~/miniforge3/envs/ml/lib/python3.9/site-packages/keras/utils/traceback_utils.py:67\u001b[0m, in \u001b[0;36mfilter_traceback.<locals>.error_handler\u001b[0;34m(*args, **kwargs)\u001b[0m\n\u001b[1;32m     <a href='file:///Users/andrea/miniforge3/envs/ml/lib/python3.9/site-packages/keras/utils/traceback_utils.py?line=64'>65</a>\u001b[0m \u001b[39mexcept\u001b[39;00m \u001b[39mException\u001b[39;00m \u001b[39mas\u001b[39;00m e:  \u001b[39m# pylint: disable=broad-except\u001b[39;00m\n\u001b[1;32m     <a href='file:///Users/andrea/miniforge3/envs/ml/lib/python3.9/site-packages/keras/utils/traceback_utils.py?line=65'>66</a>\u001b[0m   filtered_tb \u001b[39m=\u001b[39m _process_traceback_frames(e\u001b[39m.\u001b[39m__traceback__)\n\u001b[0;32m---> <a href='file:///Users/andrea/miniforge3/envs/ml/lib/python3.9/site-packages/keras/utils/traceback_utils.py?line=66'>67</a>\u001b[0m   \u001b[39mraise\u001b[39;00m e\u001b[39m.\u001b[39mwith_traceback(filtered_tb) \u001b[39mfrom\u001b[39;00m \u001b[39mNone\u001b[39m\n\u001b[1;32m     <a href='file:///Users/andrea/miniforge3/envs/ml/lib/python3.9/site-packages/keras/utils/traceback_utils.py?line=67'>68</a>\u001b[0m \u001b[39mfinally\u001b[39;00m:\n\u001b[1;32m     <a href='file:///Users/andrea/miniforge3/envs/ml/lib/python3.9/site-packages/keras/utils/traceback_utils.py?line=68'>69</a>\u001b[0m   \u001b[39mdel\u001b[39;00m filtered_tb\n",
      "File \u001b[0;32m~/Documents/Github/WP8_refactoring/wp8/pre_processing/generators.py:71\u001b[0m, in \u001b[0;36mTimeSeriesGenerator.__getitem__\u001b[0;34m(self, index)\u001b[0m\n\u001b[1;32m     <a href='file:///Users/andrea/Documents/Github/WP8_refactoring/wp8/pre_processing/generators.py?line=67'>68</a>\u001b[0m \u001b[39m# batch_id += 1\u001b[39;00m\n\u001b[1;32m     <a href='file:///Users/andrea/Documents/Github/WP8_refactoring/wp8/pre_processing/generators.py?line=69'>70</a>\u001b[0m batch \u001b[39m=\u001b[39m {\u001b[39m\"\u001b[39m\u001b[39mfeatures\u001b[39m\u001b[39m\"\u001b[39m: \u001b[39mself\u001b[39m\u001b[39m.\u001b[39mX[a:b, :], \u001b[39m\"\u001b[39m\u001b[39mlabels\u001b[39m\u001b[39m\"\u001b[39m: \u001b[39mself\u001b[39m\u001b[39m.\u001b[39my[a:b], \u001b[39m\"\u001b[39m\u001b[39mcams\u001b[39m\u001b[39m\"\u001b[39m: \u001b[39mself\u001b[39m\u001b[39m.\u001b[39mcams[a:b]}\n\u001b[0;32m---> <a href='file:///Users/andrea/Documents/Github/WP8_refactoring/wp8/pre_processing/generators.py?line=70'>71</a>\u001b[0m X, y \u001b[39m=\u001b[39m \u001b[39mself\u001b[39;49m\u001b[39m.\u001b[39;49m__get_data(batch)\n\u001b[1;32m     <a href='file:///Users/andrea/Documents/Github/WP8_refactoring/wp8/pre_processing/generators.py?line=71'>72</a>\u001b[0m \u001b[39mreturn\u001b[39;00m X, y\n",
      "File \u001b[0;32m~/Documents/Github/WP8_refactoring/wp8/pre_processing/generators.py:62\u001b[0m, in \u001b[0;36mTimeSeriesGenerator.__get_data\u001b[0;34m(self, batch)\u001b[0m\n\u001b[1;32m     <a href='file:///Users/andrea/Documents/Github/WP8_refactoring/wp8/pre_processing/generators.py?line=59'>60</a>\u001b[0m     \u001b[39mself\u001b[39m\u001b[39m.\u001b[39mseries_labels\u001b[39m.\u001b[39mextend(y_s)\n\u001b[1;32m     <a href='file:///Users/andrea/Documents/Github/WP8_refactoring/wp8/pre_processing/generators.py?line=60'>61</a>\u001b[0m     \u001b[39mself\u001b[39m\u001b[39m.\u001b[39mys_count \u001b[39m+\u001b[39m\u001b[39m=\u001b[39m \u001b[39mlen\u001b[39m(y_s)\n\u001b[0;32m---> <a href='file:///Users/andrea/Documents/Github/WP8_refactoring/wp8/pre_processing/generators.py?line=61'>62</a>\u001b[0m \u001b[39mreturn\u001b[39;00m np\u001b[39m.\u001b[39masarray(time_series), \u001b[39mself\u001b[39;49m\u001b[39m.\u001b[39;49mlabels_encoder\u001b[39m.\u001b[39;49mfit_transform(y_s)\n",
      "File \u001b[0;32m~/miniforge3/envs/ml/lib/python3.9/site-packages/sklearn/preprocessing/_encoders.py:855\u001b[0m, in \u001b[0;36mOneHotEncoder.fit_transform\u001b[0;34m(self, X, y)\u001b[0m\n\u001b[1;32m    <a href='file:///Users/andrea/miniforge3/envs/ml/lib/python3.9/site-packages/sklearn/preprocessing/_encoders.py?line=832'>833</a>\u001b[0m \u001b[39m\"\"\"\u001b[39;00m\n\u001b[1;32m    <a href='file:///Users/andrea/miniforge3/envs/ml/lib/python3.9/site-packages/sklearn/preprocessing/_encoders.py?line=833'>834</a>\u001b[0m \u001b[39mFit OneHotEncoder to X, then transform X.\u001b[39;00m\n\u001b[1;32m    <a href='file:///Users/andrea/miniforge3/envs/ml/lib/python3.9/site-packages/sklearn/preprocessing/_encoders.py?line=834'>835</a>\u001b[0m \n\u001b[0;32m   (...)\u001b[0m\n\u001b[1;32m    <a href='file:///Users/andrea/miniforge3/envs/ml/lib/python3.9/site-packages/sklearn/preprocessing/_encoders.py?line=851'>852</a>\u001b[0m \u001b[39m    returned.\u001b[39;00m\n\u001b[1;32m    <a href='file:///Users/andrea/miniforge3/envs/ml/lib/python3.9/site-packages/sklearn/preprocessing/_encoders.py?line=852'>853</a>\u001b[0m \u001b[39m\"\"\"\u001b[39;00m\n\u001b[1;32m    <a href='file:///Users/andrea/miniforge3/envs/ml/lib/python3.9/site-packages/sklearn/preprocessing/_encoders.py?line=853'>854</a>\u001b[0m \u001b[39mself\u001b[39m\u001b[39m.\u001b[39m_validate_keywords()\n\u001b[0;32m--> <a href='file:///Users/andrea/miniforge3/envs/ml/lib/python3.9/site-packages/sklearn/preprocessing/_encoders.py?line=854'>855</a>\u001b[0m \u001b[39mreturn\u001b[39;00m \u001b[39msuper\u001b[39;49m()\u001b[39m.\u001b[39;49mfit_transform(X, y)\n",
      "File \u001b[0;32m~/miniforge3/envs/ml/lib/python3.9/site-packages/sklearn/base.py:867\u001b[0m, in \u001b[0;36mTransformerMixin.fit_transform\u001b[0;34m(self, X, y, **fit_params)\u001b[0m\n\u001b[1;32m    <a href='file:///Users/andrea/miniforge3/envs/ml/lib/python3.9/site-packages/sklearn/base.py?line=862'>863</a>\u001b[0m \u001b[39m# non-optimized default implementation; override when a better\u001b[39;00m\n\u001b[1;32m    <a href='file:///Users/andrea/miniforge3/envs/ml/lib/python3.9/site-packages/sklearn/base.py?line=863'>864</a>\u001b[0m \u001b[39m# method is possible for a given clustering algorithm\u001b[39;00m\n\u001b[1;32m    <a href='file:///Users/andrea/miniforge3/envs/ml/lib/python3.9/site-packages/sklearn/base.py?line=864'>865</a>\u001b[0m \u001b[39mif\u001b[39;00m y \u001b[39mis\u001b[39;00m \u001b[39mNone\u001b[39;00m:\n\u001b[1;32m    <a href='file:///Users/andrea/miniforge3/envs/ml/lib/python3.9/site-packages/sklearn/base.py?line=865'>866</a>\u001b[0m     \u001b[39m# fit method of arity 1 (unsupervised transformation)\u001b[39;00m\n\u001b[0;32m--> <a href='file:///Users/andrea/miniforge3/envs/ml/lib/python3.9/site-packages/sklearn/base.py?line=866'>867</a>\u001b[0m     \u001b[39mreturn\u001b[39;00m \u001b[39mself\u001b[39;49m\u001b[39m.\u001b[39;49mfit(X, \u001b[39m*\u001b[39;49m\u001b[39m*\u001b[39;49mfit_params)\u001b[39m.\u001b[39mtransform(X)\n\u001b[1;32m    <a href='file:///Users/andrea/miniforge3/envs/ml/lib/python3.9/site-packages/sklearn/base.py?line=867'>868</a>\u001b[0m \u001b[39melse\u001b[39;00m:\n\u001b[1;32m    <a href='file:///Users/andrea/miniforge3/envs/ml/lib/python3.9/site-packages/sklearn/base.py?line=868'>869</a>\u001b[0m     \u001b[39m# fit method of arity 2 (supervised transformation)\u001b[39;00m\n\u001b[1;32m    <a href='file:///Users/andrea/miniforge3/envs/ml/lib/python3.9/site-packages/sklearn/base.py?line=869'>870</a>\u001b[0m     \u001b[39mreturn\u001b[39;00m \u001b[39mself\u001b[39m\u001b[39m.\u001b[39mfit(X, y, \u001b[39m*\u001b[39m\u001b[39m*\u001b[39mfit_params)\u001b[39m.\u001b[39mtransform(X)\n",
      "File \u001b[0;32m~/miniforge3/envs/ml/lib/python3.9/site-packages/sklearn/preprocessing/_encoders.py:818\u001b[0m, in \u001b[0;36mOneHotEncoder.fit\u001b[0;34m(self, X, y)\u001b[0m\n\u001b[1;32m    <a href='file:///Users/andrea/miniforge3/envs/ml/lib/python3.9/site-packages/sklearn/preprocessing/_encoders.py?line=799'>800</a>\u001b[0m \u001b[39m\"\"\"\u001b[39;00m\n\u001b[1;32m    <a href='file:///Users/andrea/miniforge3/envs/ml/lib/python3.9/site-packages/sklearn/preprocessing/_encoders.py?line=800'>801</a>\u001b[0m \u001b[39mFit OneHotEncoder to X.\u001b[39;00m\n\u001b[1;32m    <a href='file:///Users/andrea/miniforge3/envs/ml/lib/python3.9/site-packages/sklearn/preprocessing/_encoders.py?line=801'>802</a>\u001b[0m \n\u001b[0;32m   (...)\u001b[0m\n\u001b[1;32m    <a href='file:///Users/andrea/miniforge3/envs/ml/lib/python3.9/site-packages/sklearn/preprocessing/_encoders.py?line=814'>815</a>\u001b[0m \u001b[39m    Fitted encoder.\u001b[39;00m\n\u001b[1;32m    <a href='file:///Users/andrea/miniforge3/envs/ml/lib/python3.9/site-packages/sklearn/preprocessing/_encoders.py?line=815'>816</a>\u001b[0m \u001b[39m\"\"\"\u001b[39;00m\n\u001b[1;32m    <a href='file:///Users/andrea/miniforge3/envs/ml/lib/python3.9/site-packages/sklearn/preprocessing/_encoders.py?line=816'>817</a>\u001b[0m \u001b[39mself\u001b[39m\u001b[39m.\u001b[39m_validate_keywords()\n\u001b[0;32m--> <a href='file:///Users/andrea/miniforge3/envs/ml/lib/python3.9/site-packages/sklearn/preprocessing/_encoders.py?line=817'>818</a>\u001b[0m fit_results \u001b[39m=\u001b[39m \u001b[39mself\u001b[39;49m\u001b[39m.\u001b[39;49m_fit(\n\u001b[1;32m    <a href='file:///Users/andrea/miniforge3/envs/ml/lib/python3.9/site-packages/sklearn/preprocessing/_encoders.py?line=818'>819</a>\u001b[0m     X,\n\u001b[1;32m    <a href='file:///Users/andrea/miniforge3/envs/ml/lib/python3.9/site-packages/sklearn/preprocessing/_encoders.py?line=819'>820</a>\u001b[0m     handle_unknown\u001b[39m=\u001b[39;49m\u001b[39mself\u001b[39;49m\u001b[39m.\u001b[39;49mhandle_unknown,\n\u001b[1;32m    <a href='file:///Users/andrea/miniforge3/envs/ml/lib/python3.9/site-packages/sklearn/preprocessing/_encoders.py?line=820'>821</a>\u001b[0m     force_all_finite\u001b[39m=\u001b[39;49m\u001b[39m\"\u001b[39;49m\u001b[39mallow-nan\u001b[39;49m\u001b[39m\"\u001b[39;49m,\n\u001b[1;32m    <a href='file:///Users/andrea/miniforge3/envs/ml/lib/python3.9/site-packages/sklearn/preprocessing/_encoders.py?line=821'>822</a>\u001b[0m     return_counts\u001b[39m=\u001b[39;49m\u001b[39mself\u001b[39;49m\u001b[39m.\u001b[39;49m_infrequent_enabled,\n\u001b[1;32m    <a href='file:///Users/andrea/miniforge3/envs/ml/lib/python3.9/site-packages/sklearn/preprocessing/_encoders.py?line=822'>823</a>\u001b[0m )\n\u001b[1;32m    <a href='file:///Users/andrea/miniforge3/envs/ml/lib/python3.9/site-packages/sklearn/preprocessing/_encoders.py?line=823'>824</a>\u001b[0m \u001b[39mif\u001b[39;00m \u001b[39mself\u001b[39m\u001b[39m.\u001b[39m_infrequent_enabled:\n\u001b[1;32m    <a href='file:///Users/andrea/miniforge3/envs/ml/lib/python3.9/site-packages/sklearn/preprocessing/_encoders.py?line=824'>825</a>\u001b[0m     \u001b[39mself\u001b[39m\u001b[39m.\u001b[39m_fit_infrequent_category_mapping(\n\u001b[1;32m    <a href='file:///Users/andrea/miniforge3/envs/ml/lib/python3.9/site-packages/sklearn/preprocessing/_encoders.py?line=825'>826</a>\u001b[0m         fit_results[\u001b[39m\"\u001b[39m\u001b[39mn_samples\u001b[39m\u001b[39m\"\u001b[39m], fit_results[\u001b[39m\"\u001b[39m\u001b[39mcategory_counts\u001b[39m\u001b[39m\"\u001b[39m]\n\u001b[1;32m    <a href='file:///Users/andrea/miniforge3/envs/ml/lib/python3.9/site-packages/sklearn/preprocessing/_encoders.py?line=826'>827</a>\u001b[0m     )\n",
      "File \u001b[0;32m~/miniforge3/envs/ml/lib/python3.9/site-packages/sklearn/preprocessing/_encoders.py:80\u001b[0m, in \u001b[0;36m_BaseEncoder._fit\u001b[0;34m(self, X, handle_unknown, force_all_finite, return_counts)\u001b[0m\n\u001b[1;32m     <a href='file:///Users/andrea/miniforge3/envs/ml/lib/python3.9/site-packages/sklearn/preprocessing/_encoders.py?line=77'>78</a>\u001b[0m \u001b[39mself\u001b[39m\u001b[39m.\u001b[39m_check_n_features(X, reset\u001b[39m=\u001b[39m\u001b[39mTrue\u001b[39;00m)\n\u001b[1;32m     <a href='file:///Users/andrea/miniforge3/envs/ml/lib/python3.9/site-packages/sklearn/preprocessing/_encoders.py?line=78'>79</a>\u001b[0m \u001b[39mself\u001b[39m\u001b[39m.\u001b[39m_check_feature_names(X, reset\u001b[39m=\u001b[39m\u001b[39mTrue\u001b[39;00m)\n\u001b[0;32m---> <a href='file:///Users/andrea/miniforge3/envs/ml/lib/python3.9/site-packages/sklearn/preprocessing/_encoders.py?line=79'>80</a>\u001b[0m X_list, n_samples, n_features \u001b[39m=\u001b[39m \u001b[39mself\u001b[39;49m\u001b[39m.\u001b[39;49m_check_X(\n\u001b[1;32m     <a href='file:///Users/andrea/miniforge3/envs/ml/lib/python3.9/site-packages/sklearn/preprocessing/_encoders.py?line=80'>81</a>\u001b[0m     X, force_all_finite\u001b[39m=\u001b[39;49mforce_all_finite\n\u001b[1;32m     <a href='file:///Users/andrea/miniforge3/envs/ml/lib/python3.9/site-packages/sklearn/preprocessing/_encoders.py?line=81'>82</a>\u001b[0m )\n\u001b[1;32m     <a href='file:///Users/andrea/miniforge3/envs/ml/lib/python3.9/site-packages/sklearn/preprocessing/_encoders.py?line=82'>83</a>\u001b[0m \u001b[39mself\u001b[39m\u001b[39m.\u001b[39mn_features_in_ \u001b[39m=\u001b[39m n_features\n\u001b[1;32m     <a href='file:///Users/andrea/miniforge3/envs/ml/lib/python3.9/site-packages/sklearn/preprocessing/_encoders.py?line=84'>85</a>\u001b[0m \u001b[39mif\u001b[39;00m \u001b[39mself\u001b[39m\u001b[39m.\u001b[39mcategories \u001b[39m!=\u001b[39m \u001b[39m\"\u001b[39m\u001b[39mauto\u001b[39m\u001b[39m\"\u001b[39m:\n",
      "File \u001b[0;32m~/miniforge3/envs/ml/lib/python3.9/site-packages/sklearn/preprocessing/_encoders.py:45\u001b[0m, in \u001b[0;36m_BaseEncoder._check_X\u001b[0;34m(self, X, force_all_finite)\u001b[0m\n\u001b[1;32m     <a href='file:///Users/andrea/miniforge3/envs/ml/lib/python3.9/site-packages/sklearn/preprocessing/_encoders.py?line=31'>32</a>\u001b[0m \u001b[39m\"\"\"\u001b[39;00m\n\u001b[1;32m     <a href='file:///Users/andrea/miniforge3/envs/ml/lib/python3.9/site-packages/sklearn/preprocessing/_encoders.py?line=32'>33</a>\u001b[0m \u001b[39mPerform custom check_array:\u001b[39;00m\n\u001b[1;32m     <a href='file:///Users/andrea/miniforge3/envs/ml/lib/python3.9/site-packages/sklearn/preprocessing/_encoders.py?line=33'>34</a>\u001b[0m \u001b[39m- convert list of strings to object dtype\u001b[39;00m\n\u001b[0;32m   (...)\u001b[0m\n\u001b[1;32m     <a href='file:///Users/andrea/miniforge3/envs/ml/lib/python3.9/site-packages/sklearn/preprocessing/_encoders.py?line=40'>41</a>\u001b[0m \n\u001b[1;32m     <a href='file:///Users/andrea/miniforge3/envs/ml/lib/python3.9/site-packages/sklearn/preprocessing/_encoders.py?line=41'>42</a>\u001b[0m \u001b[39m\"\"\"\u001b[39;00m\n\u001b[1;32m     <a href='file:///Users/andrea/miniforge3/envs/ml/lib/python3.9/site-packages/sklearn/preprocessing/_encoders.py?line=42'>43</a>\u001b[0m \u001b[39mif\u001b[39;00m \u001b[39mnot\u001b[39;00m (\u001b[39mhasattr\u001b[39m(X, \u001b[39m\"\u001b[39m\u001b[39miloc\u001b[39m\u001b[39m\"\u001b[39m) \u001b[39mand\u001b[39;00m \u001b[39mgetattr\u001b[39m(X, \u001b[39m\"\u001b[39m\u001b[39mndim\u001b[39m\u001b[39m\"\u001b[39m, \u001b[39m0\u001b[39m) \u001b[39m==\u001b[39m \u001b[39m2\u001b[39m):\n\u001b[1;32m     <a href='file:///Users/andrea/miniforge3/envs/ml/lib/python3.9/site-packages/sklearn/preprocessing/_encoders.py?line=43'>44</a>\u001b[0m     \u001b[39m# if not a dataframe, do normal check_array validation\u001b[39;00m\n\u001b[0;32m---> <a href='file:///Users/andrea/miniforge3/envs/ml/lib/python3.9/site-packages/sklearn/preprocessing/_encoders.py?line=44'>45</a>\u001b[0m     X_temp \u001b[39m=\u001b[39m check_array(X, dtype\u001b[39m=\u001b[39;49m\u001b[39mNone\u001b[39;49;00m, force_all_finite\u001b[39m=\u001b[39;49mforce_all_finite)\n\u001b[1;32m     <a href='file:///Users/andrea/miniforge3/envs/ml/lib/python3.9/site-packages/sklearn/preprocessing/_encoders.py?line=45'>46</a>\u001b[0m     \u001b[39mif\u001b[39;00m \u001b[39mnot\u001b[39;00m \u001b[39mhasattr\u001b[39m(X, \u001b[39m\"\u001b[39m\u001b[39mdtype\u001b[39m\u001b[39m\"\u001b[39m) \u001b[39mand\u001b[39;00m np\u001b[39m.\u001b[39missubdtype(X_temp\u001b[39m.\u001b[39mdtype, np\u001b[39m.\u001b[39mstr_):\n\u001b[1;32m     <a href='file:///Users/andrea/miniforge3/envs/ml/lib/python3.9/site-packages/sklearn/preprocessing/_encoders.py?line=46'>47</a>\u001b[0m         X \u001b[39m=\u001b[39m check_array(X, dtype\u001b[39m=\u001b[39m\u001b[39mobject\u001b[39m, force_all_finite\u001b[39m=\u001b[39mforce_all_finite)\n",
      "File \u001b[0;32m~/miniforge3/envs/ml/lib/python3.9/site-packages/sklearn/utils/validation.py:879\u001b[0m, in \u001b[0;36mcheck_array\u001b[0;34m(array, accept_sparse, accept_large_sparse, dtype, order, copy, force_all_finite, ensure_2d, allow_nd, ensure_min_samples, ensure_min_features, estimator, input_name)\u001b[0m\n\u001b[1;32m    <a href='file:///Users/andrea/miniforge3/envs/ml/lib/python3.9/site-packages/sklearn/utils/validation.py?line=876'>877</a>\u001b[0m     \u001b[39m# If input is 1D raise error\u001b[39;00m\n\u001b[1;32m    <a href='file:///Users/andrea/miniforge3/envs/ml/lib/python3.9/site-packages/sklearn/utils/validation.py?line=877'>878</a>\u001b[0m     \u001b[39mif\u001b[39;00m array\u001b[39m.\u001b[39mndim \u001b[39m==\u001b[39m \u001b[39m1\u001b[39m:\n\u001b[0;32m--> <a href='file:///Users/andrea/miniforge3/envs/ml/lib/python3.9/site-packages/sklearn/utils/validation.py?line=878'>879</a>\u001b[0m         \u001b[39mraise\u001b[39;00m \u001b[39mValueError\u001b[39;00m(\n\u001b[1;32m    <a href='file:///Users/andrea/miniforge3/envs/ml/lib/python3.9/site-packages/sklearn/utils/validation.py?line=879'>880</a>\u001b[0m             \u001b[39m\"\u001b[39m\u001b[39mExpected 2D array, got 1D array instead:\u001b[39m\u001b[39m\\n\u001b[39;00m\u001b[39marray=\u001b[39m\u001b[39m{}\u001b[39;00m\u001b[39m.\u001b[39m\u001b[39m\\n\u001b[39;00m\u001b[39m\"\u001b[39m\n\u001b[1;32m    <a href='file:///Users/andrea/miniforge3/envs/ml/lib/python3.9/site-packages/sklearn/utils/validation.py?line=880'>881</a>\u001b[0m             \u001b[39m\"\u001b[39m\u001b[39mReshape your data either using array.reshape(-1, 1) if \u001b[39m\u001b[39m\"\u001b[39m\n\u001b[1;32m    <a href='file:///Users/andrea/miniforge3/envs/ml/lib/python3.9/site-packages/sklearn/utils/validation.py?line=881'>882</a>\u001b[0m             \u001b[39m\"\u001b[39m\u001b[39myour data has a single feature or array.reshape(1, -1) \u001b[39m\u001b[39m\"\u001b[39m\n\u001b[1;32m    <a href='file:///Users/andrea/miniforge3/envs/ml/lib/python3.9/site-packages/sklearn/utils/validation.py?line=882'>883</a>\u001b[0m             \u001b[39m\"\u001b[39m\u001b[39mif it contains a single sample.\u001b[39m\u001b[39m\"\u001b[39m\u001b[39m.\u001b[39mformat(array)\n\u001b[1;32m    <a href='file:///Users/andrea/miniforge3/envs/ml/lib/python3.9/site-packages/sklearn/utils/validation.py?line=883'>884</a>\u001b[0m         )\n\u001b[1;32m    <a href='file:///Users/andrea/miniforge3/envs/ml/lib/python3.9/site-packages/sklearn/utils/validation.py?line=885'>886</a>\u001b[0m \u001b[39mif\u001b[39;00m dtype_numeric \u001b[39mand\u001b[39;00m array\u001b[39m.\u001b[39mdtype\u001b[39m.\u001b[39mkind \u001b[39min\u001b[39;00m \u001b[39m\"\u001b[39m\u001b[39mUSV\u001b[39m\u001b[39m\"\u001b[39m:\n\u001b[1;32m    <a href='file:///Users/andrea/miniforge3/envs/ml/lib/python3.9/site-packages/sklearn/utils/validation.py?line=886'>887</a>\u001b[0m     \u001b[39mraise\u001b[39;00m \u001b[39mValueError\u001b[39;00m(\n\u001b[1;32m    <a href='file:///Users/andrea/miniforge3/envs/ml/lib/python3.9/site-packages/sklearn/utils/validation.py?line=887'>888</a>\u001b[0m         \u001b[39m\"\u001b[39m\u001b[39mdtype=\u001b[39m\u001b[39m'\u001b[39m\u001b[39mnumeric\u001b[39m\u001b[39m'\u001b[39m\u001b[39m is not compatible with arrays of bytes/strings.\u001b[39m\u001b[39m\"\u001b[39m\n\u001b[1;32m    <a href='file:///Users/andrea/miniforge3/envs/ml/lib/python3.9/site-packages/sklearn/utils/validation.py?line=888'>889</a>\u001b[0m         \u001b[39m\"\u001b[39m\u001b[39mConvert your data to numeric values explicitly instead.\u001b[39m\u001b[39m\"\u001b[39m\n\u001b[1;32m    <a href='file:///Users/andrea/miniforge3/envs/ml/lib/python3.9/site-packages/sklearn/utils/validation.py?line=889'>890</a>\u001b[0m     )\n",
      "\u001b[0;31mValueError\u001b[0m: Expected 2D array, got 1D array instead:\narray=['l' '' '' '' ''].\nReshape your data either using array.reshape(-1, 1) if your data has a single feature or array.reshape(1, -1) if it contains a single sample."
     ]
    }
   ],
   "source": [
    "# Train Model\n",
    "history = model.fit(train_gen, validation_data=val_gen, epochs=cfg.epochs, callbacks=callbacks, class_weight=class_weights)\n",
    "val_gen.evaluate = True"
   ]
  },
  {
   "cell_type": "code",
   "execution_count": null,
   "metadata": {},
   "outputs": [],
   "source": [
    "# Evaluate Model\n",
    "val_logits = model.predict(val_gen, verbose=1)"
   ]
  },
  {
   "cell_type": "code",
   "execution_count": null,
   "metadata": {},
   "outputs": [],
   "source": [
    "# free up memory\n",
    "del X_train\n",
    "del y_train\n",
    "del X_val\n",
    "del y_val\n",
    "\n",
    "gc.collect()\n"
   ]
  },
  {
   "cell_type": "code",
   "execution_count": null,
   "metadata": {},
   "outputs": [],
   "source": [
    "# Log metrics to wandb\n",
    "y_pred_val_classes = np.argmax(val_logits, axis=1).tolist()\n",
    "\n",
    "# wandb.sklearn.plot_roc(y_val_series, val_logits, classes)\n",
    "# wandb.sklearn.plot_class_proportions(y_train_series, y_val_series, classes)\n",
    "# wandb.sklearn.plot_precision_recall(y_val_series, val_logits, classes)\n",
    "# wandb.sklearn.plot_confusion_matrix(y_val_series, y_pred_val_classes, classes)\n",
    "wandb.join()"
   ]
  }
 ],
 "metadata": {
  "interpreter": {
   "hash": "045da2998f02dde6c755b0fa2e74d8766d7d056d6163358ab445ad432d6df67f"
  },
  "kernelspec": {
   "display_name": "Python 3.9.12 ('ml')",
   "language": "python",
   "name": "python3"
  },
  "language_info": {
   "codemirror_mode": {
    "name": "ipython",
    "version": 3
   },
   "file_extension": ".py",
   "mimetype": "text/x-python",
   "name": "python",
   "nbconvert_exporter": "python",
   "pygments_lexer": "ipython3",
   "version": "3.9.12"
  },
  "orig_nbformat": 4
 },
 "nbformat": 4,
 "nbformat_minor": 2
}
