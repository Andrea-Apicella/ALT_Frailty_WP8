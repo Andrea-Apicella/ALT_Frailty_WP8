{
 "cells": [
  {
   "cell_type": "code",
   "execution_count": 1,
   "metadata": {},
   "outputs": [],
   "source": [
    "%load_ext autoreload\n",
    "%autoreload 2"
   ]
  },
  {
   "cell_type": "code",
   "execution_count": 2,
   "metadata": {},
   "outputs": [
    {
     "name": "stdout",
     "output_type": "stream",
     "text": [
      "The Zen of Python, by Tim Peters\n",
      "\n",
      "Beautiful is better than ugly.\n",
      "Explicit is better than implicit.\n",
      "Simple is better than complex.\n",
      "Complex is better than complicated.\n",
      "Flat is better than nested.\n",
      "Sparse is better than dense.\n",
      "Readability counts.\n",
      "Special cases aren't special enough to break the rules.\n",
      "Although practicality beats purity.\n",
      "Errors should never pass silently.\n",
      "Unless explicitly silenced.\n",
      "In the face of ambiguity, refuse the temptation to guess.\n",
      "There should be one-- and preferably only one --obvious way to do it.\n",
      "Although that way may not be obvious at first unless you're Dutch.\n",
      "Now is better than never.\n",
      "Although never is often better than *right* now.\n",
      "If the implementation is hard to explain, it's a bad idea.\n",
      "If the implementation is easy to explain, it may be a good idea.\n",
      "Namespaces are one honking great idea -- let's do more of those!\n"
     ]
    }
   ],
   "source": [
    "# Imports\n",
    "import gc\n",
    "import os, random\n",
    "from collections import Counter\n",
    "from datetime import datetime\n",
    "\n",
    "import numpy as np\n",
    "import tensorflow as tf\n",
    "from sklearn.metrics import classification_report\n",
    "\n",
    "from tensorflow.keras.callbacks import ModelCheckpoint, EarlyStopping, ReduceLROnPlateau\n",
    "from tensorflow.keras.layers import LSTM, Dense, Dropout\n",
    "from tensorflow.keras.models import Sequential\n",
    "from wandb.keras import WandbCallback\n",
    "\n",
    "import wandb\n",
    "from wp8.pre_processing.utils import safe_mkdir\n",
    "from wp8.utils.cnn_rnn_utils import load_and_split\n",
    "from wp8.utils.dataset import TimeSeriesGenerator as TSG\n",
    "\n",
    "import matplotlib.pyplot as plt"
   ]
  },
  {
   "cell_type": "code",
   "execution_count": 3,
   "metadata": {},
   "outputs": [],
   "source": [
    "os.environ[\"TF_CUDNN_DETERMINISTIC\"] = \"1\"\n",
    "random.seed(hash(\"setting random seeds\") % 2**32 - 1)\n",
    "np.random.seed(hash(\"improves reproducibility\") % 2**32 - 1)\n",
    "tf.random.set_seed(hash(\"by removing stochasticity\") % 2**32 - 1)\n"
   ]
  },
  {
   "cell_type": "code",
   "execution_count": 4,
   "metadata": {},
   "outputs": [],
   "source": [
    "class dotdict(dict):\n",
    "    \"\"\"dot.notation access to dictionary attributes\"\"\"\n",
    "\n",
    "    __getattr__ = dict.get\n",
    "    __setattr__ = dict.__setitem__\n",
    "    __delattr__ = dict.__delitem__"
   ]
  },
  {
   "cell_type": "markdown",
   "metadata": {},
   "source": [
    "## Options"
   ]
  },
  {
   "cell_type": "code",
   "execution_count": 5,
   "metadata": {},
   "outputs": [],
   "source": [
    "opt = dotdict(\n",
    "    {\n",
    "        \"lstm1_units\": 128,\n",
    "        \"lstm2_units\": 64,\n",
    "        \"dense_units\": 32,\n",
    "        \"dropout\": 0.4,\n",
    "        \"epochs\": 1000,\n",
    "        \"train_actors\": [1, 2, 3],\n",
    "        \"val_actors\": [4],\n",
    "        \"train_cams\": [1, 2, 3,4,5,6,7],\n",
    "        \"val_cams\": [1],\n",
    "        \"seq_len\": 20,\n",
    "        \"split_ratio\": None,\n",
    "        \"drop_offair\": True,\n",
    "        \"batch_size\": 32,\n",
    "        \"stride\": 10,\n",
    "        \"learning_rate\": 1e-5,\n",
    "        \"micro_classes\": False,\n",
    "        \"oversampler\": \"random\",\n",
    "        \"undersampler\": \"random\",\n",
    "    }\n",
    ")\n"
   ]
  },
  {
   "cell_type": "markdown",
   "metadata": {},
   "source": [
    "## Load Data"
   ]
  },
  {
   "cell_type": "code",
   "execution_count": 6,
   "metadata": {},
   "outputs": [
    {
     "name": "stdout",
     "output_type": "stream",
     "text": [
      "[STATUS] Load Train Set\n"
     ]
    },
    {
     "data": {
      "application/vnd.jupyter.widget-view+json": {
       "model_id": "7be4559c70a04659bc20727caf150920",
       "version_major": 2,
       "version_minor": 0
      },
      "text/plain": [
       "  0%|          | 0/44 [00:00<?, ?it/s]"
      ]
     },
     "metadata": {},
     "output_type": "display_data"
    },
    {
     "data": {
      "application/vnd.jupyter.widget-view+json": {
       "model_id": "4a9e676578f84120b00b34e58c138f85",
       "version_major": 2,
       "version_minor": 0
      },
      "text/plain": [
       "Loading csv datasets:   0%|          | 0/44 [00:00<?, ?it/s]"
      ]
     },
     "metadata": {},
     "output_type": "display_data"
    },
    {
     "name": "stdout",
     "output_type": "stream",
     "text": [
      "[STATUS] Load Val Set\n"
     ]
    },
    {
     "data": {
      "application/vnd.jupyter.widget-view+json": {
       "model_id": "6d41787a9c834b839ad0892092782d8f",
       "version_major": 2,
       "version_minor": 0
      },
      "text/plain": [
       "  0%|          | 0/6 [00:00<?, ?it/s]"
      ]
     },
     "metadata": {},
     "output_type": "display_data"
    },
    {
     "data": {
      "application/vnd.jupyter.widget-view+json": {
       "model_id": "caee7dfb5485487193772105ce63db30",
       "version_major": 2,
       "version_minor": 0
      },
      "text/plain": [
       "Loading csv datasets:   0%|          | 0/6 [00:00<?, ?it/s]"
      ]
     },
     "metadata": {},
     "output_type": "display_data"
    },
    {
     "name": "stdout",
     "output_type": "stream",
     "text": [
      "\n",
      "X_train shape: (346738, 2048), len y_train: 346738, X_val shape: (5624, 2048), len y_val: 5624\n",
      "\n"
     ]
    }
   ],
   "source": [
    "X_train, y_train, X_val, y_val, cams_train, cams_val = load_and_split(\n",
    "    opt.train_actors, opt.val_actors, opt.train_cams, opt.val_cams, opt.split_ratio, opt.drop_offair, opt.undersample, opt.micro_classes\n",
    ")\n",
    "print(f\"\\nX_train shape: {X_train.shape}, len y_train: {len(y_train)}, X_val shape: {X_val.shape}, len y_val: {len(y_val)}\\n\")\n"
   ]
  },
  {
   "cell_type": "markdown",
   "metadata": {},
   "source": [
    "## Split in Series"
   ]
  },
  {
   "cell_type": "code",
   "execution_count": 7,
   "metadata": {},
   "outputs": [
    {
     "data": {
      "application/vnd.jupyter.widget-view+json": {
       "model_id": "d7d0156da00847bb9eedc0d18cecb69c",
       "version_major": 2,
       "version_minor": 0
      },
      "text/plain": [
       "  0%|          | 0/34672 [00:00<?, ?it/s]"
      ]
     },
     "metadata": {},
     "output_type": "display_data"
    },
    {
     "name": "stdout",
     "output_type": "stream",
     "text": [
      "Classes mapping:\n",
      "{'adl': 1, 'falling': 2, 'lying_down': 3}\n",
      "\n",
      "Class distribution:\n",
      "Counter({'adl': 24433, 'falling': 6903, 'lying_down': 3336})\n"
     ]
    },
    {
     "data": {
      "application/vnd.jupyter.widget-view+json": {
       "model_id": "7f1d950a6cf642e7ab07ec7ee4a5f451",
       "version_major": 2,
       "version_minor": 0
      },
      "text/plain": [
       "  0%|          | 0/561 [00:00<?, ?it/s]"
      ]
     },
     "metadata": {},
     "output_type": "display_data"
    },
    {
     "name": "stdout",
     "output_type": "stream",
     "text": [
      "\n",
      "X_train_series shape: (34672, 20, 2048), len y_train_series: 34672, X_val_series shape: (561, 20, 2048), len y_val_series: 561\n",
      "\n"
     ]
    }
   ],
   "source": [
    "series_gen = TSG(opt)\n",
    "X_train_series, y_train_series, distrib, classes = series_gen.get_train_series(X_train, y_train, cams_train)\n",
    "X_val_series, y_val_series = series_gen.get_val_series(X_val, y_val, cams_val)\n",
    "print(f\"\\nX_train_series shape: {X_train_series.shape}, len y_train_series: {len(y_train_series)}, X_val_series shape: {X_val_series.shape}, len y_val_series: {len(y_val_series)}\\n\")"
   ]
  },
  {
   "cell_type": "code",
   "execution_count": 8,
   "metadata": {},
   "outputs": [
    {
     "data": {
      "image/png": "[encoded data removed]",
      "text/plain": [
       "<Figure size 432x288 with 1 Axes>"
      ]
     },
     "metadata": {
      "needs_background": "light"
     },
     "output_type": "display_data"
    }
   ],
   "source": [
    "plt.bar(distrib.keys(), distrib.values())\n",
    "plt.title(\"Training series distribution\")\n",
    "plt.xlabel(\"classes\")\n",
    "plt.ylabel(\"samples\")\n",
    "plt.grid(axis='y')\n",
    "plt.show()"
   ]
  },
  {
   "cell_type": "code",
   "execution_count": 9,
   "metadata": {},
   "outputs": [
    {
     "name": "stdout",
     "output_type": "stream",
     "text": [
      "Before resampling - y_train_series shape: [(0, 24433), (1, 6903), (2, 3336)]\n",
      "lie_down_samples: 6903\n",
      "adl_samples: 24433\n",
      "fall_samples: 3336\n"
     ]
    }
   ],
   "source": [
    "distrib = Counter(y_train_series).most_common()\n",
    "print(f\"Before resampling - y_train_series shape: {distrib}\")\n",
    "\n",
    "adl_samples, lie_down_samples, fall_samples = distrib[0][1], distrib[1][1], distrib[2][1]\n",
    "\n",
    "print(f\"lie_down_samples: {lie_down_samples}\\nadl_samples: {adl_samples}\\nfall_samples: {fall_samples}\")\n"
   ]
  },
  {
   "cell_type": "markdown",
   "metadata": {},
   "source": [
    "### Resampling\n"
   ]
  },
  {
   "cell_type": "code",
   "execution_count": 10,
   "metadata": {},
   "outputs": [],
   "source": [
    "from imblearn.under_sampling import RandomUnderSampler, TomekLinks, NearMiss\n",
    "from imblearn.over_sampling import RandomOverSampler, SMOTE\n",
    "from imblearn.pipeline import Pipeline\n",
    "#from imblearn.combine import SMOTETomek\n",
    "\n",
    "#res_ratio = int(fall_samples*1.5)\n",
    "\n",
    "#undersampling_strategy = {0: res_ratio, 2: res_ratio, 1: res_ratio}\n",
    "\n",
    "\n",
    "oversampling_strategy = {0: adl_samples, 1: int(adl_samples * 0.8), 2: int(adl_samples * 0.8)}\n",
    "undersampling_strategy = \"not minority\"\n",
    "\n",
    "#over = RandomOverSampler(random_state=2, sampling_strategy=oversampling_strategy)\n",
    "under = RandomUnderSampler(random_state=2, sampling_strategy=undersampling_strategy)\n",
    "\n",
    "#nearmiss = NearMiss(version=3, sampling_strategy=undersampling_strategy)\n",
    "\n",
    "\n",
    "over = SMOTE(random_state=2, sampling_strategy=oversampling_strategy, n_jobs=-1)\n",
    "\n",
    "#steps = [(\"o\", over), (\"u\", under)]\n",
    "#steps = [(\"smote\", smote), (\"u\", under)]\n",
    "\n",
    "steps = [(\"oversample\", over), (\"undersample\", under)]\n",
    "pipeline = Pipeline(steps=steps)\n"
   ]
  },
  {
   "cell_type": "code",
   "execution_count": 11,
   "metadata": {},
   "outputs": [
    {
     "name": "stdout",
     "output_type": "stream",
     "text": [
      "Original X_train_series shape: (34672, 20, 2048)\n",
      "X_train_series reshaped: (34672, 40960)\n",
      "After resampling X_train_series shape: (58638, 20, 2048)\n",
      "After resampling - y_train_series count: Counter({0: 19546, 1: 19546, 2: 19546})\n"
     ]
    }
   ],
   "source": [
    "print(f\"Original X_train_series shape: {X_train_series.shape}\")\n",
    "\n",
    "X_train_series = np.reshape(X_train_series, (-1, opt.seq_len * 2048))\n",
    "print(f\"X_train_series reshaped: {X_train_series.shape}\")\n",
    "\n",
    "X_train_series, y_train_series = pipeline.fit_resample(X_train_series, y_train_series)\n",
    "\n",
    "X_train_series = np.reshape(X_train_series, (-1, opt.seq_len, 2048))\n",
    "\n",
    "print(f\"After resampling X_train_series shape: {X_train_series.shape}\")\n",
    "print(f\"After resampling - y_train_series count: {Counter(y_train_series)}\")\n"
   ]
  },
  {
   "cell_type": "code",
   "execution_count": 12,
   "metadata": {},
   "outputs": [
    {
     "name": "stderr",
     "output_type": "stream",
     "text": [
      "Failed to detect the name of this notebook, you can set it manually with the WANDB_NOTEBOOK_NAME environment variable to enable code saving.\n",
      "\u001b[34m\u001b[1mwandb\u001b[0m: Currently logged in as: \u001b[33mandreaapi\u001b[0m. Use \u001b[1m`wandb login --relogin`\u001b[0m to force relogin\n"
     ]
    },
    {
     "data": {
      "text/html": [
       "wandb version 0.12.18 is available!  To upgrade, please run:\n",
       " $ pip install wandb --upgrade"
      ],
      "text/plain": [
       "<IPython.core.display.HTML object>"
      ]
     },
     "metadata": {},
     "output_type": "display_data"
    },
    {
     "data": {
      "text/html": [
       "Tracking run with wandb version 0.12.16"
      ],
      "text/plain": [
       "<IPython.core.display.HTML object>"
      ]
     },
     "metadata": {},
     "output_type": "display_data"
    },
    {
     "data": {
      "text/html": [
       "Run data is saved locally in <code>/home/users/andreaap/ALT_Frailty_WP8/wp8/wandb/run-20220613_123226-2wzm3anf</code>"
      ],
      "text/plain": [
       "<IPython.core.display.HTML object>"
      ]
     },
     "metadata": {},
     "output_type": "display_data"
    },
    {
     "data": {
      "text/html": [
       "Syncing run <strong><a href=\"https://wandb.ai/andreaapi/Fall%20detection%20CNN%20%2B%20RNN/runs/2wzm3anf\" target=\"_blank\">dulcet-bush-123</a></strong> to <a href=\"https://wandb.ai/andreaapi/Fall%20detection%20CNN%20%2B%20RNN\" target=\"_blank\">Weights & Biases</a> (<a href=\"https://wandb.me/run\" target=\"_blank\">docs</a>)<br/>"
      ],
      "text/plain": [
       "<IPython.core.display.HTML object>"
      ]
     },
     "metadata": {},
     "output_type": "display_data"
    }
   ],
   "source": [
    "# WANDB project initialization\n",
    "run = wandb.init(\n",
    "    project=\"Fall detection CNN + RNN\",\n",
    "    config={\n",
    "        \"model\": \"LSTM\",\n",
    "        \"epochs\": opt.epochs,\n",
    "        \"seq_len\": opt.seq_len,\n",
    "        \"num_features\": 2048,\n",
    "        \"batch_size\": opt.batch_size,\n",
    "        \"stride\": opt.stride,\n",
    "        \"loss_function\": \"sparse_categorical_crossentropy\",\n",
    "        \"architecture\": \"LSTM\",\n",
    "        \"train_actors\": opt.train_actors,\n",
    "        \"val_actors\": opt.val_actors,\n",
    "        \"train_cams\": opt.train_cams,\n",
    "        \"val_cams\": opt.val_cams,\n",
    "        \"micro_classes\": opt.classes,\n",
    "        \"dropout\": opt.dropout,\n",
    "        \"lstm1_units\": opt.lstm1_units,\n",
    "        \"lstm2_units\": opt.lstm2_units,\n",
    "        \"dense_units\": opt.dense_units,\n",
    "        \"learning_rate\": opt.learning_rate,\n",
    "        \"split_ratio\": opt.split_ratio,\n",
    "        \"drop_offair\": opt.drop_offair,\n",
    "    },\n",
    ")\n",
    "\n",
    "cfg = wandb.config\n"
   ]
  },
  {
   "cell_type": "markdown",
   "metadata": {},
   "source": [
    "## Model"
   ]
  },
  {
   "cell_type": "code",
   "execution_count": 13,
   "metadata": {},
   "outputs": [
    {
     "name": "stderr",
     "output_type": "stream",
     "text": [
      "2022-06-13 12:32:32.397465: I tensorflow/stream_executor/cuda/cuda_gpu_executor.cc:939] successful NUMA node read from SysFS had negative value (-1), but there must be at least one NUMA node, so returning NUMA node zero\n",
      "2022-06-13 12:32:32.401891: I tensorflow/stream_executor/cuda/cuda_gpu_executor.cc:939] successful NUMA node read from SysFS had negative value (-1), but there must be at least one NUMA node, so returning NUMA node zero\n",
      "2022-06-13 12:32:32.402087: I tensorflow/stream_executor/cuda/cuda_gpu_executor.cc:939] successful NUMA node read from SysFS had negative value (-1), but there must be at least one NUMA node, so returning NUMA node zero\n",
      "2022-06-13 12:32:32.402663: I tensorflow/core/platform/cpu_feature_guard.cc:151] This TensorFlow binary is optimized with oneAPI Deep Neural Network Library (oneDNN) to use the following CPU instructions in performance-critical operations:  SSE4.1 SSE4.2 AVX AVX2 FMA\n",
      "To enable them in other operations, rebuild TensorFlow with the appropriate compiler flags.\n",
      "2022-06-13 12:32:32.404567: I tensorflow/stream_executor/cuda/cuda_gpu_executor.cc:939] successful NUMA node read from SysFS had negative value (-1), but there must be at least one NUMA node, so returning NUMA node zero\n",
      "2022-06-13 12:32:32.404743: I tensorflow/stream_executor/cuda/cuda_gpu_executor.cc:939] successful NUMA node read from SysFS had negative value (-1), but there must be at least one NUMA node, so returning NUMA node zero\n",
      "2022-06-13 12:32:32.404900: I tensorflow/stream_executor/cuda/cuda_gpu_executor.cc:939] successful NUMA node read from SysFS had negative value (-1), but there must be at least one NUMA node, so returning NUMA node zero\n",
      "2022-06-13 12:32:32.766022: I tensorflow/stream_executor/cuda/cuda_gpu_executor.cc:939] successful NUMA node read from SysFS had negative value (-1), but there must be at least one NUMA node, so returning NUMA node zero\n",
      "2022-06-13 12:32:32.766227: I tensorflow/stream_executor/cuda/cuda_gpu_executor.cc:939] successful NUMA node read from SysFS had negative value (-1), but there must be at least one NUMA node, so returning NUMA node zero\n",
      "2022-06-13 12:32:32.766391: I tensorflow/stream_executor/cuda/cuda_gpu_executor.cc:939] successful NUMA node read from SysFS had negative value (-1), but there must be at least one NUMA node, so returning NUMA node zero\n",
      "2022-06-13 12:32:32.766532: I tensorflow/core/common_runtime/gpu/gpu_device.cc:1525] Created device /job:localhost/replica:0/task:0/device:GPU:0 with 22291 MB memory:  -> device: 0, name: NVIDIA GeForce RTX 3090, pci bus id: 0000:01:00.0, compute capability: 8.6\n"
     ]
    },
    {
     "name": "stdout",
     "output_type": "stream",
     "text": [
      "Model: \"sequential\"\n",
      "_________________________________________________________________\n",
      " Layer (type)                Output Shape              Param #   \n",
      "=================================================================\n",
      " lstm (LSTM)                 (None, 20, 128)           1114624   \n",
      "                                                                 \n",
      " dropout (Dropout)           (None, 20, 128)           0         \n",
      "                                                                 \n",
      " lstm_1 (LSTM)               (None, 64)                49408     \n",
      "                                                                 \n",
      " dropout_1 (Dropout)         (None, 64)                0         \n",
      "                                                                 \n",
      " dense (Dense)               (None, 32)                2080      \n",
      "                                                                 \n",
      " dropout_2 (Dropout)         (None, 32)                0         \n",
      "                                                                 \n",
      " dense_1 (Dense)             (None, 3)                 99        \n",
      "                                                                 \n",
      "=================================================================\n",
      "Total params: 1,166,211\n",
      "Trainable params: 1,166,211\n",
      "Non-trainable params: 0\n",
      "_________________________________________________________________\n"
     ]
    }
   ],
   "source": [
    "model = Sequential()\n",
    "model.add(LSTM(units=cfg.lstm1_units, input_shape=(cfg.seq_len, cfg.num_features), return_sequences=True))\n",
    "model.add(Dropout(cfg.dropout))\n",
    "model.add(LSTM(units=cfg.lstm2_units, input_shape=(cfg.seq_len, cfg.num_features), return_sequences=False))\n",
    "model.add(Dropout(cfg.dropout))\n",
    "model.add(Dense(units=cfg.dense_units, activation=\"relu\"))\n",
    "model.add(Dropout(cfg.dropout))\n",
    "model.add(Dense(units=np.unique(y_train_series, axis=0).shape[0], activation=\"softmax\"))\n",
    "model.compile(\n",
    "    optimizer=tf.keras.optimizers.Adam(learning_rate=cfg.learning_rate),\n",
    "    loss=cfg.loss_function,\n",
    "    metrics=[\"accuracy\", tf.keras.metrics.Recall(class_id=1, name=\"fall_recall\")],\n",
    ")\n",
    "model.summary()\n"
   ]
  },
  {
   "cell_type": "markdown",
   "metadata": {},
   "source": [
    "## Callbacks"
   ]
  },
  {
   "cell_type": "code",
   "execution_count": 14,
   "metadata": {},
   "outputs": [
    {
     "name": "stderr",
     "output_type": "stream",
     "text": [
      "\u001b[34m\u001b[1mwandb\u001b[0m: \u001b[33mWARNING\u001b[0m The save_model argument by default saves the model in the HDF5 format that cannot save custom objects like subclassed models and custom layers. This behavior will be deprecated in a future release in favor of the SavedModel format. Meanwhile, the HDF5 model is saved as W&B files and the SavedModel as W&B Artifacts.\n"
     ]
    }
   ],
   "source": [
    "# Callbacks\n",
    "dir_path = f\"model_checkpoints\"\n",
    "safe_mkdir(dir_path)\n",
    "now = datetime.now()\n",
    "dt_string = now.strftime(\"%d-%m-%Y_%H:%M:%S\")\n",
    "\n",
    "model_checkpoint = ModelCheckpoint(\n",
    "    filepath=f\"{dir_path}/{cfg.model}_{dt_string}\",\n",
    "    monitor=\"val_accuracy\",\n",
    "    save_best_only=True,\n",
    "    save_weights_only=True,\n",
    "    initial_value_threshold=0.8,\n",
    "    verbose=1,\n",
    ")\n",
    "\n",
    "reduce_lr = ReduceLROnPlateau(\n",
    "    monitor=\"val_loss\",\n",
    "    factor=0.1,\n",
    "    patience=5,\n",
    "    verbose=1,\n",
    "    mode=\"min\",\n",
    "    min_delta=1e-5,\n",
    "    cooldown=1,\n",
    "    min_lr=1e-6,\n",
    ")\n",
    "\n",
    "early_stop = EarlyStopping(\n",
    "    monitor=\"val_loss\",\n",
    "    patience=20,\n",
    "    verbose=1,\n",
    "    mode=\"min\",\n",
    ")\n",
    "\n",
    "callbacks = [WandbCallback(), model_checkpoint, reduce_lr, early_stop]\n"
   ]
  },
  {
   "cell_type": "markdown",
   "metadata": {},
   "source": [
    "## Train"
   ]
  },
  {
   "cell_type": "code",
   "execution_count": 15,
   "metadata": {},
   "outputs": [
    {
     "name": "stderr",
     "output_type": "stream",
     "text": [
      "2022-06-13 12:32:36.888967: W tensorflow/core/framework/cpu_allocator_impl.cc:82] Allocation of 9607249920 exceeds 10% of free system memory.\n",
      "2022-06-13 12:32:40.431966: W tensorflow/core/framework/cpu_allocator_impl.cc:82] Allocation of 9607249920 exceeds 10% of free system memory.\n"
     ]
    },
    {
     "name": "stdout",
     "output_type": "stream",
     "text": [
      "Epoch 1/1000\n"
     ]
    },
    {
     "name": "stderr",
     "output_type": "stream",
     "text": [
      "2022-06-13 12:32:44.755089: I tensorflow/stream_executor/cuda/cuda_dnn.cc:366] Loaded cuDNN version 8201\n"
     ]
    },
    {
     "name": "stdout",
     "output_type": "stream",
     "text": [
      "  11/1833 [..............................] - ETA: 9s - loss: 1.0992 - accuracy: 0.3324     "
     ]
    },
    {
     "name": "stderr",
     "output_type": "stream",
     "text": [
      "2022-06-13 12:32:45.275541: I tensorflow/stream_executor/cuda/cuda_blas.cc:1774] TensorFloat-32 will be used for the matrix multiplication. This will only be logged once.\n"
     ]
    },
    {
     "name": "stdout",
     "output_type": "stream",
     "text": [
      "1831/1833 [============================>.] - ETA: 0s - loss: 0.9931 - accuracy: 0.4810\n",
      "Epoch 00001: val_loss improved from inf to 1.00016, saving model to model_checkpoints/LSTM_13-06-2022_12:32:33\n",
      "1833/1833 [==============================] - 12s 6ms/step - loss: 0.9930 - accuracy: 0.4811 - val_loss: 1.0002 - val_accuracy: 0.4759 - _timestamp: 1655116375.0000 - _runtime: 29.0000 - lr: 1.0000e-05\n",
      "Epoch 2/1000\n",
      "1828/1833 [============================>.] - ETA: 0s - loss: 0.8234 - accuracy: 0.6069\n",
      "Epoch 00002: val_loss improved from 1.00016 to 0.86632, saving model to model_checkpoints/LSTM_13-06-2022_12:32:33\n",
      "1833/1833 [==============================] - 9s 5ms/step - loss: 0.8233 - accuracy: 0.6070 - val_loss: 0.8663 - val_accuracy: 0.6453 - _timestamp: 1655116384.0000 - _runtime: 38.0000 - lr: 1.0000e-05\n",
      "Epoch 3/1000\n",
      "1824/1833 [============================>.] - ETA: 0s - loss: 0.7470 - accuracy: 0.6553\n",
      "Epoch 00003: val_loss improved from 0.86632 to 0.86541, saving model to model_checkpoints/LSTM_13-06-2022_12:32:33\n",
      "1833/1833 [==============================] - 9s 5ms/step - loss: 0.7470 - accuracy: 0.6554 - val_loss: 0.8654 - val_accuracy: 0.6239 - _timestamp: 1655116393.0000 - _runtime: 47.0000 - lr: 1.0000e-05\n",
      "Epoch 4/1000\n",
      "1824/1833 [============================>.] - ETA: 0s - loss: 0.7015 - accuracy: 0.6845\n",
      "Epoch 00004: val_loss did not improve from 0.86541\n",
      "1833/1833 [==============================] - 9s 5ms/step - loss: 0.7014 - accuracy: 0.6846 - val_loss: 0.8817 - val_accuracy: 0.6221 - _timestamp: 1655116403.0000 - _runtime: 57.0000 - lr: 1.0000e-05\n",
      "Epoch 5/1000\n",
      "1826/1833 [============================>.] - ETA: 0s - loss: 0.6665 - accuracy: 0.7046\n",
      "Epoch 00005: val_loss did not improve from 0.86541\n",
      "1833/1833 [==============================] - 9s 5ms/step - loss: 0.6666 - accuracy: 0.7046 - val_loss: 0.9427 - val_accuracy: 0.6257 - _timestamp: 1655116412.0000 - _runtime: 66.0000 - lr: 1.0000e-05\n",
      "Epoch 6/1000\n",
      "1830/1833 [============================>.] - ETA: 0s - loss: 0.6377 - accuracy: 0.7212\n",
      "Epoch 00006: val_loss improved from 0.86541 to 0.82757, saving model to model_checkpoints/LSTM_13-06-2022_12:32:33\n",
      "1833/1833 [==============================] - 9s 5ms/step - loss: 0.6377 - accuracy: 0.7213 - val_loss: 0.8276 - val_accuracy: 0.6471 - _timestamp: 1655116421.0000 - _runtime: 75.0000 - lr: 1.0000e-05\n",
      "Epoch 7/1000\n",
      "1832/1833 [============================>.] - ETA: 0s - loss: 0.6157 - accuracy: 0.7332\n",
      "Epoch 00007: val_loss did not improve from 0.82757\n",
      "1833/1833 [==============================] - 9s 5ms/step - loss: 0.6157 - accuracy: 0.7332 - val_loss: 0.9292 - val_accuracy: 0.6381 - _timestamp: 1655116430.0000 - _runtime: 84.0000 - lr: 1.0000e-05\n",
      "Epoch 8/1000\n",
      "1827/1833 [============================>.] - ETA: 0s - loss: 0.5908 - accuracy: 0.7480\n",
      "Epoch 00008: val_loss improved from 0.82757 to 0.81188, saving model to model_checkpoints/LSTM_13-06-2022_12:32:33\n",
      "1833/1833 [==============================] - 9s 5ms/step - loss: 0.5911 - accuracy: 0.7477 - val_loss: 0.8119 - val_accuracy: 0.6506 - _timestamp: 1655116439.0000 - _runtime: 93.0000 - lr: 1.0000e-05\n",
      "Epoch 9/1000\n",
      "1831/1833 [============================>.] - ETA: 0s - loss: 0.5719 - accuracy: 0.7562\n",
      "Epoch 00009: val_loss did not improve from 0.81188\n",
      "1833/1833 [==============================] - 9s 5ms/step - loss: 0.5717 - accuracy: 0.7563 - val_loss: 0.9555 - val_accuracy: 0.6542 - _timestamp: 1655116449.0000 - _runtime: 103.0000 - lr: 1.0000e-05\n",
      "Epoch 10/1000\n",
      "1831/1833 [============================>.] - ETA: 0s - loss: 0.5541 - accuracy: 0.7663\n",
      "Epoch 00010: val_loss did not improve from 0.81188\n",
      "1833/1833 [==============================] - 9s 5ms/step - loss: 0.5540 - accuracy: 0.7664 - val_loss: 0.9049 - val_accuracy: 0.6613 - _timestamp: 1655116458.0000 - _runtime: 112.0000 - lr: 1.0000e-05\n",
      "Epoch 11/1000\n",
      "1830/1833 [============================>.] - ETA: 0s - loss: 0.5371 - accuracy: 0.7744\n",
      "Epoch 00011: val_loss did not improve from 0.81188\n",
      "1833/1833 [==============================] - 9s 5ms/step - loss: 0.5369 - accuracy: 0.7745 - val_loss: 0.8271 - val_accuracy: 0.6827 - _timestamp: 1655116467.0000 - _runtime: 121.0000 - lr: 1.0000e-05\n",
      "Epoch 12/1000\n",
      "1829/1833 [============================>.] - ETA: 0s - loss: 0.5219 - accuracy: 0.7831\n",
      "Epoch 00012: val_loss did not improve from 0.81188\n",
      "1833/1833 [==============================] - 9s 5ms/step - loss: 0.5220 - accuracy: 0.7831 - val_loss: 1.0953 - val_accuracy: 0.6471 - _timestamp: 1655116477.0000 - _runtime: 131.0000 - lr: 1.0000e-05\n",
      "Epoch 13/1000\n",
      "1833/1833 [==============================] - ETA: 0s - loss: 0.5111 - accuracy: 0.7876\n",
      "Epoch 00013: val_loss did not improve from 0.81188\n",
      "\n",
      "Epoch 00013: ReduceLROnPlateau reducing learning rate to 1e-06.\n",
      "1833/1833 [==============================] - 9s 5ms/step - loss: 0.5111 - accuracy: 0.7876 - val_loss: 0.8688 - val_accuracy: 0.6863 - _timestamp: 1655116486.0000 - _runtime: 140.0000 - lr: 1.0000e-05\n",
      "Epoch 14/1000\n",
      "1829/1833 [============================>.] - ETA: 0s - loss: 0.4907 - accuracy: 0.7980\n",
      "Epoch 00014: val_loss did not improve from 0.81188\n",
      "1833/1833 [==============================] - 9s 5ms/step - loss: 0.4908 - accuracy: 0.7979 - val_loss: 0.8637 - val_accuracy: 0.6934 - _timestamp: 1655116496.0000 - _runtime: 150.0000 - lr: 1.0000e-06\n",
      "Epoch 15/1000\n",
      "1833/1833 [==============================] - ETA: 0s - loss: 0.4889 - accuracy: 0.7991\n",
      "Epoch 00015: val_loss did not improve from 0.81188\n",
      "1833/1833 [==============================] - 9s 5ms/step - loss: 0.4889 - accuracy: 0.7991 - val_loss: 0.9202 - val_accuracy: 0.6898 - _timestamp: 1655116505.0000 - _runtime: 159.0000 - lr: 1.0000e-06\n",
      "Epoch 16/1000\n",
      "1827/1833 [============================>.] - ETA: 0s - loss: 0.4878 - accuracy: 0.7998\n",
      "Epoch 00016: val_loss did not improve from 0.81188\n",
      "1833/1833 [==============================] - 9s 5ms/step - loss: 0.4881 - accuracy: 0.7997 - val_loss: 0.8568 - val_accuracy: 0.6988 - _timestamp: 1655116514.0000 - _runtime: 168.0000 - lr: 1.0000e-06\n",
      "Epoch 17/1000\n",
      "1831/1833 [============================>.] - ETA: 0s - loss: 0.4878 - accuracy: 0.7992\n",
      "Epoch 00017: val_loss did not improve from 0.81188\n",
      "1833/1833 [==============================] - 9s 5ms/step - loss: 0.4878 - accuracy: 0.7992 - val_loss: 0.8667 - val_accuracy: 0.7005 - _timestamp: 1655116523.0000 - _runtime: 177.0000 - lr: 1.0000e-06\n",
      "Epoch 18/1000\n",
      "1825/1833 [============================>.] - ETA: 0s - loss: 0.4849 - accuracy: 0.8010\n",
      "Epoch 00018: val_loss did not improve from 0.81188\n",
      "1833/1833 [==============================] - 9s 5ms/step - loss: 0.4853 - accuracy: 0.8008 - val_loss: 0.8704 - val_accuracy: 0.6988 - _timestamp: 1655116532.0000 - _runtime: 186.0000 - lr: 1.0000e-06\n",
      "Epoch 19/1000\n",
      "1828/1833 [============================>.] - ETA: 0s - loss: 0.4817 - accuracy: 0.8044\n",
      "Epoch 00019: val_loss did not improve from 0.81188\n",
      "1833/1833 [==============================] - 9s 5ms/step - loss: 0.4820 - accuracy: 0.8044 - val_loss: 0.8819 - val_accuracy: 0.6988 - _timestamp: 1655116541.0000 - _runtime: 195.0000 - lr: 1.0000e-06\n",
      "Epoch 20/1000\n",
      "1823/1833 [============================>.] - ETA: 0s - loss: 0.4813 - accuracy: 0.8005\n",
      "Epoch 00020: val_loss did not improve from 0.81188\n",
      "1833/1833 [==============================] - 9s 5ms/step - loss: 0.4815 - accuracy: 0.8004 - val_loss: 0.8395 - val_accuracy: 0.7094 - _timestamp: 1655116550.0000 - _runtime: 204.0000 - lr: 1.0000e-06\n",
      "Epoch 21/1000\n",
      "1831/1833 [============================>.] - ETA: 0s - loss: 0.4796 - accuracy: 0.8026\n",
      "Epoch 00021: val_loss did not improve from 0.81188\n",
      "1833/1833 [==============================] - 9s 5ms/step - loss: 0.4796 - accuracy: 0.8026 - val_loss: 0.8843 - val_accuracy: 0.6970 - _timestamp: 1655116560.0000 - _runtime: 214.0000 - lr: 1.0000e-06\n",
      "Epoch 22/1000\n",
      "1823/1833 [============================>.] - ETA: 0s - loss: 0.4786 - accuracy: 0.8043\n",
      "Epoch 00022: val_loss did not improve from 0.81188\n",
      "1833/1833 [==============================] - 9s 5ms/step - loss: 0.4786 - accuracy: 0.8043 - val_loss: 0.8476 - val_accuracy: 0.7112 - _timestamp: 1655116569.0000 - _runtime: 223.0000 - lr: 1.0000e-06\n",
      "Epoch 23/1000\n",
      "1831/1833 [============================>.] - ETA: 0s - loss: 0.4794 - accuracy: 0.8023\n",
      "Epoch 00023: val_loss did not improve from 0.81188\n",
      "1833/1833 [==============================] - 9s 5ms/step - loss: 0.4793 - accuracy: 0.8024 - val_loss: 0.9181 - val_accuracy: 0.6970 - _timestamp: 1655116578.0000 - _runtime: 232.0000 - lr: 1.0000e-06\n",
      "Epoch 24/1000\n",
      "1831/1833 [============================>.] - ETA: 0s - loss: 0.4776 - accuracy: 0.8050\n",
      "Epoch 00024: val_loss did not improve from 0.81188\n",
      "1833/1833 [==============================] - 9s 5ms/step - loss: 0.4775 - accuracy: 0.8050 - val_loss: 0.8755 - val_accuracy: 0.7005 - _timestamp: 1655116587.0000 - _runtime: 241.0000 - lr: 1.0000e-06\n",
      "Epoch 25/1000\n",
      "1824/1833 [============================>.] - ETA: 0s - loss: 0.4746 - accuracy: 0.8074\n",
      "Epoch 00025: val_loss did not improve from 0.81188\n",
      "1833/1833 [==============================] - 9s 5ms/step - loss: 0.4747 - accuracy: 0.8074 - val_loss: 0.8729 - val_accuracy: 0.7059 - _timestamp: 1655116596.0000 - _runtime: 250.0000 - lr: 1.0000e-06\n",
      "Epoch 26/1000\n",
      "1828/1833 [============================>.] - ETA: 0s - loss: 0.4754 - accuracy: 0.8050\n",
      "Epoch 00026: val_loss did not improve from 0.81188\n",
      "1833/1833 [==============================] - 9s 5ms/step - loss: 0.4753 - accuracy: 0.8049 - val_loss: 0.8773 - val_accuracy: 0.7094 - _timestamp: 1655116605.0000 - _runtime: 259.0000 - lr: 1.0000e-06\n",
      "Epoch 27/1000\n",
      "1826/1833 [============================>.] - ETA: 0s - loss: 0.4740 - accuracy: 0.8077\n",
      "Epoch 00027: val_loss did not improve from 0.81188\n",
      "1833/1833 [==============================] - 9s 5ms/step - loss: 0.4744 - accuracy: 0.8075 - val_loss: 0.8376 - val_accuracy: 0.7166 - _timestamp: 1655116614.0000 - _runtime: 268.0000 - lr: 1.0000e-06\n",
      "Epoch 28/1000\n",
      "1825/1833 [============================>.] - ETA: 0s - loss: 0.4699 - accuracy: 0.8075\n",
      "Epoch 00028: val_loss did not improve from 0.81188\n",
      "1833/1833 [==============================] - 10s 5ms/step - loss: 0.4699 - accuracy: 0.8073 - val_loss: 0.8836 - val_accuracy: 0.7112 - _timestamp: 1655116624.0000 - _runtime: 278.0000 - lr: 1.0000e-06\n",
      "Epoch 29/1000\n",
      "1824/1833 [============================>.] - ETA: 0s - loss: 0.4717 - accuracy: 0.8078\n",
      "Epoch 00029: val_loss did not improve from 0.81188\n",
      "1833/1833 [==============================] - 9s 5ms/step - loss: 0.4715 - accuracy: 0.8077 - val_loss: 0.8389 - val_accuracy: 0.7184 - _timestamp: 1655116633.0000 - _runtime: 287.0000 - lr: 1.0000e-06\n",
      "Epoch 30/1000\n",
      "1829/1833 [============================>.] - ETA: 0s - loss: 0.4726 - accuracy: 0.8080\n",
      "Epoch 00030: val_loss did not improve from 0.81188\n",
      "1833/1833 [==============================] - 9s 5ms/step - loss: 0.4725 - accuracy: 0.8081 - val_loss: 0.9030 - val_accuracy: 0.7005 - _timestamp: 1655116642.0000 - _runtime: 296.0000 - lr: 1.0000e-06\n",
      "Epoch 31/1000\n",
      "1833/1833 [==============================] - ETA: 0s - loss: 0.4688 - accuracy: 0.8079\n",
      "Epoch 00031: val_loss did not improve from 0.81188\n",
      "1833/1833 [==============================] - 9s 5ms/step - loss: 0.4688 - accuracy: 0.8079 - val_loss: 0.8322 - val_accuracy: 0.7184 - _timestamp: 1655116652.0000 - _runtime: 306.0000 - lr: 1.0000e-06\n",
      "Epoch 32/1000\n",
      "1833/1833 [==============================] - ETA: 0s - loss: 0.4683 - accuracy: 0.8086\n",
      "Epoch 00032: val_loss did not improve from 0.81188\n",
      "1833/1833 [==============================] - 9s 5ms/step - loss: 0.4683 - accuracy: 0.8086 - val_loss: 0.8717 - val_accuracy: 0.7059 - _timestamp: 1655116661.0000 - _runtime: 315.0000 - lr: 1.0000e-06\n",
      "Epoch 33/1000\n",
      "1823/1833 [============================>.] - ETA: 0s - loss: 0.4661 - accuracy: 0.8105\n",
      "Epoch 00033: val_loss did not improve from 0.81188\n",
      "1833/1833 [==============================] - 9s 5ms/step - loss: 0.4660 - accuracy: 0.8105 - val_loss: 0.8953 - val_accuracy: 0.7005 - _timestamp: 1655116670.0000 - _runtime: 324.0000 - lr: 1.0000e-06\n",
      "Epoch 34/1000\n",
      "1826/1833 [============================>.] - ETA: 0s - loss: 0.4657 - accuracy: 0.8111\n",
      "Epoch 00034: val_loss did not improve from 0.81188\n",
      "1833/1833 [==============================] - 9s 5ms/step - loss: 0.4656 - accuracy: 0.8112 - val_loss: 0.8886 - val_accuracy: 0.7148 - _timestamp: 1655116679.0000 - _runtime: 333.0000 - lr: 1.0000e-06\n",
      "Epoch 35/1000\n",
      "1833/1833 [==============================] - ETA: 0s - loss: 0.4636 - accuracy: 0.8123\n",
      "Epoch 00035: val_loss did not improve from 0.81188\n",
      "1833/1833 [==============================] - 9s 5ms/step - loss: 0.4636 - accuracy: 0.8123 - val_loss: 0.8739 - val_accuracy: 0.7130 - _timestamp: 1655116688.0000 - _runtime: 342.0000 - lr: 1.0000e-06\n",
      "Epoch 36/1000\n",
      "1826/1833 [============================>.] - ETA: 0s - loss: 0.4634 - accuracy: 0.8106\n",
      "Epoch 00036: val_loss did not improve from 0.81188\n",
      "1833/1833 [==============================] - 9s 5ms/step - loss: 0.4634 - accuracy: 0.8108 - val_loss: 0.8704 - val_accuracy: 0.7166 - _timestamp: 1655116697.0000 - _runtime: 351.0000 - lr: 1.0000e-06\n",
      "Epoch 37/1000\n",
      "1824/1833 [============================>.] - ETA: 0s - loss: 0.4641 - accuracy: 0.8124\n",
      "Epoch 00037: val_loss did not improve from 0.81188\n",
      "1833/1833 [==============================] - 9s 5ms/step - loss: 0.4642 - accuracy: 0.8124 - val_loss: 0.8611 - val_accuracy: 0.7166 - _timestamp: 1655116707.0000 - _runtime: 361.0000 - lr: 1.0000e-06\n",
      "Epoch 38/1000\n",
      "1825/1833 [============================>.] - ETA: 0s - loss: 0.4610 - accuracy: 0.8130\n",
      "Epoch 00038: val_loss did not improve from 0.81188\n",
      "1833/1833 [==============================] - 9s 5ms/step - loss: 0.4613 - accuracy: 0.8130 - val_loss: 0.8453 - val_accuracy: 0.7184 - _timestamp: 1655116716.0000 - _runtime: 370.0000 - lr: 1.0000e-06\n",
      "Epoch 39/1000\n",
      "1827/1833 [============================>.] - ETA: 0s - loss: 0.4609 - accuracy: 0.8138\n",
      "Epoch 00039: val_loss did not improve from 0.81188\n",
      "1833/1833 [==============================] - 9s 5ms/step - loss: 0.4607 - accuracy: 0.8139 - val_loss: 0.8489 - val_accuracy: 0.7237 - _timestamp: 1655116725.0000 - _runtime: 379.0000 - lr: 1.0000e-06\n",
      "Epoch 40/1000\n",
      "1828/1833 [============================>.] - ETA: 0s - loss: 0.4616 - accuracy: 0.8129\n",
      "Epoch 00040: val_loss did not improve from 0.81188\n",
      "1833/1833 [==============================] - 9s 5ms/step - loss: 0.4615 - accuracy: 0.8130 - val_loss: 0.8478 - val_accuracy: 0.7184 - _timestamp: 1655116734.0000 - _runtime: 388.0000 - lr: 1.0000e-06\n",
      "Epoch 41/1000\n",
      "1831/1833 [============================>.] - ETA: 0s - loss: 0.4578 - accuracy: 0.8133\n",
      "Epoch 00041: val_loss did not improve from 0.81188\n",
      "1833/1833 [==============================] - 9s 5ms/step - loss: 0.4578 - accuracy: 0.8133 - val_loss: 0.8271 - val_accuracy: 0.7237 - _timestamp: 1655116744.0000 - _runtime: 398.0000 - lr: 1.0000e-06\n",
      "Epoch 42/1000\n",
      "1826/1833 [============================>.] - ETA: 0s - loss: 0.4587 - accuracy: 0.8153\n",
      "Epoch 00042: val_loss did not improve from 0.81188\n",
      "1833/1833 [==============================] - 9s 5ms/step - loss: 0.4586 - accuracy: 0.8154 - val_loss: 0.8440 - val_accuracy: 0.7184 - _timestamp: 1655116753.0000 - _runtime: 407.0000 - lr: 1.0000e-06\n",
      "Epoch 43/1000\n",
      "1832/1833 [============================>.] - ETA: 0s - loss: 0.4570 - accuracy: 0.8153\n",
      "Epoch 00043: val_loss did not improve from 0.81188\n",
      "1833/1833 [==============================] - 9s 5ms/step - loss: 0.4571 - accuracy: 0.8153 - val_loss: 0.8547 - val_accuracy: 0.7219 - _timestamp: 1655116762.0000 - _runtime: 416.0000 - lr: 1.0000e-06\n",
      "Epoch 44/1000\n",
      "1828/1833 [============================>.] - ETA: 0s - loss: 0.4551 - accuracy: 0.8143\n",
      "Epoch 00044: val_loss did not improve from 0.81188\n",
      "1833/1833 [==============================] - 9s 5ms/step - loss: 0.4553 - accuracy: 0.8143 - val_loss: 0.8754 - val_accuracy: 0.7166 - _timestamp: 1655116772.0000 - _runtime: 426.0000 - lr: 1.0000e-06\n",
      "Epoch 45/1000\n",
      "1827/1833 [============================>.] - ETA: 0s - loss: 0.4563 - accuracy: 0.8147\n",
      "Epoch 00045: val_loss did not improve from 0.81188\n",
      "1833/1833 [==============================] - 9s 5ms/step - loss: 0.4563 - accuracy: 0.8147 - val_loss: 0.8208 - val_accuracy: 0.7255 - _timestamp: 1655116781.0000 - _runtime: 435.0000 - lr: 1.0000e-06\n",
      "Epoch 46/1000\n",
      "1832/1833 [============================>.] - ETA: 0s - loss: 0.4548 - accuracy: 0.8170\n",
      "Epoch 00046: val_loss did not improve from 0.81188\n",
      "1833/1833 [==============================] - 9s 5ms/step - loss: 0.4548 - accuracy: 0.8170 - val_loss: 0.8640 - val_accuracy: 0.7166 - _timestamp: 1655116790.0000 - _runtime: 444.0000 - lr: 1.0000e-06\n",
      "Epoch 47/1000\n",
      "1832/1833 [============================>.] - ETA: 0s - loss: 0.4558 - accuracy: 0.8154\n",
      "Epoch 00047: val_loss did not improve from 0.81188\n",
      "1833/1833 [==============================] - 9s 5ms/step - loss: 0.4558 - accuracy: 0.8154 - val_loss: 0.8233 - val_accuracy: 0.7273 - _timestamp: 1655116799.0000 - _runtime: 453.0000 - lr: 1.0000e-06\n",
      "Epoch 48/1000\n",
      "1832/1833 [============================>.] - ETA: 0s - loss: 0.4530 - accuracy: 0.8173\n",
      "Epoch 00048: val_loss did not improve from 0.81188\n",
      "1833/1833 [==============================] - 9s 5ms/step - loss: 0.4530 - accuracy: 0.8173 - val_loss: 0.8328 - val_accuracy: 0.7273 - _timestamp: 1655116808.0000 - _runtime: 462.0000 - lr: 1.0000e-06\n",
      "Epoch 49/1000\n",
      "1829/1833 [============================>.] - ETA: 0s - loss: 0.4511 - accuracy: 0.8167\n",
      "Epoch 00049: val_loss improved from 0.81188 to 0.81066, saving model to model_checkpoints/LSTM_13-06-2022_12:32:33\n",
      "1833/1833 [==============================] - 9s 5ms/step - loss: 0.4512 - accuracy: 0.8166 - val_loss: 0.8107 - val_accuracy: 0.7308 - _timestamp: 1655116817.0000 - _runtime: 471.0000 - lr: 1.0000e-06\n",
      "Epoch 50/1000\n",
      "1825/1833 [============================>.] - ETA: 0s - loss: 0.4517 - accuracy: 0.8180\n",
      "Epoch 00050: val_loss did not improve from 0.81066\n",
      "1833/1833 [==============================] - 9s 5ms/step - loss: 0.4514 - accuracy: 0.8182 - val_loss: 0.8876 - val_accuracy: 0.7130 - _timestamp: 1655116827.0000 - _runtime: 481.0000 - lr: 1.0000e-06\n",
      "Epoch 51/1000\n",
      "1828/1833 [============================>.] - ETA: 0s - loss: 0.4487 - accuracy: 0.8182\n",
      "Epoch 00051: val_loss did not improve from 0.81066\n",
      "1833/1833 [==============================] - 9s 5ms/step - loss: 0.4487 - accuracy: 0.8182 - val_loss: 0.8564 - val_accuracy: 0.7219 - _timestamp: 1655116836.0000 - _runtime: 490.0000 - lr: 1.0000e-06\n",
      "Epoch 52/1000\n",
      "1831/1833 [============================>.] - ETA: 0s - loss: 0.4476 - accuracy: 0.8184\n",
      "Epoch 00052: val_loss did not improve from 0.81066\n",
      "1833/1833 [==============================] - 9s 5ms/step - loss: 0.4477 - accuracy: 0.8184 - val_loss: 0.8418 - val_accuracy: 0.7237 - _timestamp: 1655116845.0000 - _runtime: 499.0000 - lr: 1.0000e-06\n",
      "Epoch 53/1000\n",
      "1832/1833 [============================>.] - ETA: 0s - loss: 0.4470 - accuracy: 0.8203\n",
      "Epoch 00053: val_loss did not improve from 0.81066\n",
      "1833/1833 [==============================] - 9s 5ms/step - loss: 0.4469 - accuracy: 0.8203 - val_loss: 0.8543 - val_accuracy: 0.7255 - _timestamp: 1655116855.0000 - _runtime: 509.0000 - lr: 1.0000e-06\n",
      "Epoch 54/1000\n",
      "1825/1833 [============================>.] - ETA: 0s - loss: 0.4475 - accuracy: 0.8204\n",
      "Epoch 00054: val_loss did not improve from 0.81066\n",
      "1833/1833 [==============================] - 9s 5ms/step - loss: 0.4472 - accuracy: 0.8205 - val_loss: 0.8776 - val_accuracy: 0.7219 - _timestamp: 1655116864.0000 - _runtime: 518.0000 - lr: 1.0000e-06\n",
      "Epoch 55/1000\n",
      "1824/1833 [============================>.] - ETA: 0s - loss: 0.4446 - accuracy: 0.8197\n",
      "Epoch 00055: val_loss did not improve from 0.81066\n",
      "1833/1833 [==============================] - 9s 5ms/step - loss: 0.4446 - accuracy: 0.8197 - val_loss: 0.8164 - val_accuracy: 0.7308 - _timestamp: 1655116873.0000 - _runtime: 527.0000 - lr: 1.0000e-06\n",
      "Epoch 56/1000\n",
      "1824/1833 [============================>.] - ETA: 0s - loss: 0.4449 - accuracy: 0.8210\n",
      "Epoch 00056: val_loss did not improve from 0.81066\n",
      "1833/1833 [==============================] - 9s 5ms/step - loss: 0.4449 - accuracy: 0.8210 - val_loss: 0.8328 - val_accuracy: 0.7291 - _timestamp: 1655116882.0000 - _runtime: 536.0000 - lr: 1.0000e-06\n",
      "Epoch 57/1000\n",
      "1826/1833 [============================>.] - ETA: 0s - loss: 0.4445 - accuracy: 0.8206\n",
      "Epoch 00057: val_loss did not improve from 0.81066\n",
      "1833/1833 [==============================] - 9s 5ms/step - loss: 0.4446 - accuracy: 0.8205 - val_loss: 0.8492 - val_accuracy: 0.7273 - _timestamp: 1655116891.0000 - _runtime: 545.0000 - lr: 1.0000e-06\n",
      "Epoch 58/1000\n",
      "1833/1833 [==============================] - ETA: 0s - loss: 0.4424 - accuracy: 0.8219\n",
      "Epoch 00058: val_loss did not improve from 0.81066\n",
      "1833/1833 [==============================] - 9s 5ms/step - loss: 0.4424 - accuracy: 0.8219 - val_loss: 0.8119 - val_accuracy: 0.7326 - _timestamp: 1655116901.0000 - _runtime: 555.0000 - lr: 1.0000e-06\n",
      "Epoch 59/1000\n",
      "1826/1833 [============================>.] - ETA: 0s - loss: 0.4425 - accuracy: 0.8227\n",
      "Epoch 00059: val_loss did not improve from 0.81066\n",
      "1833/1833 [==============================] - 9s 5ms/step - loss: 0.4423 - accuracy: 0.8227 - val_loss: 0.8255 - val_accuracy: 0.7291 - _timestamp: 1655116910.0000 - _runtime: 564.0000 - lr: 1.0000e-06\n",
      "Epoch 60/1000\n",
      "1826/1833 [============================>.] - ETA: 0s - loss: 0.4406 - accuracy: 0.8230\n",
      "Epoch 00060: val_loss did not improve from 0.81066\n",
      "1833/1833 [==============================] - 9s 5ms/step - loss: 0.4408 - accuracy: 0.8229 - val_loss: 0.8326 - val_accuracy: 0.7326 - _timestamp: 1655116919.0000 - _runtime: 573.0000 - lr: 1.0000e-06\n",
      "Epoch 61/1000\n",
      "1825/1833 [============================>.] - ETA: 0s - loss: 0.4395 - accuracy: 0.8238\n",
      "Epoch 00061: val_loss did not improve from 0.81066\n",
      "1833/1833 [==============================] - 9s 5ms/step - loss: 0.4395 - accuracy: 0.8237 - val_loss: 0.8401 - val_accuracy: 0.7273 - _timestamp: 1655116928.0000 - _runtime: 582.0000 - lr: 1.0000e-06\n",
      "Epoch 62/1000\n",
      "1833/1833 [==============================] - ETA: 0s - loss: 0.4382 - accuracy: 0.8243\n",
      "Epoch 00062: val_loss did not improve from 0.81066\n",
      "1833/1833 [==============================] - 9s 5ms/step - loss: 0.4382 - accuracy: 0.8243 - val_loss: 0.8539 - val_accuracy: 0.7219 - _timestamp: 1655116938.0000 - _runtime: 592.0000 - lr: 1.0000e-06\n",
      "Epoch 63/1000\n",
      "1826/1833 [============================>.] - ETA: 0s - loss: 0.4411 - accuracy: 0.8242\n",
      "Epoch 00063: val_loss did not improve from 0.81066\n",
      "1833/1833 [==============================] - 9s 5ms/step - loss: 0.4412 - accuracy: 0.8241 - val_loss: 0.8321 - val_accuracy: 0.7308 - _timestamp: 1655116947.0000 - _runtime: 601.0000 - lr: 1.0000e-06\n",
      "Epoch 64/1000\n",
      "1826/1833 [============================>.] - ETA: 0s - loss: 0.4369 - accuracy: 0.8246\n",
      "Epoch 00064: val_loss did not improve from 0.81066\n",
      "1833/1833 [==============================] - 9s 5ms/step - loss: 0.4367 - accuracy: 0.8246 - val_loss: 0.8286 - val_accuracy: 0.7291 - _timestamp: 1655116956.0000 - _runtime: 610.0000 - lr: 1.0000e-06\n",
      "Epoch 65/1000\n",
      "1824/1833 [============================>.] - ETA: 0s - loss: 0.4373 - accuracy: 0.8241\n",
      "Epoch 00065: val_loss did not improve from 0.81066\n",
      "1833/1833 [==============================] - 9s 5ms/step - loss: 0.4371 - accuracy: 0.8242 - val_loss: 0.8147 - val_accuracy: 0.7362 - _timestamp: 1655116965.0000 - _runtime: 619.0000 - lr: 1.0000e-06\n",
      "Epoch 66/1000\n",
      "1828/1833 [============================>.] - ETA: 0s - loss: 0.4363 - accuracy: 0.8253\n",
      "Epoch 00066: val_loss did not improve from 0.81066\n",
      "1833/1833 [==============================] - 9s 5ms/step - loss: 0.4363 - accuracy: 0.8253 - val_loss: 0.8121 - val_accuracy: 0.7326 - _timestamp: 1655116974.0000 - _runtime: 628.0000 - lr: 1.0000e-06\n",
      "Epoch 67/1000\n",
      "1829/1833 [============================>.] - ETA: 0s - loss: 0.4363 - accuracy: 0.8248\n",
      "Epoch 00067: val_loss did not improve from 0.81066\n",
      "1833/1833 [==============================] - 9s 5ms/step - loss: 0.4361 - accuracy: 0.8249 - val_loss: 0.8379 - val_accuracy: 0.7273 - _timestamp: 1655116983.0000 - _runtime: 637.0000 - lr: 1.0000e-06\n",
      "Epoch 68/1000\n",
      "1830/1833 [============================>.] - ETA: 0s - loss: 0.4333 - accuracy: 0.8270\n",
      "Epoch 00068: val_loss did not improve from 0.81066\n",
      "1833/1833 [==============================] - 9s 5ms/step - loss: 0.4332 - accuracy: 0.8270 - val_loss: 0.8110 - val_accuracy: 0.7308 - _timestamp: 1655116993.0000 - _runtime: 647.0000 - lr: 1.0000e-06\n",
      "Epoch 69/1000\n",
      "1831/1833 [============================>.] - ETA: 0s - loss: 0.4345 - accuracy: 0.8266\n",
      "Epoch 00069: val_loss did not improve from 0.81066\n",
      "1833/1833 [==============================] - 9s 5ms/step - loss: 0.4345 - accuracy: 0.8266 - val_loss: 0.8133 - val_accuracy: 0.7326 - _timestamp: 1655117002.0000 - _runtime: 656.0000 - lr: 1.0000e-06\n",
      "Epoch 70/1000\n",
      "1826/1833 [============================>.] - ETA: 0s - loss: 0.4332 - accuracy: 0.8262\n",
      "Epoch 00070: val_loss improved from 0.81066 to 0.80772, saving model to model_checkpoints/LSTM_13-06-2022_12:32:33\n",
      "1833/1833 [==============================] - 9s 5ms/step - loss: 0.4331 - accuracy: 0.8262 - val_loss: 0.8077 - val_accuracy: 0.7344 - _timestamp: 1655117011.0000 - _runtime: 665.0000 - lr: 1.0000e-06\n",
      "Epoch 71/1000\n",
      "1825/1833 [============================>.] - ETA: 0s - loss: 0.4311 - accuracy: 0.8284\n",
      "Epoch 00071: val_loss did not improve from 0.80772\n",
      "1833/1833 [==============================] - 9s 5ms/step - loss: 0.4311 - accuracy: 0.8283 - val_loss: 0.8375 - val_accuracy: 0.7291 - _timestamp: 1655117020.0000 - _runtime: 674.0000 - lr: 1.0000e-06\n",
      "Epoch 72/1000\n",
      "1833/1833 [==============================] - ETA: 0s - loss: 0.4313 - accuracy: 0.8283\n",
      "Epoch 00072: val_loss did not improve from 0.80772\n",
      "1833/1833 [==============================] - 9s 5ms/step - loss: 0.4313 - accuracy: 0.8283 - val_loss: 0.8469 - val_accuracy: 0.7273 - _timestamp: 1655117030.0000 - _runtime: 684.0000 - lr: 1.0000e-06\n",
      "Epoch 73/1000\n",
      "1827/1833 [============================>.] - ETA: 0s - loss: 0.4297 - accuracy: 0.8283\n",
      "Epoch 00073: val_loss did not improve from 0.80772\n",
      "1833/1833 [==============================] - 9s 5ms/step - loss: 0.4294 - accuracy: 0.8285 - val_loss: 0.8470 - val_accuracy: 0.7273 - _timestamp: 1655117039.0000 - _runtime: 693.0000 - lr: 1.0000e-06\n",
      "Epoch 74/1000\n",
      "1823/1833 [============================>.] - ETA: 0s - loss: 0.4285 - accuracy: 0.8291\n",
      "Epoch 00074: val_loss did not improve from 0.80772\n",
      "1833/1833 [==============================] - 9s 5ms/step - loss: 0.4290 - accuracy: 0.8289 - val_loss: 0.8682 - val_accuracy: 0.7344 - _timestamp: 1655117048.0000 - _runtime: 702.0000 - lr: 1.0000e-06\n",
      "Epoch 75/1000\n",
      "1826/1833 [============================>.] - ETA: 0s - loss: 0.4298 - accuracy: 0.8286\n",
      "Epoch 00075: val_loss did not improve from 0.80772\n",
      "1833/1833 [==============================] - 9s 5ms/step - loss: 0.4296 - accuracy: 0.8286 - val_loss: 0.8257 - val_accuracy: 0.7326 - _timestamp: 1655117058.0000 - _runtime: 712.0000 - lr: 1.0000e-06\n",
      "Epoch 76/1000\n",
      "1830/1833 [============================>.] - ETA: 0s - loss: 0.4283 - accuracy: 0.8297\n",
      "Epoch 00076: val_loss did not improve from 0.80772\n",
      "1833/1833 [==============================] - 9s 5ms/step - loss: 0.4282 - accuracy: 0.8298 - val_loss: 0.8182 - val_accuracy: 0.7344 - _timestamp: 1655117067.0000 - _runtime: 721.0000 - lr: 1.0000e-06\n",
      "Epoch 77/1000\n",
      "1830/1833 [============================>.] - ETA: 0s - loss: 0.4267 - accuracy: 0.8311\n",
      "Epoch 00077: val_loss did not improve from 0.80772\n",
      "1833/1833 [==============================] - 9s 5ms/step - loss: 0.4266 - accuracy: 0.8312 - val_loss: 0.8527 - val_accuracy: 0.7273 - _timestamp: 1655117076.0000 - _runtime: 730.0000 - lr: 1.0000e-06\n",
      "Epoch 78/1000\n",
      "1833/1833 [==============================] - ETA: 0s - loss: 0.4262 - accuracy: 0.8309\n",
      "Epoch 00078: val_loss improved from 0.80772 to 0.80188, saving model to model_checkpoints/LSTM_13-06-2022_12:32:33\n",
      "1833/1833 [==============================] - 9s 5ms/step - loss: 0.4262 - accuracy: 0.8309 - val_loss: 0.8019 - val_accuracy: 0.7344 - _timestamp: 1655117085.0000 - _runtime: 739.0000 - lr: 1.0000e-06\n",
      "Epoch 79/1000\n",
      "1829/1833 [============================>.] - ETA: 0s - loss: 0.4249 - accuracy: 0.8293\n",
      "Epoch 00079: val_loss did not improve from 0.80188\n",
      "1833/1833 [==============================] - 9s 5ms/step - loss: 0.4248 - accuracy: 0.8293 - val_loss: 0.8297 - val_accuracy: 0.7344 - _timestamp: 1655117095.0000 - _runtime: 749.0000 - lr: 1.0000e-06\n",
      "Epoch 80/1000\n",
      "1825/1833 [============================>.] - ETA: 0s - loss: 0.4257 - accuracy: 0.8310\n",
      "Epoch 00080: val_loss did not improve from 0.80188\n",
      "1833/1833 [==============================] - 9s 5ms/step - loss: 0.4258 - accuracy: 0.8310 - val_loss: 0.8320 - val_accuracy: 0.7344 - _timestamp: 1655117104.0000 - _runtime: 758.0000 - lr: 1.0000e-06\n",
      "Epoch 81/1000\n",
      "1830/1833 [============================>.] - ETA: 0s - loss: 0.4263 - accuracy: 0.8316\n",
      "Epoch 00081: val_loss did not improve from 0.80188\n",
      "1833/1833 [==============================] - 9s 5ms/step - loss: 0.4263 - accuracy: 0.8317 - val_loss: 0.8100 - val_accuracy: 0.7344 - _timestamp: 1655117113.0000 - _runtime: 767.0000 - lr: 1.0000e-06\n",
      "Epoch 82/1000\n",
      "1833/1833 [==============================] - ETA: 0s - loss: 0.4235 - accuracy: 0.8322\n",
      "Epoch 00082: val_loss did not improve from 0.80188\n",
      "1833/1833 [==============================] - 9s 5ms/step - loss: 0.4235 - accuracy: 0.8322 - val_loss: 0.8325 - val_accuracy: 0.7326 - _timestamp: 1655117122.0000 - _runtime: 776.0000 - lr: 1.0000e-06\n",
      "Epoch 83/1000\n",
      "1827/1833 [============================>.] - ETA: 0s - loss: 0.4220 - accuracy: 0.8328\n",
      "Epoch 00083: val_loss did not improve from 0.80188\n",
      "1833/1833 [==============================] - 9s 5ms/step - loss: 0.4221 - accuracy: 0.8329 - val_loss: 0.8155 - val_accuracy: 0.7362 - _timestamp: 1655117131.0000 - _runtime: 785.0000 - lr: 1.0000e-06\n",
      "Epoch 84/1000\n",
      "1825/1833 [============================>.] - ETA: 0s - loss: 0.4212 - accuracy: 0.8316\n",
      "Epoch 00084: val_loss did not improve from 0.80188\n",
      "1833/1833 [==============================] - 9s 5ms/step - loss: 0.4215 - accuracy: 0.8313 - val_loss: 0.8438 - val_accuracy: 0.7326 - _timestamp: 1655117140.0000 - _runtime: 794.0000 - lr: 1.0000e-06\n",
      "Epoch 85/1000\n",
      "1831/1833 [============================>.] - ETA: 0s - loss: 0.4201 - accuracy: 0.8336\n",
      "Epoch 00085: val_loss did not improve from 0.80188\n",
      "1833/1833 [==============================] - 9s 5ms/step - loss: 0.4201 - accuracy: 0.8336 - val_loss: 0.8023 - val_accuracy: 0.7415 - _timestamp: 1655117149.0000 - _runtime: 803.0000 - lr: 1.0000e-06\n",
      "Epoch 86/1000\n",
      "1832/1833 [============================>.] - ETA: 0s - loss: 0.4181 - accuracy: 0.8347\n",
      "Epoch 00086: val_loss did not improve from 0.80188\n",
      "1833/1833 [==============================] - 9s 5ms/step - loss: 0.4180 - accuracy: 0.8347 - val_loss: 0.8369 - val_accuracy: 0.7291 - _timestamp: 1655117159.0000 - _runtime: 813.0000 - lr: 1.0000e-06\n",
      "Epoch 87/1000\n",
      "1833/1833 [==============================] - ETA: 0s - loss: 0.4199 - accuracy: 0.8320\n",
      "Epoch 00087: val_loss did not improve from 0.80188\n",
      "1833/1833 [==============================] - 9s 5ms/step - loss: 0.4199 - accuracy: 0.8320 - val_loss: 0.8205 - val_accuracy: 0.7362 - _timestamp: 1655117168.0000 - _runtime: 822.0000 - lr: 1.0000e-06\n",
      "Epoch 88/1000\n",
      "1832/1833 [============================>.] - ETA: 0s - loss: 0.4182 - accuracy: 0.8337\n",
      "Epoch 00088: val_loss did not improve from 0.80188\n",
      "1833/1833 [==============================] - 9s 5ms/step - loss: 0.4182 - accuracy: 0.8337 - val_loss: 0.8333 - val_accuracy: 0.7380 - _timestamp: 1655117177.0000 - _runtime: 831.0000 - lr: 1.0000e-06\n",
      "Epoch 89/1000\n",
      "1833/1833 [==============================] - ETA: 0s - loss: 0.4151 - accuracy: 0.8356\n",
      "Epoch 00089: val_loss did not improve from 0.80188\n",
      "1833/1833 [==============================] - 9s 5ms/step - loss: 0.4151 - accuracy: 0.8356 - val_loss: 0.8338 - val_accuracy: 0.7308 - _timestamp: 1655117186.0000 - _runtime: 840.0000 - lr: 1.0000e-06\n",
      "Epoch 90/1000\n",
      "1831/1833 [============================>.] - ETA: 0s - loss: 0.4171 - accuracy: 0.8349\n",
      "Epoch 00090: val_loss did not improve from 0.80188\n",
      "1833/1833 [==============================] - 9s 5ms/step - loss: 0.4170 - accuracy: 0.8349 - val_loss: 0.8143 - val_accuracy: 0.7380 - _timestamp: 1655117195.0000 - _runtime: 849.0000 - lr: 1.0000e-06\n",
      "Epoch 91/1000\n",
      "1830/1833 [============================>.] - ETA: 0s - loss: 0.4164 - accuracy: 0.8352\n",
      "Epoch 00091: val_loss did not improve from 0.80188\n",
      "1833/1833 [==============================] - 9s 5ms/step - loss: 0.4163 - accuracy: 0.8352 - val_loss: 0.8348 - val_accuracy: 0.7344 - _timestamp: 1655117205.0000 - _runtime: 859.0000 - lr: 1.0000e-06\n",
      "Epoch 92/1000\n",
      "1823/1833 [============================>.] - ETA: 0s - loss: 0.4172 - accuracy: 0.8351\n",
      "Epoch 00092: val_loss did not improve from 0.80188\n",
      "1833/1833 [==============================] - 9s 5ms/step - loss: 0.4169 - accuracy: 0.8352 - val_loss: 0.8205 - val_accuracy: 0.7362 - _timestamp: 1655117214.0000 - _runtime: 868.0000 - lr: 1.0000e-06\n",
      "Epoch 93/1000\n",
      "1826/1833 [============================>.] - ETA: 0s - loss: 0.4136 - accuracy: 0.8368\n",
      "Epoch 00093: val_loss did not improve from 0.80188\n",
      "1833/1833 [==============================] - 9s 5ms/step - loss: 0.4137 - accuracy: 0.8367 - val_loss: 0.8136 - val_accuracy: 0.7362 - _timestamp: 1655117223.0000 - _runtime: 877.0000 - lr: 1.0000e-06\n",
      "Epoch 94/1000\n",
      "1831/1833 [============================>.] - ETA: 0s - loss: 0.4126 - accuracy: 0.8363\n",
      "Epoch 00094: val_loss did not improve from 0.80188\n",
      "1833/1833 [==============================] - 9s 5ms/step - loss: 0.4127 - accuracy: 0.8362 - val_loss: 0.8133 - val_accuracy: 0.7380 - _timestamp: 1655117232.0000 - _runtime: 886.0000 - lr: 1.0000e-06\n",
      "Epoch 95/1000\n",
      "1826/1833 [============================>.] - ETA: 0s - loss: 0.4135 - accuracy: 0.8363\n",
      "Epoch 00095: val_loss did not improve from 0.80188\n",
      "1833/1833 [==============================] - 9s 5ms/step - loss: 0.4137 - accuracy: 0.8362 - val_loss: 0.8359 - val_accuracy: 0.7344 - _timestamp: 1655117241.0000 - _runtime: 895.0000 - lr: 1.0000e-06\n",
      "Epoch 96/1000\n",
      "1825/1833 [============================>.] - ETA: 0s - loss: 0.4136 - accuracy: 0.8372\n",
      "Epoch 00096: val_loss did not improve from 0.80188\n",
      "1833/1833 [==============================] - 9s 5ms/step - loss: 0.4135 - accuracy: 0.8373 - val_loss: 0.8171 - val_accuracy: 0.7398 - _timestamp: 1655117251.0000 - _runtime: 905.0000 - lr: 1.0000e-06\n",
      "Epoch 97/1000\n",
      "1827/1833 [============================>.] - ETA: 0s - loss: 0.4109 - accuracy: 0.8377\n",
      "Epoch 00097: val_loss did not improve from 0.80188\n",
      "1833/1833 [==============================] - 9s 5ms/step - loss: 0.4109 - accuracy: 0.8377 - val_loss: 0.8065 - val_accuracy: 0.7415 - _timestamp: 1655117260.0000 - _runtime: 914.0000 - lr: 1.0000e-06\n",
      "Epoch 98/1000\n",
      "1828/1833 [============================>.] - ETA: 0s - loss: 0.4127 - accuracy: 0.8381\n",
      "Epoch 00098: val_loss did not improve from 0.80188\n",
      "1833/1833 [==============================] - 9s 5ms/step - loss: 0.4125 - accuracy: 0.8382 - val_loss: 0.8167 - val_accuracy: 0.7380 - _timestamp: 1655117269.0000 - _runtime: 923.0000 - lr: 1.0000e-06\n",
      "Epoch 99/1000\n",
      "1832/1833 [============================>.] - ETA: 0s - loss: 0.4112 - accuracy: 0.8381\n",
      "Epoch 00099: val_loss did not improve from 0.80188\n",
      "1833/1833 [==============================] - 9s 5ms/step - loss: 0.4113 - accuracy: 0.8381 - val_loss: 0.8218 - val_accuracy: 0.7344 - _timestamp: 1655117278.0000 - _runtime: 932.0000 - lr: 1.0000e-06\n",
      "Epoch 100/1000\n",
      "1825/1833 [============================>.] - ETA: 0s - loss: 0.4098 - accuracy: 0.8377\n",
      "Epoch 00100: val_loss did not improve from 0.80188\n",
      "1833/1833 [==============================] - 9s 5ms/step - loss: 0.4099 - accuracy: 0.8378 - val_loss: 0.8099 - val_accuracy: 0.7362 - _timestamp: 1655117287.0000 - _runtime: 941.0000 - lr: 1.0000e-06\n",
      "Epoch 101/1000\n",
      "1833/1833 [==============================] - ETA: 0s - loss: 0.4092 - accuracy: 0.8402\n",
      "Epoch 00101: val_loss did not improve from 0.80188\n",
      "1833/1833 [==============================] - 9s 5ms/step - loss: 0.4092 - accuracy: 0.8402 - val_loss: 0.8152 - val_accuracy: 0.7398 - _timestamp: 1655117296.0000 - _runtime: 950.0000 - lr: 1.0000e-06\n",
      "Epoch 102/1000\n",
      "1831/1833 [============================>.] - ETA: 0s - loss: 0.4092 - accuracy: 0.8392\n",
      "Epoch 00102: val_loss did not improve from 0.80188\n",
      "1833/1833 [==============================] - 9s 5ms/step - loss: 0.4093 - accuracy: 0.8391 - val_loss: 0.8325 - val_accuracy: 0.7415 - _timestamp: 1655117306.0000 - _runtime: 960.0000 - lr: 1.0000e-06\n",
      "Epoch 103/1000\n",
      "1831/1833 [============================>.] - ETA: 0s - loss: 0.4074 - accuracy: 0.8402\n",
      "Epoch 00103: val_loss did not improve from 0.80188\n",
      "1833/1833 [==============================] - 9s 5ms/step - loss: 0.4073 - accuracy: 0.8402 - val_loss: 0.8136 - val_accuracy: 0.7362 - _timestamp: 1655117315.0000 - _runtime: 969.0000 - lr: 1.0000e-06\n",
      "Epoch 104/1000\n",
      "1828/1833 [============================>.] - ETA: 0s - loss: 0.4069 - accuracy: 0.8410\n",
      "Epoch 00104: val_loss did not improve from 0.80188\n",
      "1833/1833 [==============================] - 9s 5ms/step - loss: 0.4068 - accuracy: 0.8411 - val_loss: 0.8362 - val_accuracy: 0.7380 - _timestamp: 1655117324.0000 - _runtime: 978.0000 - lr: 1.0000e-06\n",
      "Epoch 105/1000\n",
      "1827/1833 [============================>.] - ETA: 0s - loss: 0.4066 - accuracy: 0.8412\n",
      "Epoch 00105: val_loss did not improve from 0.80188\n",
      "1833/1833 [==============================] - 9s 5ms/step - loss: 0.4067 - accuracy: 0.8411 - val_loss: 0.8261 - val_accuracy: 0.7344 - _timestamp: 1655117333.0000 - _runtime: 987.0000 - lr: 1.0000e-06\n",
      "Epoch 106/1000\n",
      "1828/1833 [============================>.] - ETA: 0s - loss: 0.4065 - accuracy: 0.8414\n",
      "Epoch 00106: val_loss did not improve from 0.80188\n",
      "1833/1833 [==============================] - 9s 5ms/step - loss: 0.4067 - accuracy: 0.8412 - val_loss: 0.8181 - val_accuracy: 0.7380 - _timestamp: 1655117342.0000 - _runtime: 996.0000 - lr: 1.0000e-06\n",
      "Epoch 107/1000\n",
      "1830/1833 [============================>.] - ETA: 0s - loss: 0.4057 - accuracy: 0.8407\n",
      "Epoch 00107: val_loss did not improve from 0.80188\n",
      "1833/1833 [==============================] - 9s 5ms/step - loss: 0.4058 - accuracy: 0.8407 - val_loss: 0.8203 - val_accuracy: 0.7362 - _timestamp: 1655117351.0000 - _runtime: 1005.0000 - lr: 1.0000e-06\n",
      "Epoch 108/1000\n",
      "1823/1833 [============================>.] - ETA: 0s - loss: 0.4052 - accuracy: 0.8414\n",
      "Epoch 00108: val_loss did not improve from 0.80188\n",
      "1833/1833 [==============================] - 9s 5ms/step - loss: 0.4053 - accuracy: 0.8413 - val_loss: 0.8160 - val_accuracy: 0.7362 - _timestamp: 1655117361.0000 - _runtime: 1015.0000 - lr: 1.0000e-06\n",
      "Epoch 109/1000\n",
      "1825/1833 [============================>.] - ETA: 0s - loss: 0.4050 - accuracy: 0.8414\n",
      "Epoch 00109: val_loss did not improve from 0.80188\n",
      "1833/1833 [==============================] - 9s 5ms/step - loss: 0.4051 - accuracy: 0.8414 - val_loss: 0.8420 - val_accuracy: 0.7398 - _timestamp: 1655117370.0000 - _runtime: 1024.0000 - lr: 1.0000e-06\n",
      "Epoch 110/1000\n",
      "1831/1833 [============================>.] - ETA: 0s - loss: 0.4021 - accuracy: 0.8425\n",
      "Epoch 00110: val_loss did not improve from 0.80188\n",
      "1833/1833 [==============================] - 9s 5ms/step - loss: 0.4020 - accuracy: 0.8426 - val_loss: 0.8271 - val_accuracy: 0.7344 - _timestamp: 1655117379.0000 - _runtime: 1033.0000 - lr: 1.0000e-06\n",
      "Epoch 111/1000\n",
      "1824/1833 [============================>.] - ETA: 0s - loss: 0.4024 - accuracy: 0.8421\n",
      "Epoch 00111: val_loss did not improve from 0.80188\n",
      "1833/1833 [==============================] - 9s 5ms/step - loss: 0.4025 - accuracy: 0.8419 - val_loss: 0.8168 - val_accuracy: 0.7344 - _timestamp: 1655117389.0000 - _runtime: 1043.0000 - lr: 1.0000e-06\n",
      "Epoch 112/1000\n",
      "1829/1833 [============================>.] - ETA: 0s - loss: 0.3996 - accuracy: 0.8442\n",
      "Epoch 00112: val_loss did not improve from 0.80188\n",
      "1833/1833 [==============================] - 9s 5ms/step - loss: 0.3998 - accuracy: 0.8441 - val_loss: 0.8457 - val_accuracy: 0.7362 - _timestamp: 1655117398.0000 - _runtime: 1052.0000 - lr: 1.0000e-06\n",
      "Epoch 113/1000\n",
      "1828/1833 [============================>.] - ETA: 0s - loss: 0.4016 - accuracy: 0.8435\n",
      "Epoch 00113: val_loss did not improve from 0.80188\n",
      "1833/1833 [==============================] - 9s 5ms/step - loss: 0.4016 - accuracy: 0.8435 - val_loss: 0.8352 - val_accuracy: 0.7344 - _timestamp: 1655117407.0000 - _runtime: 1061.0000 - lr: 1.0000e-06\n",
      "Epoch 114/1000\n",
      "1828/1833 [============================>.] - ETA: 0s - loss: 0.4003 - accuracy: 0.8441\n",
      "Epoch 00114: val_loss did not improve from 0.80188\n",
      "1833/1833 [==============================] - 9s 5ms/step - loss: 0.4001 - accuracy: 0.8442 - val_loss: 0.8467 - val_accuracy: 0.7344 - _timestamp: 1655117416.0000 - _runtime: 1070.0000 - lr: 1.0000e-06\n",
      "Epoch 115/1000\n",
      "1828/1833 [============================>.] - ETA: 0s - loss: 0.3998 - accuracy: 0.8437\n",
      "Epoch 00115: val_loss did not improve from 0.80188\n",
      "1833/1833 [==============================] - 9s 5ms/step - loss: 0.4000 - accuracy: 0.8437 - val_loss: 0.8267 - val_accuracy: 0.7380 - _timestamp: 1655117425.0000 - _runtime: 1079.0000 - lr: 1.0000e-06\n",
      "Epoch 116/1000\n",
      "1826/1833 [============================>.] - ETA: 0s - loss: 0.3977 - accuracy: 0.8437\n",
      "Epoch 00116: val_loss did not improve from 0.80188\n",
      "1833/1833 [==============================] - 9s 5ms/step - loss: 0.3976 - accuracy: 0.8437 - val_loss: 0.8412 - val_accuracy: 0.7362 - _timestamp: 1655117434.0000 - _runtime: 1088.0000 - lr: 1.0000e-06\n",
      "Epoch 117/1000\n",
      "1824/1833 [============================>.] - ETA: 0s - loss: 0.3995 - accuracy: 0.8455\n",
      "Epoch 00117: val_loss did not improve from 0.80188\n",
      "1833/1833 [==============================] - 9s 5ms/step - loss: 0.3994 - accuracy: 0.8456 - val_loss: 0.8643 - val_accuracy: 0.7344 - _timestamp: 1655117444.0000 - _runtime: 1098.0000 - lr: 1.0000e-06\n",
      "Epoch 118/1000\n",
      "1825/1833 [============================>.] - ETA: 0s - loss: 0.3960 - accuracy: 0.8463\n",
      "Epoch 00118: val_loss did not improve from 0.80188\n",
      "1833/1833 [==============================] - 9s 5ms/step - loss: 0.3965 - accuracy: 0.8460 - val_loss: 0.8429 - val_accuracy: 0.7344 - _timestamp: 1655117453.0000 - _runtime: 1107.0000 - lr: 1.0000e-06\n",
      "Epoch 119/1000\n",
      "1828/1833 [============================>.] - ETA: 0s - loss: 0.3988 - accuracy: 0.8460\n",
      "Epoch 00119: val_loss did not improve from 0.80188\n",
      "1833/1833 [==============================] - 9s 5ms/step - loss: 0.3985 - accuracy: 0.8461 - val_loss: 0.8288 - val_accuracy: 0.7326 - _timestamp: 1655117462.0000 - _runtime: 1116.0000 - lr: 1.0000e-06\n",
      "Epoch 120/1000\n",
      "1827/1833 [============================>.] - ETA: 0s - loss: 0.3968 - accuracy: 0.8458\n",
      "Epoch 00120: val_loss did not improve from 0.80188\n",
      "1833/1833 [==============================] - 9s 5ms/step - loss: 0.3964 - accuracy: 0.8460 - val_loss: 0.8416 - val_accuracy: 0.7362 - _timestamp: 1655117471.0000 - _runtime: 1125.0000 - lr: 1.0000e-06\n",
      "Epoch 121/1000\n",
      "1824/1833 [============================>.] - ETA: 0s - loss: 0.3955 - accuracy: 0.8462\n",
      "Epoch 00121: val_loss did not improve from 0.80188\n",
      "1833/1833 [==============================] - 9s 5ms/step - loss: 0.3954 - accuracy: 0.8461 - val_loss: 0.8290 - val_accuracy: 0.7362 - _timestamp: 1655117481.0000 - _runtime: 1135.0000 - lr: 1.0000e-06\n",
      "Epoch 122/1000\n",
      "1824/1833 [============================>.] - ETA: 0s - loss: 0.3954 - accuracy: 0.8464\n",
      "Epoch 00122: val_loss did not improve from 0.80188\n",
      "1833/1833 [==============================] - 9s 5ms/step - loss: 0.3958 - accuracy: 0.8463 - val_loss: 0.8647 - val_accuracy: 0.7362 - _timestamp: 1655117490.0000 - _runtime: 1144.0000 - lr: 1.0000e-06\n",
      "Epoch 123/1000\n",
      "1825/1833 [============================>.] - ETA: 0s - loss: 0.3959 - accuracy: 0.8455\n",
      "Epoch 00123: val_loss did not improve from 0.80188\n",
      "1833/1833 [==============================] - 9s 5ms/step - loss: 0.3959 - accuracy: 0.8454 - val_loss: 0.8353 - val_accuracy: 0.7362 - _timestamp: 1655117499.0000 - _runtime: 1153.0000 - lr: 1.0000e-06\n",
      "Epoch 124/1000\n",
      "1833/1833 [==============================] - ETA: 0s - loss: 0.3937 - accuracy: 0.8464\n",
      "Epoch 00124: val_loss did not improve from 0.80188\n",
      "1833/1833 [==============================] - 9s 5ms/step - loss: 0.3937 - accuracy: 0.8464 - val_loss: 0.8285 - val_accuracy: 0.7273 - _timestamp: 1655117509.0000 - _runtime: 1163.0000 - lr: 1.0000e-06\n",
      "Epoch 125/1000\n",
      "1830/1833 [============================>.] - ETA: 0s - loss: 0.3949 - accuracy: 0.8478\n",
      "Epoch 00125: val_loss did not improve from 0.80188\n",
      "1833/1833 [==============================] - 9s 5ms/step - loss: 0.3949 - accuracy: 0.8478 - val_loss: 0.8385 - val_accuracy: 0.7380 - _timestamp: 1655117518.0000 - _runtime: 1172.0000 - lr: 1.0000e-06\n",
      "Epoch 126/1000\n",
      "1832/1833 [============================>.] - ETA: 0s - loss: 0.3923 - accuracy: 0.8470\n",
      "Epoch 00126: val_loss did not improve from 0.80188\n",
      "1833/1833 [==============================] - 9s 5ms/step - loss: 0.3922 - accuracy: 0.8470 - val_loss: 0.8608 - val_accuracy: 0.7344 - _timestamp: 1655117527.0000 - _runtime: 1181.0000 - lr: 1.0000e-06\n",
      "Epoch 127/1000\n",
      "1827/1833 [============================>.] - ETA: 0s - loss: 0.3931 - accuracy: 0.8483\n",
      "Epoch 00127: val_loss did not improve from 0.80188\n",
      "1833/1833 [==============================] - 9s 5ms/step - loss: 0.3929 - accuracy: 0.8483 - val_loss: 0.8335 - val_accuracy: 0.7344 - _timestamp: 1655117536.0000 - _runtime: 1190.0000 - lr: 1.0000e-06\n",
      "Epoch 128/1000\n",
      "1828/1833 [============================>.] - ETA: 0s - loss: 0.3899 - accuracy: 0.8505\n",
      "Epoch 00128: val_loss did not improve from 0.80188\n",
      "1833/1833 [==============================] - 9s 5ms/step - loss: 0.3898 - accuracy: 0.8505 - val_loss: 0.8407 - val_accuracy: 0.7362 - _timestamp: 1655117545.0000 - _runtime: 1199.0000 - lr: 1.0000e-06\n",
      "Epoch 129/1000\n",
      "1826/1833 [============================>.] - ETA: 0s - loss: 0.3923 - accuracy: 0.8476\n",
      "Epoch 00129: val_loss did not improve from 0.80188\n",
      "1833/1833 [==============================] - 9s 5ms/step - loss: 0.3921 - accuracy: 0.8477 - val_loss: 0.8392 - val_accuracy: 0.7326 - _timestamp: 1655117555.0000 - _runtime: 1209.0000 - lr: 1.0000e-06\n",
      "Epoch 130/1000\n",
      "1827/1833 [============================>.] - ETA: 0s - loss: 0.3909 - accuracy: 0.8484\n",
      "Epoch 00130: val_loss did not improve from 0.80188\n",
      "1833/1833 [==============================] - 9s 5ms/step - loss: 0.3908 - accuracy: 0.8484 - val_loss: 0.8519 - val_accuracy: 0.7344 - _timestamp: 1655117564.0000 - _runtime: 1218.0000 - lr: 1.0000e-06\n",
      "Epoch 131/1000\n",
      "1829/1833 [============================>.] - ETA: 0s - loss: 0.3905 - accuracy: 0.8498\n",
      "Epoch 00131: val_loss did not improve from 0.80188\n",
      "1833/1833 [==============================] - 9s 5ms/step - loss: 0.3905 - accuracy: 0.8498 - val_loss: 0.8398 - val_accuracy: 0.7326 - _timestamp: 1655117573.0000 - _runtime: 1227.0000 - lr: 1.0000e-06\n",
      "Epoch 132/1000\n",
      "1833/1833 [==============================] - ETA: 0s - loss: 0.3892 - accuracy: 0.8492\n",
      "Epoch 00132: val_loss did not improve from 0.80188\n",
      "1833/1833 [==============================] - 9s 5ms/step - loss: 0.3892 - accuracy: 0.8492 - val_loss: 0.8280 - val_accuracy: 0.7362 - _timestamp: 1655117582.0000 - _runtime: 1236.0000 - lr: 1.0000e-06\n",
      "Epoch 133/1000\n",
      "1831/1833 [============================>.] - ETA: 0s - loss: 0.3909 - accuracy: 0.8488\n",
      "Epoch 00133: val_loss did not improve from 0.80188\n",
      "1833/1833 [==============================] - 9s 5ms/step - loss: 0.3909 - accuracy: 0.8489 - val_loss: 0.8377 - val_accuracy: 0.7326 - _timestamp: 1655117592.0000 - _runtime: 1246.0000 - lr: 1.0000e-06\n",
      "Epoch 134/1000\n",
      "1833/1833 [==============================] - ETA: 0s - loss: 0.3882 - accuracy: 0.8517\n",
      "Epoch 00134: val_loss did not improve from 0.80188\n",
      "1833/1833 [==============================] - 9s 5ms/step - loss: 0.3882 - accuracy: 0.8517 - val_loss: 0.8574 - val_accuracy: 0.7344 - _timestamp: 1655117601.0000 - _runtime: 1255.0000 - lr: 1.0000e-06\n",
      "Epoch 135/1000\n",
      "1826/1833 [============================>.] - ETA: 0s - loss: 0.3886 - accuracy: 0.8508\n",
      "Epoch 00135: val_loss did not improve from 0.80188\n",
      "1833/1833 [==============================] - 9s 5ms/step - loss: 0.3885 - accuracy: 0.8509 - val_loss: 0.8598 - val_accuracy: 0.7380 - _timestamp: 1655117610.0000 - _runtime: 1264.0000 - lr: 1.0000e-06\n",
      "Epoch 136/1000\n",
      "1824/1833 [============================>.] - ETA: 0s - loss: 0.3872 - accuracy: 0.8516\n",
      "Epoch 00136: val_loss did not improve from 0.80188\n",
      "1833/1833 [==============================] - 9s 5ms/step - loss: 0.3872 - accuracy: 0.8516 - val_loss: 0.8527 - val_accuracy: 0.7326 - _timestamp: 1655117619.0000 - _runtime: 1273.0000 - lr: 1.0000e-06\n",
      "Epoch 137/1000\n",
      "1826/1833 [============================>.] - ETA: 0s - loss: 0.3878 - accuracy: 0.8512\n",
      "Epoch 00137: val_loss did not improve from 0.80188\n",
      "1833/1833 [==============================] - 9s 5ms/step - loss: 0.3877 - accuracy: 0.8512 - val_loss: 0.8537 - val_accuracy: 0.7362 - _timestamp: 1655117628.0000 - _runtime: 1282.0000 - lr: 1.0000e-06\n",
      "Epoch 138/1000\n",
      "1827/1833 [============================>.] - ETA: 0s - loss: 0.3861 - accuracy: 0.8508\n",
      "Epoch 00138: val_loss did not improve from 0.80188\n",
      "1833/1833 [==============================] - 9s 5ms/step - loss: 0.3861 - accuracy: 0.8508 - val_loss: 0.8444 - val_accuracy: 0.7326 - _timestamp: 1655117637.0000 - _runtime: 1291.0000 - lr: 1.0000e-06\n",
      "Epoch 139/1000\n",
      "1833/1833 [==============================] - ETA: 0s - loss: 0.3859 - accuracy: 0.8512\n",
      "Epoch 00139: val_loss did not improve from 0.80188\n",
      "1833/1833 [==============================] - 9s 5ms/step - loss: 0.3859 - accuracy: 0.8512 - val_loss: 0.8572 - val_accuracy: 0.7326 - _timestamp: 1655117646.0000 - _runtime: 1300.0000 - lr: 1.0000e-06\n",
      "Epoch 140/1000\n",
      "1827/1833 [============================>.] - ETA: 0s - loss: 0.3857 - accuracy: 0.8502\n",
      "Epoch 00140: val_loss did not improve from 0.80188\n",
      "1833/1833 [==============================] - 9s 5ms/step - loss: 0.3855 - accuracy: 0.8502 - val_loss: 0.8524 - val_accuracy: 0.7308 - _timestamp: 1655117655.0000 - _runtime: 1309.0000 - lr: 1.0000e-06\n",
      "Epoch 141/1000\n",
      "1831/1833 [============================>.] - ETA: 0s - loss: 0.3844 - accuracy: 0.8522\n",
      "Epoch 00141: val_loss did not improve from 0.80188\n",
      "1833/1833 [==============================] - 9s 5ms/step - loss: 0.3843 - accuracy: 0.8523 - val_loss: 0.8468 - val_accuracy: 0.7308 - _timestamp: 1655117664.0000 - _runtime: 1318.0000 - lr: 1.0000e-06\n",
      "Epoch 142/1000\n",
      "1828/1833 [============================>.] - ETA: 0s - loss: 0.3848 - accuracy: 0.8508\n",
      "Epoch 00142: val_loss did not improve from 0.80188\n",
      "1833/1833 [==============================] - 9s 5ms/step - loss: 0.3847 - accuracy: 0.8509 - val_loss: 0.8491 - val_accuracy: 0.7344 - _timestamp: 1655117673.0000 - _runtime: 1327.0000 - lr: 1.0000e-06\n",
      "Epoch 143/1000\n",
      "1824/1833 [============================>.] - ETA: 0s - loss: 0.3844 - accuracy: 0.8516\n",
      "Epoch 00143: val_loss did not improve from 0.80188\n",
      "1833/1833 [==============================] - 9s 5ms/step - loss: 0.3845 - accuracy: 0.8515 - val_loss: 0.8431 - val_accuracy: 0.7326 - _timestamp: 1655117682.0000 - _runtime: 1336.0000 - lr: 1.0000e-06\n",
      "Epoch 144/1000\n",
      "1828/1833 [============================>.] - ETA: 0s - loss: 0.3800 - accuracy: 0.8521\n",
      "Epoch 00144: val_loss did not improve from 0.80188\n",
      "1833/1833 [==============================] - 9s 5ms/step - loss: 0.3799 - accuracy: 0.8522 - val_loss: 0.8478 - val_accuracy: 0.7308 - _timestamp: 1655117692.0000 - _runtime: 1346.0000 - lr: 1.0000e-06\n",
      "Epoch 145/1000\n",
      "1831/1833 [============================>.] - ETA: 0s - loss: 0.3808 - accuracy: 0.8535\n",
      "Epoch 00145: val_loss did not improve from 0.80188\n",
      "1833/1833 [==============================] - 9s 5ms/step - loss: 0.3809 - accuracy: 0.8534 - val_loss: 0.8514 - val_accuracy: 0.7362 - _timestamp: 1655117701.0000 - _runtime: 1355.0000 - lr: 1.0000e-06\n",
      "Epoch 146/1000\n",
      "1827/1833 [============================>.] - ETA: 0s - loss: 0.3802 - accuracy: 0.8542\n",
      "Epoch 00146: val_loss did not improve from 0.80188\n",
      "1833/1833 [==============================] - 9s 5ms/step - loss: 0.3802 - accuracy: 0.8542 - val_loss: 0.8546 - val_accuracy: 0.7326 - _timestamp: 1655117710.0000 - _runtime: 1364.0000 - lr: 1.0000e-06\n",
      "Epoch 147/1000\n",
      "1828/1833 [============================>.] - ETA: 0s - loss: 0.3806 - accuracy: 0.8539\n",
      "Epoch 00147: val_loss did not improve from 0.80188\n",
      "1833/1833 [==============================] - 9s 5ms/step - loss: 0.3804 - accuracy: 0.8540 - val_loss: 0.8592 - val_accuracy: 0.7326 - _timestamp: 1655117719.0000 - _runtime: 1373.0000 - lr: 1.0000e-06\n",
      "Epoch 148/1000\n",
      "1830/1833 [============================>.] - ETA: 0s - loss: 0.3778 - accuracy: 0.8543\n",
      "Epoch 00148: val_loss did not improve from 0.80188\n",
      "1833/1833 [==============================] - 9s 5ms/step - loss: 0.3778 - accuracy: 0.8543 - val_loss: 0.8718 - val_accuracy: 0.7326 - _timestamp: 1655117728.0000 - _runtime: 1382.0000 - lr: 1.0000e-06\n",
      "Epoch 149/1000\n",
      "1833/1833 [==============================] - ETA: 0s - loss: 0.3795 - accuracy: 0.8537\n",
      "Epoch 00149: val_loss did not improve from 0.80188\n",
      "1833/1833 [==============================] - 9s 5ms/step - loss: 0.3795 - accuracy: 0.8537 - val_loss: 0.8541 - val_accuracy: 0.7273 - _timestamp: 1655117738.0000 - _runtime: 1392.0000 - lr: 1.0000e-06\n",
      "Epoch 150/1000\n",
      "1831/1833 [============================>.] - ETA: 0s - loss: 0.3785 - accuracy: 0.8555\n",
      "Epoch 00150: val_loss did not improve from 0.80188\n",
      "1833/1833 [==============================] - 9s 5ms/step - loss: 0.3785 - accuracy: 0.8555 - val_loss: 0.8646 - val_accuracy: 0.7362 - _timestamp: 1655117747.0000 - _runtime: 1401.0000 - lr: 1.0000e-06\n",
      "Epoch 151/1000\n",
      "1830/1833 [============================>.] - ETA: 0s - loss: 0.3786 - accuracy: 0.8547\n",
      "Epoch 00151: val_loss did not improve from 0.80188\n",
      "1833/1833 [==============================] - 9s 5ms/step - loss: 0.3789 - accuracy: 0.8546 - val_loss: 0.8692 - val_accuracy: 0.7308 - _timestamp: 1655117756.0000 - _runtime: 1410.0000 - lr: 1.0000e-06\n",
      "Epoch 152/1000\n",
      "1827/1833 [============================>.] - ETA: 0s - loss: 0.3775 - accuracy: 0.8556\n",
      "Epoch 00152: val_loss did not improve from 0.80188\n",
      "1833/1833 [==============================] - 9s 5ms/step - loss: 0.3773 - accuracy: 0.8556 - val_loss: 0.8625 - val_accuracy: 0.7326 - _timestamp: 1655117765.0000 - _runtime: 1419.0000 - lr: 1.0000e-06\n",
      "Epoch 153/1000\n",
      "1825/1833 [============================>.] - ETA: 0s - loss: 0.3784 - accuracy: 0.8553\n",
      "Epoch 00153: val_loss did not improve from 0.80188\n",
      "1833/1833 [==============================] - 9s 5ms/step - loss: 0.3783 - accuracy: 0.8554 - val_loss: 0.8691 - val_accuracy: 0.7326 - _timestamp: 1655117774.0000 - _runtime: 1428.0000 - lr: 1.0000e-06\n",
      "Epoch 154/1000\n",
      "1829/1833 [============================>.] - ETA: 0s - loss: 0.3752 - accuracy: 0.8567\n",
      "Epoch 00154: val_loss did not improve from 0.80188\n",
      "1833/1833 [==============================] - 9s 5ms/step - loss: 0.3750 - accuracy: 0.8568 - val_loss: 0.8652 - val_accuracy: 0.7344 - _timestamp: 1655117784.0000 - _runtime: 1438.0000 - lr: 1.0000e-06\n",
      "Epoch 155/1000\n",
      "1831/1833 [============================>.] - ETA: 0s - loss: 0.3749 - accuracy: 0.8567\n",
      "Epoch 00155: val_loss did not improve from 0.80188\n",
      "1833/1833 [==============================] - 9s 5ms/step - loss: 0.3748 - accuracy: 0.8567 - val_loss: 0.8575 - val_accuracy: 0.7291 - _timestamp: 1655117793.0000 - _runtime: 1447.0000 - lr: 1.0000e-06\n",
      "Epoch 156/1000\n",
      "1833/1833 [==============================] - ETA: 0s - loss: 0.3760 - accuracy: 0.8556\n",
      "Epoch 00156: val_loss did not improve from 0.80188\n",
      "1833/1833 [==============================] - 9s 5ms/step - loss: 0.3760 - accuracy: 0.8556 - val_loss: 0.8684 - val_accuracy: 0.7291 - _timestamp: 1655117802.0000 - _runtime: 1456.0000 - lr: 1.0000e-06\n",
      "Epoch 157/1000\n",
      "1829/1833 [============================>.] - ETA: 0s - loss: 0.3732 - accuracy: 0.8572\n",
      "Epoch 00157: val_loss did not improve from 0.80188\n",
      "1833/1833 [==============================] - 9s 5ms/step - loss: 0.3734 - accuracy: 0.8571 - val_loss: 0.8716 - val_accuracy: 0.7326 - _timestamp: 1655117811.0000 - _runtime: 1465.0000 - lr: 1.0000e-06\n",
      "Epoch 158/1000\n",
      "1830/1833 [============================>.] - ETA: 0s - loss: 0.3716 - accuracy: 0.8574\n",
      "Epoch 00158: val_loss did not improve from 0.80188\n",
      "1833/1833 [==============================] - 9s 5ms/step - loss: 0.3716 - accuracy: 0.8574 - val_loss: 0.8631 - val_accuracy: 0.7237 - _timestamp: 1655117820.0000 - _runtime: 1474.0000 - lr: 1.0000e-06\n",
      "Epoch 159/1000\n",
      "1833/1833 [==============================] - ETA: 0s - loss: 0.3732 - accuracy: 0.8576\n",
      "Epoch 00159: val_loss did not improve from 0.80188\n",
      "1833/1833 [==============================] - 9s 5ms/step - loss: 0.3732 - accuracy: 0.8576 - val_loss: 0.8612 - val_accuracy: 0.7201 - _timestamp: 1655117829.0000 - _runtime: 1483.0000 - lr: 1.0000e-06\n",
      "Epoch 160/1000\n",
      "1829/1833 [============================>.] - ETA: 0s - loss: 0.3720 - accuracy: 0.8595\n",
      "Epoch 00160: val_loss did not improve from 0.80188\n",
      "1833/1833 [==============================] - 9s 5ms/step - loss: 0.3722 - accuracy: 0.8594 - val_loss: 0.8617 - val_accuracy: 0.7255 - _timestamp: 1655117839.0000 - _runtime: 1493.0000 - lr: 1.0000e-06\n",
      "Epoch 161/1000\n",
      "1832/1833 [============================>.] - ETA: 0s - loss: 0.3721 - accuracy: 0.8578\n",
      "Epoch 00161: val_loss did not improve from 0.80188\n",
      "1833/1833 [==============================] - 9s 5ms/step - loss: 0.3720 - accuracy: 0.8579 - val_loss: 0.8609 - val_accuracy: 0.7201 - _timestamp: 1655117848.0000 - _runtime: 1502.0000 - lr: 1.0000e-06\n",
      "Epoch 162/1000\n",
      "1824/1833 [============================>.] - ETA: 0s - loss: 0.3716 - accuracy: 0.8591\n",
      "Epoch 00162: val_loss did not improve from 0.80188\n",
      "1833/1833 [==============================] - 9s 5ms/step - loss: 0.3716 - accuracy: 0.8591 - val_loss: 0.8772 - val_accuracy: 0.7273 - _timestamp: 1655117857.0000 - _runtime: 1511.0000 - lr: 1.0000e-06\n",
      "Epoch 163/1000\n",
      "1827/1833 [============================>.] - ETA: 0s - loss: 0.3713 - accuracy: 0.8592\n",
      "Epoch 00163: val_loss did not improve from 0.80188\n",
      "1833/1833 [==============================] - 9s 5ms/step - loss: 0.3716 - accuracy: 0.8591 - val_loss: 0.8825 - val_accuracy: 0.7291 - _timestamp: 1655117866.0000 - _runtime: 1520.0000 - lr: 1.0000e-06\n",
      "Epoch 164/1000\n",
      "1828/1833 [============================>.] - ETA: 0s - loss: 0.3701 - accuracy: 0.8587\n",
      "Epoch 00164: val_loss did not improve from 0.80188\n",
      "1833/1833 [==============================] - 9s 5ms/step - loss: 0.3699 - accuracy: 0.8588 - val_loss: 0.8694 - val_accuracy: 0.7237 - _timestamp: 1655117875.0000 - _runtime: 1529.0000 - lr: 1.0000e-06\n",
      "Epoch 165/1000\n",
      "1832/1833 [============================>.] - ETA: 0s - loss: 0.3715 - accuracy: 0.8581\n",
      "Epoch 00165: val_loss did not improve from 0.80188\n",
      "1833/1833 [==============================] - 9s 5ms/step - loss: 0.3715 - accuracy: 0.8581 - val_loss: 0.8743 - val_accuracy: 0.7219 - _timestamp: 1655117884.0000 - _runtime: 1538.0000 - lr: 1.0000e-06\n",
      "Epoch 166/1000\n",
      "1826/1833 [============================>.] - ETA: 0s - loss: 0.3703 - accuracy: 0.8588\n",
      "Epoch 00166: val_loss did not improve from 0.80188\n",
      "1833/1833 [==============================] - 9s 5ms/step - loss: 0.3702 - accuracy: 0.8588 - val_loss: 0.8733 - val_accuracy: 0.7237 - _timestamp: 1655117894.0000 - _runtime: 1548.0000 - lr: 1.0000e-06\n",
      "Epoch 167/1000\n",
      "1829/1833 [============================>.] - ETA: 0s - loss: 0.3689 - accuracy: 0.8607\n",
      "Epoch 00167: val_loss did not improve from 0.80188\n",
      "1833/1833 [==============================] - 9s 5ms/step - loss: 0.3691 - accuracy: 0.8606 - val_loss: 0.8934 - val_accuracy: 0.7130 - _timestamp: 1655117903.0000 - _runtime: 1557.0000 - lr: 1.0000e-06\n",
      "Epoch 168/1000\n",
      "1824/1833 [============================>.] - ETA: 0s - loss: 0.3699 - accuracy: 0.8593\n",
      "Epoch 00168: val_loss did not improve from 0.80188\n",
      "1833/1833 [==============================] - 9s 5ms/step - loss: 0.3697 - accuracy: 0.8594 - val_loss: 0.8886 - val_accuracy: 0.7166 - _timestamp: 1655117912.0000 - _runtime: 1566.0000 - lr: 1.0000e-06\n",
      "Epoch 169/1000\n",
      "1831/1833 [============================>.] - ETA: 0s - loss: 0.3675 - accuracy: 0.8605\n",
      "Epoch 00169: val_loss did not improve from 0.80188\n",
      "1833/1833 [==============================] - 9s 5ms/step - loss: 0.3674 - accuracy: 0.8605 - val_loss: 0.8847 - val_accuracy: 0.7273 - _timestamp: 1655117921.0000 - _runtime: 1575.0000 - lr: 1.0000e-06\n",
      "Epoch 170/1000\n",
      "1831/1833 [============================>.] - ETA: 0s - loss: 0.3680 - accuracy: 0.8590\n",
      "Epoch 00170: val_loss did not improve from 0.80188\n",
      "1833/1833 [==============================] - 9s 5ms/step - loss: 0.3679 - accuracy: 0.8591 - val_loss: 0.8821 - val_accuracy: 0.7273 - _timestamp: 1655117930.0000 - _runtime: 1584.0000 - lr: 1.0000e-06\n",
      "Epoch 171/1000\n",
      "1827/1833 [============================>.] - ETA: 0s - loss: 0.3692 - accuracy: 0.8600\n",
      "Epoch 00171: val_loss did not improve from 0.80188\n",
      "1833/1833 [==============================] - 9s 5ms/step - loss: 0.3691 - accuracy: 0.8600 - val_loss: 0.8724 - val_accuracy: 0.7184 - _timestamp: 1655117939.0000 - _runtime: 1593.0000 - lr: 1.0000e-06\n",
      "Epoch 172/1000\n",
      "1827/1833 [============================>.] - ETA: 0s - loss: 0.3654 - accuracy: 0.8603\n",
      "Epoch 00172: val_loss did not improve from 0.80188\n",
      "1833/1833 [==============================] - 9s 5ms/step - loss: 0.3654 - accuracy: 0.8603 - val_loss: 0.8696 - val_accuracy: 0.7184 - _timestamp: 1655117948.0000 - _runtime: 1602.0000 - lr: 1.0000e-06\n",
      "Epoch 173/1000\n",
      "1828/1833 [============================>.] - ETA: 0s - loss: 0.3663 - accuracy: 0.8597\n",
      "Epoch 00173: val_loss did not improve from 0.80188\n",
      "1833/1833 [==============================] - 9s 5ms/step - loss: 0.3664 - accuracy: 0.8596 - val_loss: 0.9006 - val_accuracy: 0.7326 - _timestamp: 1655117958.0000 - _runtime: 1612.0000 - lr: 1.0000e-06\n",
      "Epoch 174/1000\n",
      "1831/1833 [============================>.] - ETA: 0s - loss: 0.3644 - accuracy: 0.8616\n",
      "Epoch 00174: val_loss did not improve from 0.80188\n",
      "1833/1833 [==============================] - 9s 5ms/step - loss: 0.3645 - accuracy: 0.8616 - val_loss: 0.8779 - val_accuracy: 0.7219 - _timestamp: 1655117967.0000 - _runtime: 1621.0000 - lr: 1.0000e-06\n",
      "Epoch 175/1000\n",
      "1830/1833 [============================>.] - ETA: 0s - loss: 0.3675 - accuracy: 0.8610\n",
      "Epoch 00175: val_loss did not improve from 0.80188\n",
      "1833/1833 [==============================] - 9s 5ms/step - loss: 0.3676 - accuracy: 0.8610 - val_loss: 0.8841 - val_accuracy: 0.7255 - _timestamp: 1655117976.0000 - _runtime: 1630.0000 - lr: 1.0000e-06\n",
      "Epoch 176/1000\n",
      "1825/1833 [============================>.] - ETA: 0s - loss: 0.3636 - accuracy: 0.8611\n",
      "Epoch 00176: val_loss did not improve from 0.80188\n",
      "1833/1833 [==============================] - 9s 5ms/step - loss: 0.3640 - accuracy: 0.8611 - val_loss: 0.8981 - val_accuracy: 0.7291 - _timestamp: 1655117985.0000 - _runtime: 1639.0000 - lr: 1.0000e-06\n",
      "Epoch 177/1000\n",
      "1827/1833 [============================>.] - ETA: 0s - loss: 0.3647 - accuracy: 0.8610\n",
      "Epoch 00177: val_loss did not improve from 0.80188\n",
      "1833/1833 [==============================] - 9s 5ms/step - loss: 0.3648 - accuracy: 0.8609 - val_loss: 0.8869 - val_accuracy: 0.7219 - _timestamp: 1655117994.0000 - _runtime: 1648.0000 - lr: 1.0000e-06\n",
      "Epoch 178/1000\n",
      "1833/1833 [==============================] - ETA: 0s - loss: 0.3620 - accuracy: 0.8618\n",
      "Epoch 00178: val_loss did not improve from 0.80188\n",
      "1833/1833 [==============================] - 9s 5ms/step - loss: 0.3620 - accuracy: 0.8618 - val_loss: 0.8785 - val_accuracy: 0.7148 - _timestamp: 1655118004.0000 - _runtime: 1658.0000 - lr: 1.0000e-06\n",
      "Epoch 00178: early stopping\n"
     ]
    }
   ],
   "source": [
    "# Train Model\n",
    "history = model.fit(X_train_series, y_train_series, validation_data=(X_val_series, y_val_series), epochs=cfg.epochs, callbacks=callbacks, batch_size=cfg.batch_size)\n"
   ]
  },
  {
   "cell_type": "markdown",
   "metadata": {},
   "source": [
    "## Evaluate"
   ]
  },
  {
   "cell_type": "code",
   "execution_count": 16,
   "metadata": {},
   "outputs": [
    {
     "name": "stdout",
     "output_type": "stream",
     "text": [
      "18/18 [==============================] - 0s 2ms/step\n"
     ]
    }
   ],
   "source": [
    "# Evaluate Model\n",
    "val_logits = model.predict(X_val_series, batch_size=32, verbose=1)\n"
   ]
  },
  {
   "cell_type": "code",
   "execution_count": 17,
   "metadata": {},
   "outputs": [
    {
     "data": {
      "text/plain": [
       "2526"
      ]
     },
     "execution_count": 17,
     "metadata": {},
     "output_type": "execute_result"
    }
   ],
   "source": [
    "# free up memory\n",
    "del X_train_series\n",
    "del X_val_series\n",
    "\n",
    "gc.collect()\n"
   ]
  },
  {
   "cell_type": "code",
   "execution_count": 18,
   "metadata": {},
   "outputs": [],
   "source": [
    "y_pred_val_classes = np.argmax(val_logits, axis=1)"
   ]
  },
  {
   "cell_type": "code",
   "execution_count": 19,
   "metadata": {},
   "outputs": [
    {
     "name": "stdout",
     "output_type": "stream",
     "text": [
      "              precision    recall  f1-score   support\n",
      "\n",
      "         adl       0.90      0.87      0.89       367\n",
      "     falling       0.61      0.30      0.40       136\n",
      "  lying_down       0.29      0.67      0.40        58\n",
      "\n",
      "    accuracy                           0.71       561\n",
      "   macro avg       0.60      0.62      0.56       561\n",
      "weighted avg       0.76      0.71      0.72       561\n",
      "\n"
     ]
    }
   ],
   "source": [
    "cr = classification_report(y_val_series, y_pred_val_classes, target_names=classes)\n",
    "print(cr)"
   ]
  },
  {
   "cell_type": "code",
   "execution_count": 20,
   "metadata": {
    "tags": []
   },
   "outputs": [
    {
     "name": "stderr",
     "output_type": "stream",
     "text": [
      "\u001b[34m\u001b[1mwandb\u001b[0m: \u001b[33mWARNING\u001b[0m wandb.plots.* functions are deprecated and will be removed in a future release. Please use wandb.plot.* instead.\n"
     ]
    },
    {
     "data": {
      "text/html": [
       "Waiting for W&B process to finish... <strong style=\"color:green\">(success).</strong>"
      ],
      "text/plain": [
       "<IPython.core.display.HTML object>"
      ]
     },
     "metadata": {},
     "output_type": "display_data"
    },
    {
     "data": {
      "application/vnd.jupyter.widget-view+json": {
       "model_id": "",
       "version_major": 2,
       "version_minor": 0
      },
      "text/plain": [
       "VBox(children=(Label(value='13.425 MB of 13.425 MB uploaded (0.000 MB deduped)\\r'), FloatProgress(value=0.9999…"
      ]
     },
     "metadata": {},
     "output_type": "display_data"
    },
    {
     "data": {
      "text/html": [
       "<style>\n",
       "    table.wandb td:nth-child(1) { padding: 0 10px; text-align: left ; width: auto;} td:nth-child(2) {text-align: left ; width: 100%}\n",
       "    .wandb-row { display: flex; flex-direction: row; flex-wrap: wrap; justify-content: flex-start; width: 100% }\n",
       "    .wandb-col { display: flex; flex-direction: column; flex-basis: 100%; flex: 1; padding: 10px; }\n",
       "    </style>\n",
       "<div class=\"wandb-row\"><div class=\"wandb-col\"><h3>Run history:</h3><br/><table class=\"wandb\"><tr><td>accuracy</td><td>▁▄▅▆▆▆▇▇▇▇▇▇▇▇▇▇▇▇▇▇▇▇▇▇▇███████████████</td></tr><tr><td>epoch</td><td>▁▁▁▁▂▂▂▂▂▃▃▃▃▃▃▄▄▄▄▄▅▅▅▅▅▅▆▆▆▆▆▆▇▇▇▇▇███</td></tr><tr><td>loss</td><td>█▅▄▃▃▃▃▃▃▂▂▂▂▂▂▂▂▂▂▂▂▂▂▂▂▂▂▂▁▁▁▁▁▁▁▁▁▁▁▁</td></tr><tr><td>val_accuracy</td><td>▁▁▂▅▆▅▆▅▆▆▆▆▇▇▇▇██▇▇██████████▇▇▇██▇▇▆▆▆</td></tr><tr><td>val_loss</td><td>▅▃█▅▄▆▇▆▄▄▅▇▃▃▃▂▆▁▃▃▂▂▂▃▃▄▄▅▄▃▄▄▅▅▅▅▆▇▆▆</td></tr></table><br/></div><div class=\"wandb-col\"><h3>Run summary:</h3><br/><table class=\"wandb\"><tr><td>accuracy</td><td>0.8618</td></tr><tr><td>best_epoch</td><td>77</td></tr><tr><td>best_val_loss</td><td>0.80188</td></tr><tr><td>epoch</td><td>177</td></tr><tr><td>loss</td><td>0.36204</td></tr><tr><td>val_accuracy</td><td>0.71479</td></tr><tr><td>val_loss</td><td>0.87847</td></tr></table><br/></div></div>"
      ],
      "text/plain": [
       "<IPython.core.display.HTML object>"
      ]
     },
     "metadata": {},
     "output_type": "display_data"
    },
    {
     "data": {
      "text/html": [
       "Synced <strong style=\"color:#cdcd00\">dulcet-bush-123</strong>: <a href=\"https://wandb.ai/andreaapi/Fall%20detection%20CNN%20%2B%20RNN/runs/2wzm3anf\" target=\"_blank\">https://wandb.ai/andreaapi/Fall%20detection%20CNN%20%2B%20RNN/runs/2wzm3anf</a><br/>Synced 6 W&B file(s), 6 media file(s), 5 artifact file(s) and 1 other file(s)"
      ],
      "text/plain": [
       "<IPython.core.display.HTML object>"
      ]
     },
     "metadata": {},
     "output_type": "display_data"
    },
    {
     "data": {
      "text/html": [
       "Find logs at: <code>./wandb/run-20220613_123226-2wzm3anf/logs</code>"
      ],
      "text/plain": [
       "<IPython.core.display.HTML object>"
      ]
     },
     "metadata": {},
     "output_type": "display_data"
    }
   ],
   "source": [
    "# Log metrics to wandb\n",
    "y_pred_val_classes = np.argmax(val_logits, axis=1).tolist()\n",
    "\n",
    "cr = classification_report(y_val_series, y_pred_val_classes, target_names=classes, output_dict=True)\n",
    "\n",
    "wandb.sklearn.plot_roc(y_val_series, val_logits, classes)\n",
    "wandb.sklearn.plot_class_proportions(y_train_series, y_val_series, classes)\n",
    "wandb.sklearn.plot_precision_recall(y_val_series, val_logits, classes)\n",
    "wandb.sklearn.plot_confusion_matrix(y_val_series, y_pred_val_classes, classes)\n",
    "\n",
    "import pandas as pd\n",
    "cr = pd.DataFrame(cr)\n",
    "cr = cr.iloc[:-1, :3].round(2)\n",
    "cr[\"metric\"] = [\"precision\", \"recall\", \"f1-score\"]\n",
    "\n",
    "cr_wandb = wandb.Table(dataframe = cr)\n",
    "wandb.log({\"Classification report\": cr_wandb})\n",
    "\n",
    "wandb.join()"
   ]
  }
 ],
 "metadata": {
  "interpreter": {
   "hash": "045da2998f02dde6c755b0fa2e74d8766d7d056d6163358ab445ad432d6df67f"
  },
  "kernelspec": {
   "display_name": "Python 3 (ipykernel)",
   "language": "python",
   "name": "python3"
  },
  "language_info": {
   "codemirror_mode": {
    "name": "ipython",
    "version": 3
   },
   "file_extension": ".py",
   "mimetype": "text/x-python",
   "name": "python",
   "nbconvert_exporter": "python",
   "pygments_lexer": "ipython3",
   "version": "3.9.12"
  }
 },
 "nbformat": 4,
 "nbformat_minor": 4
}
