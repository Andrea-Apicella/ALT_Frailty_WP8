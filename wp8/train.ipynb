{
 "cells": [
  {
   "cell_type": "code",
   "execution_count": null,
   "metadata": {},
   "outputs": [],
   "source": [
    "%load_ext autoreload\n",
    "%autoreload 2"
   ]
  },
  {
   "cell_type": "code",
   "execution_count": null,
   "metadata": {},
   "outputs": [],
   "source": [
    "# Evaluating CNN+RNN models on the dataset\n",
    "\n",
    "# Imports\n",
    "import gc\n",
    "import os, random\n",
    "from collections import Counter\n",
    "from datetime import datetime\n",
    "\n",
    "import numpy as np\n",
    "import tensorflow as tf\n",
    "from sklearn.metrics import classification_report\n",
    "\n",
    "from tensorflow.keras.callbacks import ModelCheckpoint, EarlyStopping, ReduceLROnPlateau\n",
    "from tensorflow.keras.layers import LSTM, Dense, Dropout\n",
    "from tensorflow.keras.models import Sequential\n",
    "from wandb.keras import WandbCallback\n",
    "\n",
    "import wandb\n",
    "from wp8.pre_processing.utils import safe_mkdir\n",
    "from wp8.utils.cnn_rnn_utils import load_and_split\n",
    "from wp8.utils.dataset import TimeSeriesGenerator as TSG\n"
   ]
  },
  {
   "cell_type": "code",
   "execution_count": null,
   "metadata": {},
   "outputs": [],
   "source": [
    "os.environ[\"TF_CUDNN_DETERMINISTIC\"] = \"1\"\n",
    "random.seed(hash(\"setting random seeds\") % 2**32 - 1)\n",
    "np.random.seed(hash(\"improves reproducibility\") % 2**32 - 1)\n",
    "tf.random.set_seed(hash(\"by removing stochasticity\") % 2**32 - 1)\n"
   ]
  },
  {
   "cell_type": "code",
   "execution_count": null,
   "metadata": {},
   "outputs": [],
   "source": [
    "class dotdict(dict):\n",
    "    \"\"\"dot.notation access to dictionary attributes\"\"\"\n",
    "\n",
    "    __getattr__ = dict.get\n",
    "    __setattr__ = dict.__setitem__\n",
    "    __delattr__ = dict.__delitem__\n",
    "\n",
    "\n",
    "opt = dotdict(\n",
    "    {\n",
    "        \"lstm1_units\": 128,\n",
    "        \"lstm2_units\": 64,\n",
    "        \"dense_units\": 32,\n",
    "        \"dropout\": 0.5,\n",
    "        \"epochs\": 1000,\n",
    "        \"train_actors\": [1, 2, 3],\n",
    "        \"val_actors\": [4],\n",
    "        \"train_cams\": [1, 2, 3],\n",
    "        \"val_cams\": [1],\n",
    "        \"seq_len\": 20,\n",
    "        \"split_ratio\": None,\n",
    "        \"drop_offair\": False,\n",
    "        \"undersample\": False,\n",
    "        \"batch_size\": 40,\n",
    "        \"stride\": 10,\n",
    "        \"learning_rate\": 1e-4,\n",
    "        \"micro_classes\": False,\n",
    "    }\n",
    ")\n"
   ]
  },
  {
   "cell_type": "code",
   "execution_count": null,
   "metadata": {},
   "outputs": [],
   "source": [
    "X_train, y_train, X_val, y_val, cams_train, cams_val = load_and_split(\n",
    "    opt.train_actors, opt.val_actors, opt.train_cams, opt.val_cams, opt.split_ratio, opt.drop_offair, opt.undersample, opt.micro_classes\n",
    ")\n",
    "print(f\"\\nX_train shape: {X_train.shape}, len y_train: {len(y_train)}, X_val shape: {X_val.shape}, len y_val: {len(y_val)}\\n\")\n"
   ]
  },
  {
   "cell_type": "code",
   "execution_count": null,
   "metadata": {},
   "outputs": [],
   "source": [
    "series_gen = TSG(opt)\n",
    "X_train_series, y_train_series, class_weights, classes = series_gen.get_train_series(X_train, y_train, cams_train)\n",
    "X_val_series, y_val_series = series_gen.get_val_series(X_val, y_val, cams_val)\n",
    "print(f\"\\nX_train_series shape: {X_train_series.shape}, len y_train_series: {len(y_train_series)}, X_val_series shape: {X_val_series.shape}, len y_val_series: {len(y_val_series)}\\n\")\n"
   ]
  },
  {
   "cell_type": "code",
   "execution_count": null,
   "metadata": {},
   "outputs": [],
   "source": [
    "print(f\"Before resampling - y_train_series shape: {Counter(y_train_series)}\")\n"
   ]
  },
  {
   "cell_type": "markdown",
   "metadata": {},
   "source": [
    "### Resampling\n"
   ]
  },
  {
   "cell_type": "code",
   "execution_count": null,
   "metadata": {},
   "outputs": [],
   "source": [
    "from imblearn.under_sampling import RandomUnderSampler\n",
    "from imblearn.over_sampling import RandomOverSampler\n",
    "from imblearn.pipeline import Pipeline\n",
    "from imblearn.combine import SMOTETomek\n",
    "import copy\n",
    "\n",
    "undersampling_strategy = {0: 3000, 2: 3000, 1: 3000}\n",
    "oversampling_strategy = {0: 23890, 2: 6437, 1: 4000}\n",
    "under = RandomUnderSampler(random_state=2, sampling_strategy=undersampling_strategy)\n",
    "over = RandomOverSampler(random_state=2, sampling_strategy=oversampling_strategy)\n",
    "steps = [(\"o\", over), (\"u\", under)]\n",
    "pipeline = Pipeline(steps=steps)\n",
    "# smt = SMOTETomek(random_state=2)\n"
   ]
  },
  {
   "cell_type": "code",
   "execution_count": null,
   "metadata": {},
   "outputs": [],
   "source": [
    "print(f\"Original X_train_series shape: {X_train_series.shape}\")\n",
    "\n",
    "X_train_series = np.reshape(X_train_series, (-1, 20 * 2048))\n",
    "print(f\"X_train_series reshaped: {X_train_series.shape}\")\n",
    "\n",
    "X_train_series, y_train_series = pipeline.fit_resample(X_train_series, y_train_series)\n",
    "\n",
    "X_train_series = np.reshape(X_train_series, (-1, 20, 2048))\n",
    "\n",
    "print(f\"After resampling X_train_series shape: {X_train_series.shape}\")\n",
    "print(f\"After resampling - y_train_series count: {Counter(y_train_series)}\")\n"
   ]
  },
  {
   "cell_type": "code",
   "execution_count": null,
   "metadata": {},
   "outputs": [],
   "source": [
    "# WANDB project initialization\n",
    "run = wandb.init(\n",
    "    project=\"Fall detection CNN + RNN\",\n",
    "    config={\n",
    "        \"model\": \"LSTM\",\n",
    "        \"epochs\": opt.epochs,\n",
    "        \"seq_len\": opt.seq_len,\n",
    "        \"num_features\": 2048,\n",
    "        \"batch_size\": opt.batch_size,\n",
    "        \"stride\": opt.stride,\n",
    "        \"loss_function\": \"sparse_categorical_crossentropy\",\n",
    "        \"architecture\": \"LSTM\",\n",
    "        \"train_actors\": opt.train_actors,\n",
    "        \"val_actors\": opt.val_actors,\n",
    "        \"train_cams\": opt.train_cams,\n",
    "        \"val_cams\": opt.val_cams,\n",
    "        \"micro_classes\": opt.classes,\n",
    "        \"dropout\": opt.dropout,\n",
    "        \"lstm1_units\": opt.lstm1_units,\n",
    "        \"lstm2_units\": opt.lstm2_units,\n",
    "        \"dense_units\": opt.dense_units,\n",
    "        \"learning_rate\": opt.learning_rate,\n",
    "        \"split_ratio\": opt.split_ratio,\n",
    "        \"drop_offair\": opt.drop_offair,\n",
    "        \"undersample\": opt.undersample,\n",
    "    },\n",
    ")\n",
    "\n",
    "cfg = wandb.config\n"
   ]
  },
  {
   "cell_type": "code",
   "execution_count": null,
   "metadata": {},
   "outputs": [],
   "source": [
    "model = Sequential()\n",
    "model.add(LSTM(units=cfg.lstm1_units, input_shape=(cfg.seq_len, cfg.num_features), return_sequences=True))\n",
    "model.add(Dropout(cfg.dropout))\n",
    "model.add(LSTM(units=cfg.lstm2_units, input_shape=(cfg.seq_len, cfg.num_features), return_sequences=False))\n",
    "model.add(Dropout(cfg.dropout))\n",
    "model.add(Dense(units=cfg.dense_units, activation=\"relu\"))\n",
    "model.add(Dropout(cfg.dropout))\n",
    "model.add(Dense(units=np.unique(y_train_series, axis=0).shape[0], activation=\"softmax\"))\n",
    "model.compile(\n",
    "    optimizer=tf.keras.optimizers.Adam(learning_rate=cfg.learning_rate),\n",
    "    loss=cfg.loss_function,\n",
    "    metrics=[\"accuracy\"],\n",
    ")\n",
    "model.summary()\n"
   ]
  },
  {
   "cell_type": "code",
   "execution_count": null,
   "metadata": {},
   "outputs": [],
   "source": [
    "# Callbacks\n",
    "dir_path = f\"model_checkpoints/{cfg.model}\"\n",
    "safe_mkdir(dir_path)\n",
    "now = datetime.now()\n",
    "dt_string = now.strftime(\"%d-%m-%Y_%H:%M:%S\")\n",
    "\n",
    "model_checkpoint = ModelCheckpoint(\n",
    "    filepath=f\"{dir_path}/{cfg.model}_{dt_string}\",\n",
    "    monitor=\"val_accuracy\",\n",
    "    save_best_only=True,\n",
    "    save_weights_only=True,\n",
    "    initial_value_threshold=0.8,\n",
    "    verbose=1,\n",
    ")\n",
    "\n",
    "reduce_lr = ReduceLROnPlateau(\n",
    "    monitor=\"val_loss\",\n",
    "    factor=0.1,\n",
    "    patience=30,\n",
    "    verbose=1,\n",
    "    mode=\"min\",\n",
    "    min_delta=1e-5,\n",
    "    cooldown=1,\n",
    "    min_lr=1e-6,\n",
    ")\n",
    "\n",
    "early_stop = EarlyStopping(\n",
    "    monitor=\"val_loss\",\n",
    "    patience=20,\n",
    "    verbose=1,\n",
    "    mode=\"min\",\n",
    ")\n",
    "\n",
    "callbacks = [WandbCallback(), reduce_lr, early_stop]\n"
   ]
  },
  {
   "cell_type": "code",
   "execution_count": null,
   "metadata": {},
   "outputs": [],
   "source": [
    "# Train Model\n",
    "history = model.fit(X_train_series, y_train_series, validation_data=(X_val_series, y_val_series), epochs=cfg.epochs, callbacks=callbacks, batch_size=cfg.batch_size)\n"
   ]
  },
  {
   "cell_type": "code",
   "execution_count": null,
   "metadata": {},
   "outputs": [],
   "source": [
    "# Evaluate Model\n",
    "val_logits = model.predict(X_val_series, batch_size=60, verbose=1)\n"
   ]
  },
  {
   "cell_type": "code",
   "execution_count": null,
   "metadata": {},
   "outputs": [],
   "source": [
    "# free up memory\n",
    "# del X_train_series\n",
    "# del y_train_series\n",
    "# del X_val_series\n",
    "# del y_val_series\n",
    "\n",
    "# gc.collect()\n"
   ]
  },
  {
   "cell_type": "code",
   "execution_count": null,
   "metadata": {},
   "outputs": [],
   "source": [
    "# Log metrics to wandb\n",
    "y_pred_val_classes = np.argmax(val_logits, axis=1).tolist()\n",
    "\n",
    "cr = classification_report(y_val_series, y_pred_val_classes, target_names=classes)\n",
    "\n",
    "wandb.log({\"Classification Report\": cr})\n",
    "\n",
    "wandb.sklearn.plot_roc(y_val_series, val_logits, classes)\n",
    "wandb.sklearn.plot_class_proportions(y_train_series, y_val_series, classes)\n",
    "wandb.sklearn.plot_precision_recall(y_val_series, val_logits, classes)\n",
    "wandb.sklearn.plot_confusion_matrix(y_val_series, y_pred_val_classes, classes)\n",
    "wandb.join()\n"
   ]
  },
  {
   "cell_type": "code",
   "execution_count": null,
   "metadata": {},
   "outputs": [],
   "source": [
    "print(cr)"
   ]
  }
 ],
 "metadata": {
  "interpreter": {
   "hash": "045da2998f02dde6c755b0fa2e74d8766d7d056d6163358ab445ad432d6df67f"
  },
  "kernelspec": {
   "display_name": "Python 3 (ipykernel)",
   "language": "python",
   "name": "python3"
  },
  "language_info": {
   "codemirror_mode": {
    "name": "ipython",
    "version": 3
   },
   "file_extension": ".py",
   "mimetype": "text/x-python",
   "name": "python",
   "nbconvert_exporter": "python",
   "pygments_lexer": "ipython3",
   "version": "3.9.12"
  }
 },
 "nbformat": 4,
 "nbformat_minor": 4
}
