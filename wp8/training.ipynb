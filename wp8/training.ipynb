{
 "cells": [
  {
   "cell_type": "markdown",
   "metadata": {},
   "source": [
    "# Evaluating models on the dataset"
   ]
  },
  {
   "cell_type": "markdown",
   "metadata": {},
   "source": [
    "- Caricare i video\n",
    "- Preprocessing dei video (resize e normalizzazione)\n",
    "- Split train test\n",
    "- Estrazione features con CNN\n",
    "- passaggio features a LSTM per classificazione"
   ]
  },
  {
   "cell_type": "markdown",
   "metadata": {},
   "source": [
    "## Imports"
   ]
  },
  {
   "cell_type": "code",
   "execution_count": 2,
   "metadata": {},
   "outputs": [],
   "source": [
    "import tensorflow as tf\n",
    "import pandas as pd\n",
    "from tensorflow.keras.preprocessing.image import ImageDataGenerator"
   ]
  },
  {
   "cell_type": "markdown",
   "metadata": {},
   "source": [
    "### Paths"
   ]
  },
  {
   "cell_type": "code",
   "execution_count": null,
   "metadata": {},
   "outputs": [],
   "source": [
    "classes = pd.read_excel(filepath = 'wp8/excel_sheets/labels/labels.xlsx', sheet_name='labels')['labels'].tolist()\n",
    "frames = ''\n",
    "\n",
    "dataset.head()"
   ]
  },
  {
   "cell_type": "code",
   "execution_count": null,
   "metadata": {},
   "outputs": [],
   "source": [
    "dataset = pd.concat(pd.read_excel(\"excel_sheets/dataset/dataset.xlsx\", sheet_name=None, skiprows=1 ), ignore_index=True)\n",
    "dataset.reset_index(drop=True)"
   ]
  },
  {
   "cell_type": "markdown",
   "metadata": {},
   "source": [
    "### Hyperparameters"
   ]
  },
  {
   "cell_type": "code",
   "execution_count": null,
   "metadata": {},
   "outputs": [],
   "source": [
    "TARGET_SIZE = (224,224)\n",
    "BATCH_SIZE = 32"
   ]
  },
  {
   "cell_type": "markdown",
   "metadata": {},
   "source": [
    "### Data preparation"
   ]
  },
  {
   "cell_type": "code",
   "execution_count": 5,
   "metadata": {},
   "outputs": [],
   "source": [
    "def smart_resize_wrapper(x):\n",
    "  return tf.keras.preprocessing.image.smart_resize(x, TARGET_SIZE)\n",
    "\n",
    "datagen_args = dict(  rotation_range = 15,\n",
    "                      width_shift_range = 0.2,\n",
    "                      height_shift_range = 0.2,\n",
    "                      zoom_range = 0.2,\n",
    "                      horizontal_flip = True,\n",
    "                      validation_split = 0.2,\n",
    "                      preprocessing_function = smart_resize_wrapper\n",
    "                        )\n",
    "datagen = ImageDataGenerator(**datagen_args)\n",
    "seed = 1\n",
    "\n",
    "ds = datagen.flow_from_dataframe(\n",
    "    dataset,\n",
    "    directory=frames,\n",
    "    x_col='frame',\n",
    "    y_col='micro_labels',\n",
    "    color_mode='rgb',\n",
    "    classes=None,\n",
    "    class_mode=None,\n",
    "    batch_size=BATCH_SIZE,\n",
    "    shuffle=True,\n",
    "    seed=seed,\n",
    "    validate_filenames=True,\n",
    ")"
   ]
  },
  {
   "cell_type": "markdown",
   "metadata": {},
   "source": [
    "## Feature extractor"
   ]
  },
  {
   "cell_type": "code",
   "execution_count": null,
   "metadata": {},
   "outputs": [],
   "source": [
    "from tensorflow.keras.applications import EfficientNetV2L\n",
    "input_shape = TARGET_SIZE + (3,)\n",
    "model = EfficientNetV2L(include_top = False, weights = 'imagenet', input_shape = input_shape, pooling = 'avg')\n",
    "\n",
    "features = model.predict(ds)"
   ]
  }
 ],
 "metadata": {
  "interpreter": {
   "hash": "045da2998f02dde6c755b0fa2e74d8766d7d056d6163358ab445ad432d6df67f"
  },
  "kernelspec": {
   "display_name": "Python 3.10.4 ('ml')",
   "language": "python",
   "name": "python3"
  },
  "language_info": {
   "codemirror_mode": {
    "name": "ipython",
    "version": 3
   },
   "file_extension": ".py",
   "mimetype": "text/x-python",
   "name": "python",
   "nbconvert_exporter": "python",
   "pygments_lexer": "ipython3",
   "version": "3.9.12"
  },
  "orig_nbformat": 4
 },
 "nbformat": 4,
 "nbformat_minor": 2
}
